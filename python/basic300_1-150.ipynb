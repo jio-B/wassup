{
 "cells": [
  {
   "cell_type": "markdown",
   "id": "d13e0a21",
   "metadata": {},
   "source": [
    "# 초보자를 위한 파이썬 300제\n",
    "- https://wikidocs.net/book/922"
   ]
  },
  {
   "cell_type": "markdown",
   "id": "01d5fae9",
   "metadata": {},
   "source": [
    "## 001 ~ 010"
   ]
  },
  {
   "cell_type": "code",
   "execution_count": 1,
   "id": "55202b3e",
   "metadata": {},
   "outputs": [
    {
     "name": "stdout",
     "output_type": "stream",
     "text": [
      "Hello World!\n"
     ]
    }
   ],
   "source": [
    "print('Hello World!')"
   ]
  },
  {
   "cell_type": "code",
   "execution_count": 2,
   "id": "06a20a13",
   "metadata": {},
   "outputs": [
    {
     "name": "stdout",
     "output_type": "stream",
     "text": [
      "Mary's cosmetics\n"
     ]
    }
   ],
   "source": [
    "print(\"Mary's cosmetics\")"
   ]
  },
  {
   "cell_type": "code",
   "execution_count": 3,
   "id": "37b54e19",
   "metadata": {},
   "outputs": [
    {
     "name": "stdout",
     "output_type": "stream",
     "text": [
      "신씨가 소리 질렀다. \"도둑이야!\"\n"
     ]
    }
   ],
   "source": [
    "print('신씨가 소리 질렀다. \"도둑이야!\"')"
   ]
  },
  {
   "cell_type": "code",
   "execution_count": 30,
   "id": "95e20b41",
   "metadata": {},
   "outputs": [
    {
     "name": "stdout",
     "output_type": "stream",
     "text": [
      "C:\\Windows C:/Windows\n"
     ]
    }
   ],
   "source": [
    "print('C:\\Windows' , 'C:/Windows')   # 확인할 것: \\ , / "
   ]
  },
  {
   "cell_type": "markdown",
   "id": "c53994d3",
   "metadata": {},
   "source": [
    "- 줄바꿈, 탭"
   ]
  },
  {
   "cell_type": "code",
   "execution_count": 9,
   "id": "4c0d87f0",
   "metadata": {},
   "outputs": [
    {
     "name": "stdout",
     "output_type": "stream",
     "text": [
      "안녕하세요. \n",
      "만나서\t\t반값습니다.\n"
     ]
    }
   ],
   "source": [
    "print(\"안녕하세요. \\n만나서\\t\\t반값습니다.\")\n",
    "# \\n 줄바꿈\n",
    "# \\t tab"
   ]
  },
  {
   "cell_type": "code",
   "execution_count": 10,
   "id": "370df316",
   "metadata": {
    "scrolled": true
   },
   "outputs": [
    {
     "name": "stdout",
     "output_type": "stream",
     "text": [
      "오늘은 일요일\n"
     ]
    }
   ],
   "source": [
    "print(\"오늘은\", \"일요일\")"
   ]
  },
  {
   "cell_type": "markdown",
   "id": "67992d38",
   "metadata": {},
   "source": [
    "- print() 출력내용 구분짓기"
   ]
  },
  {
   "cell_type": "code",
   "execution_count": 16,
   "id": "1b088c24",
   "metadata": {},
   "outputs": [
    {
     "name": "stdout",
     "output_type": "stream",
     "text": [
      "naver;kakao;sk;samaung\n"
     ]
    }
   ],
   "source": [
    "print(\"naver\", \"kakao\", \"sk\", \"samaung\", sep=';')"
   ]
  },
  {
   "cell_type": "code",
   "execution_count": 12,
   "id": "a559fb21",
   "metadata": {},
   "outputs": [
    {
     "name": "stdout",
     "output_type": "stream",
     "text": [
      "naver/kakao/sk/samsung\n"
     ]
    }
   ],
   "source": [
    "print(\"naver\", \"kakao\", \"sk\", \"samsung\", sep='/')"
   ]
  },
  {
   "cell_type": "markdown",
   "id": "5ea22bf6",
   "metadata": {},
   "source": [
    "- 줄바꿈 없이 출력\n",
    "- 세미콜론(;)은 한줄에 여러 개의 명령어 작성할 때 사용"
   ]
  },
  {
   "cell_type": "code",
   "execution_count": 21,
   "id": "251b701f",
   "metadata": {},
   "outputs": [
    {
     "name": "stdout",
     "output_type": "stream",
     "text": [
      "first second\n"
     ]
    }
   ],
   "source": [
    "print(\"first\", end=\" \"); print('second')"
   ]
  },
  {
   "cell_type": "code",
   "execution_count": 23,
   "id": "0b04213f",
   "metadata": {},
   "outputs": [
    {
     "name": "stdout",
     "output_type": "stream",
     "text": [
      "1.6666666666666667\n"
     ]
    }
   ],
   "source": [
    "#a = 5/3\n",
    "#print(a)\n",
    "\n",
    "print(5/3)"
   ]
  },
  {
   "cell_type": "code",
   "execution_count": 1,
   "id": "22deb03b",
   "metadata": {},
   "outputs": [
    {
     "name": "stdout",
     "output_type": "stream",
     "text": [
      "naver:kakao:samsung\n",
      "naver:kakao:samsung\n"
     ]
    }
   ],
   "source": [
    "# 7번, 8번 => join 사용해도 됨\n",
    " \n",
    "a = (\"naver\", \"kakao\", \"samsung\")\n",
    "b = \":\".join(a)\n",
    "\n",
    "print(\"naver\", \"kakao\", \"samsung\", sep=\":\")\n",
    "print(b)"
   ]
  },
  {
   "cell_type": "code",
   "execution_count": 2,
   "id": "bfff1e1e",
   "metadata": {},
   "outputs": [
    {
     "name": "stdout",
     "output_type": "stream",
     "text": [
      "naver/kakao/samsung\n",
      "naver/kakao/samsung\n"
     ]
    }
   ],
   "source": [
    "a = (\"naver\", \"kakao\", \"samsung\")\n",
    "b = \"/\".join(a)\n",
    "\n",
    "print(\"naver\", \"kakao\", \"samsung\", sep=\"/\")\n",
    "print(b)"
   ]
  },
  {
   "cell_type": "markdown",
   "id": "3b3f81ad",
   "metadata": {},
   "source": [
    "## 011 ~ 020"
   ]
  },
  {
   "cell_type": "code",
   "execution_count": 27,
   "id": "14d7310b",
   "metadata": {},
   "outputs": [
    {
     "name": "stdout",
     "output_type": "stream",
     "text": [
      "500000\n"
     ]
    }
   ],
   "source": [
    "삼성전자 = 50000\n",
    "총평가금액 = 삼성전자 * 10\n",
    "print(총평가금액)"
   ]
  },
  {
   "cell_type": "markdown",
   "id": "7704a3ad",
   "metadata": {},
   "source": [
    "|항목|값|\n",
    "|:-----:|:---:|\n",
    "|시가총액|298조|\n",
    "|현재가|50,000원|\n",
    "|PER|15.79|"
   ]
  },
  {
   "cell_type": "code",
   "execution_count": 31,
   "id": "5497babe",
   "metadata": {},
   "outputs": [
    {
     "name": "stdout",
     "output_type": "stream",
     "text": [
      "298000000000000\n",
      "50000\n",
      "15.79\n"
     ]
    }
   ],
   "source": [
    "시가총액 = 298000000000000\n",
    "현재가 = 50000\n",
    "PER = 15.79\n",
    "\n",
    "print(시가총액)\n",
    "print(현재가)\n",
    "print(PER)"
   ]
  },
  {
   "cell_type": "code",
   "execution_count": 35,
   "id": "910526ab",
   "metadata": {},
   "outputs": [
    {
     "name": "stdout",
     "output_type": "stream",
     "text": [
      "hello! python\n"
     ]
    }
   ],
   "source": [
    "s = \"hello\"\n",
    "t = \"python\"\n",
    "print(s+'!', t)"
   ]
  },
  {
   "cell_type": "code",
   "execution_count": 5,
   "id": "272b695e",
   "metadata": {},
   "outputs": [
    {
     "data": {
      "text/plain": [
       "8"
      ]
     },
     "execution_count": 5,
     "metadata": {},
     "output_type": "execute_result"
    }
   ],
   "source": [
    "2 + 2 * 3  # 사칙연산은 곱셈, 나눗셈이 덧셈 뺄셈보다 먼저 계산됨"
   ]
  },
  {
   "cell_type": "code",
   "execution_count": 6,
   "id": "510ca368",
   "metadata": {},
   "outputs": [
    {
     "name": "stdout",
     "output_type": "stream",
     "text": [
      "<class 'int'>\n"
     ]
    }
   ],
   "source": [
    "a = 128\n",
    "print(type(a))"
   ]
  },
  {
   "cell_type": "code",
   "execution_count": 7,
   "id": "339593b8",
   "metadata": {},
   "outputs": [
    {
     "data": {
      "text/plain": [
       "str"
      ]
     },
     "execution_count": 7,
     "metadata": {},
     "output_type": "execute_result"
    }
   ],
   "source": [
    "a = \"132\"\n",
    "type(a)   # 정수에 \"\" 따옴표 붙이면 문자열로 인식"
   ]
  },
  {
   "cell_type": "code",
   "execution_count": 11,
   "id": "5193f83b",
   "metadata": {},
   "outputs": [
    {
     "data": {
      "text/plain": [
       "int"
      ]
     },
     "execution_count": 11,
     "metadata": {},
     "output_type": "execute_result"
    }
   ],
   "source": [
    "# 16번 문제\n",
    "\n",
    "num_str = \"720\"\n",
    "num_int = int(num_str)\n",
    "type(num_int)"
   ]
  },
  {
   "cell_type": "code",
   "execution_count": 3,
   "id": "aac35b55",
   "metadata": {},
   "outputs": [
    {
     "name": "stdout",
     "output_type": "stream",
     "text": [
      "721.0 <class 'float'>\n"
     ]
    }
   ],
   "source": [
    "# 16번 int말고 float으로도 변환할 수 있음\n",
    "# 연산값을 출력하여 제대로 되어 있는지 확인\n",
    "\n",
    "num_str = '720'\n",
    "num_float = float(num_str)\n",
    "print(num_float+1, type(num_float))"
   ]
  },
  {
   "cell_type": "code",
   "execution_count": 12,
   "id": "049151e9",
   "metadata": {},
   "outputs": [
    {
     "name": "stdout",
     "output_type": "stream",
     "text": [
      "100 <class 'str'>\n"
     ]
    }
   ],
   "source": [
    "num = 100\n",
    "num_str = str(num)\n",
    "print(num_str, type(num_str))"
   ]
  },
  {
   "cell_type": "code",
   "execution_count": 14,
   "id": "e62e78c1",
   "metadata": {},
   "outputs": [
    {
     "name": "stdout",
     "output_type": "stream",
     "text": [
      "15.79 <class 'float'>\n"
     ]
    }
   ],
   "source": [
    "str = \"15.79\"\n",
    "result_float = float(str)\n",
    "print(result_float, type(result_float))"
   ]
  },
  {
   "cell_type": "code",
   "execution_count": 16,
   "id": "b02427da",
   "metadata": {},
   "outputs": [
    {
     "name": "stdout",
     "output_type": "stream",
     "text": [
      "2021 2022 2023\n",
      "2017 2018 2019\n"
     ]
    }
   ],
   "source": [
    "year = \"2020\"\n",
    "data = int(year)\n",
    "\n",
    "print(data+1, data+2, data+3)\n",
    "print(data-3, data-2, data-1)"
   ]
  },
  {
   "cell_type": "code",
   "execution_count": 17,
   "id": "d838ee11",
   "metadata": {},
   "outputs": [
    {
     "data": {
      "text/plain": [
       "'에어컨 구입 총금액 = 1749024원.'"
      ]
     },
     "execution_count": 17,
     "metadata": {},
     "output_type": "execute_result"
    }
   ],
   "source": [
    "# f 문자열도 섞어서 써보기\n",
    "m_price = 48584\n",
    "f'에어컨 구입 총금액 = {m_price * 36}원.'"
   ]
  },
  {
   "cell_type": "markdown",
   "id": "00e5a0de",
   "metadata": {},
   "source": [
    "## 021 ~ 030 "
   ]
  },
  {
   "cell_type": "code",
   "execution_count": 18,
   "id": "cdd44ecb",
   "metadata": {},
   "outputs": [
    {
     "name": "stdout",
     "output_type": "stream",
     "text": [
      "p t\n"
     ]
    }
   ],
   "source": [
    "letters = 'python'\n",
    "print(letters[0], letters[2])"
   ]
  },
  {
   "cell_type": "code",
   "execution_count": 20,
   "id": "e943fb7f",
   "metadata": {},
   "outputs": [
    {
     "name": "stdout",
     "output_type": "stream",
     "text": [
      "2210\n"
     ]
    }
   ],
   "source": [
    "license_plate = \"24가 2210\"\n",
    "print(license_plate[-4:])"
   ]
  },
  {
   "cell_type": "code",
   "execution_count": 21,
   "id": "d2811ec5",
   "metadata": {},
   "outputs": [
    {
     "name": "stdout",
     "output_type": "stream",
     "text": [
      "홀 홀 홀\n"
     ]
    }
   ],
   "source": [
    "# '홀'만 출력하기 (1) 띄어쓰기 있는 ver.\n",
    "str = '홀짝홀짝홀짝'\n",
    "print(str[0], str[2], str[4])"
   ]
  },
  {
   "cell_type": "code",
   "execution_count": 22,
   "id": "f1c7c9e8",
   "metadata": {},
   "outputs": [
    {
     "name": "stdout",
     "output_type": "stream",
     "text": [
      "홀홀홀\n"
     ]
    }
   ],
   "source": [
    "# '홀'만 출력하기 (2) 띄어쓰기 없는 ver.\n",
    "# 슬라이싱 -> \"시작인덱스:마지막인덱스:오프셋\"  \n",
    "# 오프셋 = 단위\n",
    "\n",
    "str = '홀짝홀짝홀짝'\n",
    "print(str[::2])  # 처음부터 끝까지 2씩 건너뛰며 출력"
   ]
  },
  {
   "cell_type": "code",
   "execution_count": 24,
   "id": "f73ad5cb",
   "metadata": {},
   "outputs": [
    {
     "name": "stdout",
     "output_type": "stream",
     "text": [
      "NOHTYP\n"
     ]
    }
   ],
   "source": [
    "# 문자열 거꾸로 뒤집어 출력\n",
    "str = \"PYTHON\"\n",
    "print(str[::-1])  # 처음부터 끝까지 -1씩 건너뛰며 출력 = 뒤에서 앞까지 1씩 역순으로 출력"
   ]
  },
  {
   "cell_type": "code",
   "execution_count": 37,
   "id": "2043316c",
   "metadata": {},
   "outputs": [
    {
     "data": {
      "text/plain": [
       "'010 1111 2222'"
      ]
     },
     "execution_count": 37,
     "metadata": {},
     "output_type": "execute_result"
    }
   ],
   "source": [
    "# 25 번\n",
    "# 문자열 치환\n",
    "# 연락처에서 하이픈(-)만 빼고 출력하기 (1) 간편한 방법\n",
    "\n",
    "phone_number = \"010-1111-2222\"\n",
    "phone_number.replace(\"-\", \" \")"
   ]
  },
  {
   "cell_type": "code",
   "execution_count": 35,
   "id": "c6fbbfb4",
   "metadata": {},
   "outputs": [
    {
     "name": "stdout",
     "output_type": "stream",
     "text": [
      "01011112222\n"
     ]
    }
   ],
   "source": [
    "# 연락처에서 하이픈(-)만 빼고 출력하기 (2) 손이 고생하는 방법 ㅠㅠ\n",
    "\n",
    "phone_number = \"010-1111-2222\"\n",
    "print(phone_number[0:3]+phone_number[4:8]+phone_number[9:])"
   ]
  },
  {
   "cell_type": "code",
   "execution_count": 38,
   "id": "9d245adf",
   "metadata": {},
   "outputs": [
    {
     "data": {
      "text/plain": [
       "'01011112222'"
      ]
     },
     "execution_count": 38,
     "metadata": {},
     "output_type": "execute_result"
    }
   ],
   "source": [
    "# 26번 : 25번 문제의 전화번호를 하이픈 제거 + 공백없이 출력\n",
    "\n",
    "phone_number = \"010-1111-2222\"\n",
    "phone_number.replace(\"-\", \"\")"
   ]
  },
  {
   "cell_type": "code",
   "execution_count": 48,
   "id": "52743ca7",
   "metadata": {},
   "outputs": [
    {
     "name": "stdout",
     "output_type": "stream",
     "text": [
      "kr\n"
     ]
    }
   ],
   "source": [
    "# 27번\n",
    "# url에 저장된 웹페이지 주소에서 도메인 출력하기 (1) . 기준으로 쪼개기 + 인덱싱\n",
    "url = \"http://sharebook.kr\"\n",
    "url_cut = url.split(\".\")\n",
    "print(url_cut[-1])"
   ]
  },
  {
   "cell_type": "code",
   "execution_count": 41,
   "id": "2996a5e5",
   "metadata": {},
   "outputs": [
    {
     "name": "stdout",
     "output_type": "stream",
     "text": [
      "kr\n"
     ]
    }
   ],
   "source": [
    "# url에 저장된 웹페이지 주소에서 도메인 출력하기 (2) 슬라이싱\n",
    "url = \"http://sharebook.kr\"\n",
    "print(url[-2:])"
   ]
  },
  {
   "cell_type": "code",
   "execution_count": 50,
   "id": "011f029c",
   "metadata": {},
   "outputs": [
    {
     "ename": "TypeError",
     "evalue": "'str' object does not support item assignment",
     "output_type": "error",
     "traceback": [
      "\u001b[1;31m---------------------------------------------------------------------------\u001b[0m",
      "\u001b[1;31mTypeError\u001b[0m                                 Traceback (most recent call last)",
      "Cell \u001b[1;32mIn[50], line 2\u001b[0m\n\u001b[0;32m      1\u001b[0m lang \u001b[38;5;241m=\u001b[39m \u001b[38;5;124m'\u001b[39m\u001b[38;5;124mpython\u001b[39m\u001b[38;5;124m'\u001b[39m\n\u001b[1;32m----> 2\u001b[0m lang[\u001b[38;5;241m0\u001b[39m] \u001b[38;5;241m=\u001b[39m \u001b[38;5;124m'\u001b[39m\u001b[38;5;124mp\u001b[39m\u001b[38;5;124m'\u001b[39m\n\u001b[0;32m      3\u001b[0m \u001b[38;5;28mprint\u001b[39m(lang)\n",
      "\u001b[1;31mTypeError\u001b[0m: 'str' object does not support item assignment"
     ]
    }
   ],
   "source": [
    "lang = 'python'\n",
    "lang[0] = 'p'\n",
    "print(lang)  # 에러 원인 :  문자열은 수정할 수 없다(immutable)"
   ]
  },
  {
   "cell_type": "code",
   "execution_count": 54,
   "id": "7ede4c1f",
   "metadata": {},
   "outputs": [
    {
     "data": {
      "text/plain": [
       "'Abcde2A354A32A'"
      ]
     },
     "execution_count": 54,
     "metadata": {},
     "output_type": "execute_result"
    }
   ],
   "source": [
    "# 소문자 'a'를 대문자 'A'로 바꾸기\n",
    "\n",
    "string = 'abcde2a354a32a'\n",
    "string.replace('a', 'A')"
   ]
  },
  {
   "cell_type": "code",
   "execution_count": 57,
   "id": "d7b2d5e8",
   "metadata": {},
   "outputs": [
    {
     "name": "stdout",
     "output_type": "stream",
     "text": [
      "abcd\n"
     ]
    }
   ],
   "source": [
    "# 30번\n",
    "# replace 메서드는 원본 문자열은 보존한 채, 변경된 \"새로운 문자열 객체\"를 반환하는 것\n",
    "string = 'abcd'\n",
    "string.replace('b', 'B')\n",
    "print(string)   # 문자열은 수정 불가하므로 원본 문자열인 'abcd'가 그대로 출력됨"
   ]
  },
  {
   "cell_type": "markdown",
   "id": "e94a5f5b",
   "metadata": {},
   "source": [
    "## 031 ~ 040"
   ]
  },
  {
   "cell_type": "code",
   "execution_count": 58,
   "id": "b937e944",
   "metadata": {},
   "outputs": [
    {
     "name": "stdout",
     "output_type": "stream",
     "text": [
      "34\n"
     ]
    }
   ],
   "source": [
    "a = \"3\"\n",
    "b = \"4\"\n",
    "print(a+b)"
   ]
  },
  {
   "cell_type": "code",
   "execution_count": 60,
   "id": "5875effd",
   "metadata": {},
   "outputs": [
    {
     "name": "stdout",
     "output_type": "stream",
     "text": [
      "Hi Hi Hi \n"
     ]
    }
   ],
   "source": [
    "print(\"Hi \" * 3)"
   ]
  },
  {
   "cell_type": "code",
   "execution_count": 61,
   "id": "0e9c9a82",
   "metadata": {},
   "outputs": [
    {
     "name": "stdout",
     "output_type": "stream",
     "text": [
      "--------------------------------------------------------------------------------\n"
     ]
    }
   ],
   "source": [
    "print('-' * 80)"
   ]
  },
  {
   "cell_type": "code",
   "execution_count": 63,
   "id": "75f47f17",
   "metadata": {},
   "outputs": [
    {
     "name": "stdout",
     "output_type": "stream",
     "text": [
      "python java python java python java python java \n"
     ]
    }
   ],
   "source": [
    "t1 = 'python '\n",
    "t2 = 'java '\n",
    "\n",
    "print((t1+t2) * 4)"
   ]
  },
  {
   "cell_type": "code",
   "execution_count": 65,
   "id": "642e55f9",
   "metadata": {},
   "outputs": [],
   "source": [
    "# 35번 : f포맷팅\n",
    "name1 = \"김민수\"\n",
    "age1 = 10\n",
    "name2 = \"이철희\"\n",
    "age2 = 13"
   ]
  },
  {
   "cell_type": "code",
   "execution_count": 72,
   "id": "b32a6938",
   "metadata": {},
   "outputs": [
    {
     "name": "stdout",
     "output_type": "stream",
     "text": [
      "이름: 김민수 나이: 10\n",
      "이름: 이철희 나이: 13\n"
     ]
    }
   ],
   "source": [
    "print(\"이름: %s 나이: %d\" %(name1, age1))\n",
    "print('이름: %s 나이: %d' %(name2, age2))"
   ]
  },
  {
   "cell_type": "code",
   "execution_count": 75,
   "id": "b49a5bd2",
   "metadata": {},
   "outputs": [
    {
     "name": "stdout",
     "output_type": "stream",
     "text": [
      "이름: 김민수 나이: 10\n",
      "이름: 이철희 나이: 13\n"
     ]
    }
   ],
   "source": [
    "# 36번 : 35번 문제와 같은 결과물을 format() 메서드 이용해서 출력\n",
    "print(\"이름: {} 나이: {}\".format(name1, age1))\n",
    "print(\"이름: {} 나이: {}\".format(name2, age2))"
   ]
  },
  {
   "cell_type": "code",
   "execution_count": 80,
   "id": "4ec04a96",
   "metadata": {},
   "outputs": [
    {
     "name": "stdout",
     "output_type": "stream",
     "text": [
      "이름: 김민수 나이: 10\n",
      "이름: 이철희 나이: 13\n"
     ]
    }
   ],
   "source": [
    "# 37번 : 35번 문제와 같은 결과물을 f문자열 이용해서 출력\n",
    "print(f'이름: {name1} 나이: {age1}') \n",
    "print(f'이름: {name2} 나이: {age2}')"
   ]
  },
  {
   "cell_type": "code",
   "execution_count": 88,
   "id": "bfcafffa",
   "metadata": {},
   "outputs": [
    {
     "name": "stdout",
     "output_type": "stream",
     "text": [
      "5969782550 <class 'int'>\n"
     ]
    }
   ],
   "source": [
    "# 38번 : 문자열을 정수로 변환할 때...\n",
    "# 컴마 제거하기 : 방법 1 = 데이터 타입을 정수로 변환\n",
    "# 숫자형태의 문자열에 컴마가 포함되면 정수 변환이 바로 지원되지 않음\n",
    "# 문자열 replace로 컴마 제거한 후 정수로 타입을 변화해야 함\n",
    "상장주식수 = \"5,969,782,550\"\n",
    "\n",
    "제거 = 상장주식수.replace(',','')\n",
    "변환 = int(제거)\n",
    "print(변환, type(변환))"
   ]
  },
  {
   "cell_type": "code",
   "execution_count": 89,
   "id": "19863e0e",
   "metadata": {},
   "outputs": [
    {
     "name": "stdout",
     "output_type": "stream",
     "text": [
      "5969782550 <class 'str'>\n"
     ]
    }
   ],
   "source": [
    "# 컴마 제거하기 : 방법 2 = 데이터 타입을 정수로 변환 못함\n",
    "상장주식수 = \"5,969,782,550\"\n",
    "\n",
    "int_상장주식수 = 상장주식수.replace(',','')\n",
    "print(int_상장주식수, type(int_상장주식수))"
   ]
  },
  {
   "cell_type": "code",
   "execution_count": 92,
   "id": "2d79669d",
   "metadata": {},
   "outputs": [
    {
     "name": "stdout",
     "output_type": "stream",
     "text": [
      "2020/03\n"
     ]
    }
   ],
   "source": [
    "# 문자열 슬라이싱\n",
    "분기 = '2020/03(E) (IFRS연결)'\n",
    "print(분기[:7])"
   ]
  },
  {
   "cell_type": "code",
   "execution_count": 95,
   "id": "c206a852",
   "metadata": {},
   "outputs": [
    {
     "name": "stdout",
     "output_type": "stream",
     "text": [
      "삼성전자\n"
     ]
    }
   ],
   "source": [
    "# 문자열 공백 제거\n",
    "# 문자열은 수정 불가 = strip() 메서드는 원본 문자열은 유지하고, 공백이 제거된 \"새로운 문자열\"을 반환함\n",
    "data = \"   삼성전자    \"\n",
    "data1 = data.strip()\n",
    "print(data1)"
   ]
  },
  {
   "cell_type": "markdown",
   "id": "eee52b33",
   "metadata": {},
   "source": [
    "## 041 ~ 050"
   ]
  },
  {
   "cell_type": "code",
   "execution_count": 97,
   "id": "fddbaa2d",
   "metadata": {},
   "outputs": [
    {
     "name": "stdout",
     "output_type": "stream",
     "text": [
      "BTC_KRW\n"
     ]
    }
   ],
   "source": [
    "# 대문자로\n",
    "ticker = \"btc_krw\"\n",
    "ticker1 = ticker.upper()\n",
    "print(ticker1)"
   ]
  },
  {
   "cell_type": "code",
   "execution_count": 98,
   "id": "5e2bc780",
   "metadata": {},
   "outputs": [
    {
     "name": "stdout",
     "output_type": "stream",
     "text": [
      "btc_krw\n"
     ]
    }
   ],
   "source": [
    "# 소문자로\n",
    "ticker2 = ticker.lower()\n",
    "print(ticker2)"
   ]
  },
  {
   "cell_type": "code",
   "execution_count": 102,
   "id": "97e628ef",
   "metadata": {},
   "outputs": [
    {
     "name": "stdout",
     "output_type": "stream",
     "text": [
      "Hello\n"
     ]
    }
   ],
   "source": [
    "# 문자열 'hello' -> 'Hello'로 변경 \n",
    "# (방법1) capitalize 메서드\n",
    "a = 'hello'\n",
    "a = a.capitalize()\n",
    "print(a)"
   ]
  },
  {
   "cell_type": "code",
   "execution_count": 103,
   "id": "000b6b4a",
   "metadata": {},
   "outputs": [
    {
     "name": "stdout",
     "output_type": "stream",
     "text": [
      "Hello\n"
     ]
    }
   ],
   "source": [
    "# 문자열 'hello' -> 'Hello'로 변경 \n",
    "# (방법2)\n",
    "str1 = 'hello'\n",
    "str2 = str1.replace('h', 'H')\n",
    "print(str2)"
   ]
  },
  {
   "cell_type": "code",
   "execution_count": 104,
   "id": "e0b0bde6",
   "metadata": {},
   "outputs": [
    {
     "data": {
      "text/plain": [
       "True"
      ]
     },
     "execution_count": 104,
     "metadata": {},
     "output_type": "execute_result"
    }
   ],
   "source": [
    "# 44번 : endswith()\n",
    "# 파일 이름이 문자열로 저장되어 있을 때, 파일이름이 'xlsx'로 끝나는지 확인\n",
    "\n",
    "file_name = \"보고서.xlsx\"\n",
    "file_name.endswith('xlsx')   # boolean"
   ]
  },
  {
   "cell_type": "code",
   "execution_count": 108,
   "id": "aeadcfae",
   "metadata": {},
   "outputs": [
    {
     "data": {
      "text/plain": [
       "True"
      ]
     },
     "execution_count": 108,
     "metadata": {},
     "output_type": "execute_result"
    }
   ],
   "source": [
    "# 파일 이름이 문자열로 저장되어 있을 때, 파일이름이 'xlsx' or 'xls'로 끝나는지 확인\n",
    "\n",
    "file_name = \"보고서.xlsx\"\n",
    "file_name.endswith((\"xlsx\", \"xls\"))  # 괄호 2개"
   ]
  },
  {
   "cell_type": "code",
   "execution_count": 111,
   "id": "260a0da3",
   "metadata": {},
   "outputs": [
    {
     "data": {
      "text/plain": [
       "True"
      ]
     },
     "execution_count": 111,
     "metadata": {},
     "output_type": "execute_result"
    }
   ],
   "source": [
    "# startswith()\n",
    "file_name = \"2020_보고서.xlsx\"\n",
    "file_name.startswith('2020')"
   ]
  },
  {
   "cell_type": "code",
   "execution_count": 113,
   "id": "2db146f9",
   "metadata": {},
   "outputs": [
    {
     "data": {
      "text/plain": [
       "['hello', 'world']"
      ]
     },
     "execution_count": 113,
     "metadata": {},
     "output_type": "execute_result"
    }
   ],
   "source": [
    "# split()\n",
    "# 공백을 기준으로 문자열 나누기\n",
    "\n",
    "a = 'hello world'\n",
    "a.split()"
   ]
  },
  {
   "cell_type": "code",
   "execution_count": 114,
   "id": "17137cec",
   "metadata": {},
   "outputs": [
    {
     "data": {
      "text/plain": [
       "['btc', 'krw']"
      ]
     },
     "execution_count": 114,
     "metadata": {},
     "output_type": "execute_result"
    }
   ],
   "source": [
    "ticker = \"btc_krw\"\n",
    "ticker.split('_')"
   ]
  },
  {
   "cell_type": "code",
   "execution_count": 115,
   "id": "cfbf799f",
   "metadata": {},
   "outputs": [
    {
     "data": {
      "text/plain": [
       "['2020', '05', '01']"
      ]
     },
     "execution_count": 115,
     "metadata": {},
     "output_type": "execute_result"
    }
   ],
   "source": [
    "# 날짜를 연도, 월, 일 나누기\n",
    "\n",
    "date = \"2020-05-01\"\n",
    "date.split(\"-\")"
   ]
  },
  {
   "cell_type": "code",
   "execution_count": 116,
   "id": "4fadd729",
   "metadata": {},
   "outputs": [
    {
     "data": {
      "text/plain": [
       "'039490'"
      ]
     },
     "execution_count": 116,
     "metadata": {},
     "output_type": "execute_result"
    }
   ],
   "source": [
    "# 문자열 오른쪽 공백 제거\n",
    "\n",
    "data = \"039490     \"\n",
    "data.rstrip()"
   ]
  },
  {
   "cell_type": "markdown",
   "id": "738c79a9",
   "metadata": {},
   "source": [
    "## 051 ~ 060"
   ]
  },
  {
   "cell_type": "markdown",
   "id": "28ba90e9",
   "metadata": {},
   "source": [
    "|순위|영화|\n",
    "|:--:|:--:|\n",
    "|1|닥터 스트레인지|\n",
    "|2|스플릿|\n",
    "|3|럭키|"
   ]
  },
  {
   "cell_type": "code",
   "execution_count": 123,
   "id": "538a02b8",
   "metadata": {},
   "outputs": [
    {
     "data": {
      "text/plain": [
       "list"
      ]
     },
     "execution_count": 123,
     "metadata": {},
     "output_type": "execute_result"
    }
   ],
   "source": [
    "# 리스트 생성\n",
    "movie_rank = [\"닥터 스트레인지\", \"스플릿\", \"럭키\"]\n",
    "type(movie_rank)"
   ]
  },
  {
   "cell_type": "code",
   "execution_count": 124,
   "id": "0358a4c4",
   "metadata": {},
   "outputs": [
    {
     "data": {
      "text/plain": [
       "['닥터 스트레인지', '스플릿', '럭키', '배트맨']"
      ]
     },
     "execution_count": 124,
     "metadata": {},
     "output_type": "execute_result"
    }
   ],
   "source": [
    "# 리스트 요소 추가(1) : 맨 뒤에\n",
    "\n",
    "movie_rank.append(\"배트맨\")\n",
    "movie_rank"
   ]
  },
  {
   "cell_type": "code",
   "execution_count": 125,
   "id": "0db24991",
   "metadata": {},
   "outputs": [
    {
     "name": "stdout",
     "output_type": "stream",
     "text": [
      "['닥터 스트레인지', '스플릿', '럭키', '배트맨']\n"
     ]
    }
   ],
   "source": [
    "print(movie_rank)"
   ]
  },
  {
   "cell_type": "code",
   "execution_count": 128,
   "id": "bd738bc8",
   "metadata": {},
   "outputs": [
    {
     "name": "stdout",
     "output_type": "stream",
     "text": [
      "['닥터 스트레인지', '슈퍼맨', '스플릿', '럭키', '배트맨']\n"
     ]
    }
   ],
   "source": [
    "# 리스트 요소 추가(2) : 특정 위치 지정 --->   .insert(인덱스,값)\n",
    "\n",
    "movie_rank.insert(1,\"슈퍼맨\")\n",
    "print(movie_rank)"
   ]
  },
  {
   "cell_type": "code",
   "execution_count": 129,
   "id": "8c49eb90",
   "metadata": {},
   "outputs": [
    {
     "name": "stdout",
     "output_type": "stream",
     "text": [
      "['닥터 스트레인지', '슈퍼맨', '스플릿', '배트맨']\n"
     ]
    }
   ],
   "source": [
    "# 리스트 요소 삭제 : 1개\n",
    "\n",
    "del movie_rank[3]\n",
    "print(movie_rank)"
   ]
  },
  {
   "cell_type": "code",
   "execution_count": 132,
   "id": "a25014e9",
   "metadata": {},
   "outputs": [
    {
     "name": "stdout",
     "output_type": "stream",
     "text": [
      "['닥터 스트레인지', '슈퍼맨']\n"
     ]
    }
   ],
   "source": [
    "# 리스트 요소 삭제 : 2개 이상\n",
    "# 리스트에서 특정 값 삭제 -> 남은 값들도 자동으로 새로 인덱싱\n",
    "# 두개 이상의 요소를 삭제할 땐, 어떤 값이 삭제된 후 남은 요소들의 순서를 새로 고려하여 인덱스 입력\n",
    "del movie_rank[2]\n",
    "del movie_rank[2]\n",
    "\n",
    "print(movie_rank)"
   ]
  },
  {
   "cell_type": "code",
   "execution_count": 134,
   "id": "4f9bc78e",
   "metadata": {},
   "outputs": [
    {
     "name": "stdout",
     "output_type": "stream",
     "text": [
      "['C', 'C++', 'JAVA', 'Python', 'Go', 'C#']\n"
     ]
    }
   ],
   "source": [
    "# 리스트 요소 합치기\n",
    "\n",
    "lang1 = ['C', 'C++', 'JAVA']\n",
    "lang2 = ['Python', 'Go', 'C#']\n",
    "\n",
    "langs = lang1 + lang2\n",
    "print(langs)"
   ]
  },
  {
   "cell_type": "code",
   "execution_count": 138,
   "id": "d5bba3b0",
   "metadata": {},
   "outputs": [
    {
     "name": "stdout",
     "output_type": "stream",
     "text": [
      "max : 7\n",
      "min : 1\n"
     ]
    }
   ],
   "source": [
    "# 최댓값, 최솟값\n",
    "nums = [1, 2, 3, 4, 5, 6, 7]\n",
    "\n",
    "print(\"max :\", max(nums))\n",
    "print(\"min :\", min(nums))"
   ]
  },
  {
   "cell_type": "code",
   "execution_count": 139,
   "id": "bddb0a01",
   "metadata": {},
   "outputs": [
    {
     "data": {
      "text/plain": [
       "15"
      ]
     },
     "execution_count": 139,
     "metadata": {},
     "output_type": "execute_result"
    }
   ],
   "source": [
    "# 리스트의 합 출력\n",
    "nums = [1, 2, 3, 4, 5]\n",
    "\n",
    "sum(nums)"
   ]
  },
  {
   "cell_type": "code",
   "execution_count": 140,
   "id": "8ae05f68",
   "metadata": {},
   "outputs": [
    {
     "data": {
      "text/plain": [
       "12"
      ]
     },
     "execution_count": 140,
     "metadata": {},
     "output_type": "execute_result"
    }
   ],
   "source": [
    "# 리스트에 저장된 데이터의 개수\n",
    "\n",
    "cook = ['피자', '김밥', '만두', '양념치킨', '족발', '피자', '김치만두', '쫄면', '소시지', '라면', '팥빙수', '김치전']\n",
    "len(cook)"
   ]
  },
  {
   "cell_type": "code",
   "execution_count": 145,
   "id": "45d25c72",
   "metadata": {},
   "outputs": [
    {
     "name": "stdout",
     "output_type": "stream",
     "text": [
      "3.0\n"
     ]
    }
   ],
   "source": [
    "nums = [1, 2, 3, 4, 5]\n",
    "\n",
    "average = sum(nums) / len(nums)\n",
    "print(average)"
   ]
  },
  {
   "cell_type": "markdown",
   "id": "898c0297",
   "metadata": {},
   "source": [
    "## 061 ~ 070"
   ]
  },
  {
   "cell_type": "code",
   "execution_count": 146,
   "id": "c518f059",
   "metadata": {},
   "outputs": [
    {
     "data": {
      "text/plain": [
       "[100, 130, 140, 150, 160, 170]"
      ]
     },
     "execution_count": 146,
     "metadata": {},
     "output_type": "execute_result"
    }
   ],
   "source": [
    "# price 변수에서 (날짜 정보 제외하고) 가격 정보만 출력\n",
    "price = ['20180728', 100, 130, 140, 150, 160, 170]\n",
    "\n",
    "price[1:]"
   ]
  },
  {
   "cell_type": "code",
   "execution_count": 147,
   "id": "268ef7a2",
   "metadata": {},
   "outputs": [
    {
     "data": {
      "text/plain": [
       "[1, 3, 5, 7, 9]"
      ]
     },
     "execution_count": 147,
     "metadata": {},
     "output_type": "execute_result"
    }
   ],
   "source": [
    "# 슬라이싱 활용해서 홀수만 출력\n",
    "nums = [1, 2, 3, 4, 5, 6, 7, 8, 9, 10]\n",
    "\n",
    "nums[::2]"
   ]
  },
  {
   "cell_type": "code",
   "execution_count": 149,
   "id": "26b7fb18",
   "metadata": {},
   "outputs": [
    {
     "data": {
      "text/plain": [
       "[2, 4, 6, 8, 10]"
      ]
     },
     "execution_count": 149,
     "metadata": {},
     "output_type": "execute_result"
    }
   ],
   "source": [
    "# 슬라이싱 활용해서 짝수만 출력\n",
    "nums = [1, 2, 3, 4, 5, 6, 7, 8, 9, 10]\n",
    "\n",
    "nums[1::2]"
   ]
  },
  {
   "cell_type": "code",
   "execution_count": 150,
   "id": "edbcbf29",
   "metadata": {},
   "outputs": [
    {
     "data": {
      "text/plain": [
       "[5, 4, 3, 2, 1]"
      ]
     },
     "execution_count": 150,
     "metadata": {},
     "output_type": "execute_result"
    }
   ],
   "source": [
    "# 슬라이싱 활용해서 리스트 숫자를 역순으로 출력\n",
    "nums = [1, 2, 3, 4, 5]\n",
    "\n",
    "nums[::-1]"
   ]
  },
  {
   "cell_type": "code",
   "execution_count": 153,
   "id": "b3eba140",
   "metadata": {},
   "outputs": [
    {
     "name": "stdout",
     "output_type": "stream",
     "text": [
      "삼성전자 Naver\n"
     ]
    }
   ],
   "source": [
    "interest = ['삼성전자', 'LG전자', 'Naver']\n",
    "\n",
    "print(interest[0], interest[2])"
   ]
  },
  {
   "cell_type": "code",
   "execution_count": 155,
   "id": "fe2e583c",
   "metadata": {},
   "outputs": [
    {
     "name": "stdout",
     "output_type": "stream",
     "text": [
      "삼성전자 LG전자 Naver SK하이닉스 미래에셋대우\n"
     ]
    }
   ],
   "source": [
    "# join()\n",
    "interest = ['삼성전자', 'LG전자', 'Naver', 'SK하이닉스', '미래에셋대우']\n",
    "\n",
    "print(\" \".join(interest))\n"
   ]
  },
  {
   "cell_type": "code",
   "execution_count": 156,
   "id": "1a16d914",
   "metadata": {},
   "outputs": [
    {
     "name": "stdout",
     "output_type": "stream",
     "text": [
      "삼성전자/LG전자/Naver/SK하이닉스/미래에셋대우\n"
     ]
    }
   ],
   "source": [
    "print(\"/\".join(interest))"
   ]
  },
  {
   "cell_type": "code",
   "execution_count": 159,
   "id": "4fc6bfbd",
   "metadata": {},
   "outputs": [
    {
     "name": "stdout",
     "output_type": "stream",
     "text": [
      "삼성전자 \n",
      "LG전자 \n",
      "Naver \n",
      "SK하이닉스 \n",
      "미래에셋대우\n"
     ]
    }
   ],
   "source": [
    "print(' \\n'.join(interest))"
   ]
  },
  {
   "cell_type": "code",
   "execution_count": 167,
   "id": "111a270e",
   "metadata": {},
   "outputs": [
    {
     "name": "stdout",
     "output_type": "stream",
     "text": [
      "['삼성전자', 'LG전자', 'Naver'] <class 'list'>\n"
     ]
    }
   ],
   "source": [
    "# 회사 이름을 interest 리스트로 분리하여 저장\n",
    "string = \"삼성전자/LG전자/Naver\"\n",
    "\n",
    "interest = string.split('/')\n",
    "print(interest, type(interest))"
   ]
  },
  {
   "cell_type": "code",
   "execution_count": 173,
   "id": "2bfe82ec",
   "metadata": {},
   "outputs": [
    {
     "name": "stdout",
     "output_type": "stream",
     "text": [
      "[1, 2, 3, 4, 5, 9, 10]\n"
     ]
    }
   ],
   "source": [
    "# 리스트 값 오름차순 정리 (방법1)   .sort()\n",
    "data = [2, 4, 3, 1, 5, 10, 9]\n",
    "data.sort()\n",
    "print(data)"
   ]
  },
  {
   "cell_type": "code",
   "execution_count": 175,
   "id": "aae9ba7b",
   "metadata": {},
   "outputs": [
    {
     "name": "stdout",
     "output_type": "stream",
     "text": [
      "[1, 2, 3, 4, 5, 9, 10]\n"
     ]
    }
   ],
   "source": [
    "# 리스트 값 오름차순 정리 (방법2)     .sorted()\n",
    "data = [2, 4, 3, 1, 5, 10, 9]\n",
    "data2 = sorted(data)\n",
    "print(data2)"
   ]
  },
  {
   "cell_type": "markdown",
   "id": "15dbc4cf",
   "metadata": {},
   "source": [
    "## 071 ~ 080"
   ]
  },
  {
   "cell_type": "code",
   "execution_count": 179,
   "id": "0e1a2714",
   "metadata": {},
   "outputs": [
    {
     "name": "stdout",
     "output_type": "stream",
     "text": [
      "<class 'tuple'>\n"
     ]
    }
   ],
   "source": [
    "# my_variable 이름의 비어있는 튜플 만들기\n",
    "\n",
    "my_variable = ()\n",
    "print(type(my_variable))"
   ]
  },
  {
   "cell_type": "markdown",
   "id": "da98ce59",
   "metadata": {},
   "source": [
    "|순위|영화|\n",
    "|:--:|:--:|\n",
    "|1|닥터 스트레인지|\n",
    "|2|스플릿|\n",
    "|3|럭키|"
   ]
  },
  {
   "cell_type": "code",
   "execution_count": 182,
   "id": "60ec9c74",
   "metadata": {},
   "outputs": [
    {
     "name": "stdout",
     "output_type": "stream",
     "text": [
      "('닥터 스트레인지', '스플릿', '럭키') <class 'tuple'>\n"
     ]
    }
   ],
   "source": [
    "movie_rank = ('닥터 스트레인지', '스플릿', '럭키')\n",
    "print(movie_rank, type(movie_rank))"
   ]
  },
  {
   "cell_type": "code",
   "execution_count": 236,
   "id": "5ec363cd",
   "metadata": {},
   "outputs": [
    {
     "name": "stdout",
     "output_type": "stream",
     "text": [
      "(1,) <class 'tuple'>\n"
     ]
    }
   ],
   "source": [
    "# 숫자 1이 저장된 튜플 생성\n",
    "t = (1, )\n",
    "print(t, type(t))"
   ]
  },
  {
   "cell_type": "code",
   "execution_count": 242,
   "id": "14007249",
   "metadata": {},
   "outputs": [
    {
     "ename": "TypeError",
     "evalue": "'tuple' object does not support item assignment",
     "output_type": "error",
     "traceback": [
      "\u001b[1;31m---------------------------------------------------------------------------\u001b[0m",
      "\u001b[1;31mTypeError\u001b[0m                                 Traceback (most recent call last)",
      "Cell \u001b[1;32mIn[242], line 4\u001b[0m\n\u001b[0;32m      1\u001b[0m \u001b[38;5;66;03m# 코드오류 원인 찾기  -> 튜플은 수정 불가(immutable)\u001b[39;00m\n\u001b[0;32m      3\u001b[0m t \u001b[38;5;241m=\u001b[39m (\u001b[38;5;241m1\u001b[39m, \u001b[38;5;241m2\u001b[39m, \u001b[38;5;241m3\u001b[39m)\n\u001b[1;32m----> 4\u001b[0m t[\u001b[38;5;241m0\u001b[39m] \u001b[38;5;241m=\u001b[39m \u001b[38;5;124m'\u001b[39m\u001b[38;5;124ma\u001b[39m\u001b[38;5;124m'\u001b[39m\n",
      "\u001b[1;31mTypeError\u001b[0m: 'tuple' object does not support item assignment"
     ]
    }
   ],
   "source": [
    "# 코드오류 원인 찾기  -> 튜플은 수정 불가(immutable)\n",
    "\n",
    "t = (1, 2, 3)\n",
    "t[0] = 'a'\n"
   ]
  },
  {
   "cell_type": "code",
   "execution_count": 7,
   "id": "5c559d27",
   "metadata": {},
   "outputs": [
    {
     "data": {
      "text/plain": [
       "tuple"
      ]
     },
     "execution_count": 7,
     "metadata": {},
     "output_type": "execute_result"
    }
   ],
   "source": [
    "# 튜플은 괄호 생략 가능\n",
    "t = 1, 2, 3, 4\n",
    "type(t)"
   ]
  },
  {
   "cell_type": "code",
   "execution_count": 8,
   "id": "24dc1104",
   "metadata": {},
   "outputs": [
    {
     "ename": "TypeError",
     "evalue": "'tuple' object does not support item assignment",
     "output_type": "error",
     "traceback": [
      "\u001b[1;31m---------------------------------------------------------------------------\u001b[0m",
      "\u001b[1;31mTypeError\u001b[0m                                 Traceback (most recent call last)",
      "Cell \u001b[1;32mIn[8], line 4\u001b[0m\n\u001b[0;32m      1\u001b[0m \u001b[38;5;66;03m# 변수 t가 ('A', 'b', 'c') 튜플을 가리키도록 수정\u001b[39;00m\n\u001b[0;32m      2\u001b[0m t \u001b[38;5;241m=\u001b[39m (\u001b[38;5;124m'\u001b[39m\u001b[38;5;124ma\u001b[39m\u001b[38;5;124m'\u001b[39m, \u001b[38;5;124m'\u001b[39m\u001b[38;5;124mb\u001b[39m\u001b[38;5;124m'\u001b[39m, \u001b[38;5;124m'\u001b[39m\u001b[38;5;124mc\u001b[39m\u001b[38;5;124m'\u001b[39m)\n\u001b[1;32m----> 4\u001b[0m t[\u001b[38;5;241m0\u001b[39m] \u001b[38;5;241m=\u001b[39m \u001b[38;5;124m'\u001b[39m\u001b[38;5;124mA\u001b[39m\u001b[38;5;124m'\u001b[39m\n",
      "\u001b[1;31mTypeError\u001b[0m: 'tuple' object does not support item assignment"
     ]
    }
   ],
   "source": [
    "# 변수 t가 ('A', 'b', 'c') 튜플을 가리키도록 수정\n",
    "t = ('a', 'b', 'c')\n",
    "\n",
    "t[0] = 'A'  # 코드에러 원인 : 튜플은 수정이 불가하다"
   ]
  },
  {
   "cell_type": "code",
   "execution_count": 3,
   "id": "720c1d28",
   "metadata": {},
   "outputs": [
    {
     "data": {
      "text/plain": [
       "list"
      ]
     },
     "execution_count": 3,
     "metadata": {},
     "output_type": "execute_result"
    }
   ],
   "source": [
    "# 튜플 -> 리스트\n",
    "interest = ('삼성전자', 'LG전자', 'SK Hynix')\n",
    "\n",
    "data = list(interest)\n",
    "type(data)"
   ]
  },
  {
   "cell_type": "code",
   "execution_count": 4,
   "id": "61e482ae",
   "metadata": {},
   "outputs": [
    {
     "name": "stdout",
     "output_type": "stream",
     "text": [
      "('삼성전자', 'LG전자', 'SK Hynix')\n"
     ]
    }
   ],
   "source": [
    "# 78 번\n",
    "# 리스트 -> 튜플\n",
    "interest = ['삼성전자', 'LG전자', 'SK Hynix']\n",
    "\n",
    "data = tuple(interest)\n",
    "print(data)"
   ]
  },
  {
   "cell_type": "code",
   "execution_count": 5,
   "id": "5c845d32",
   "metadata": {},
   "outputs": [
    {
     "name": "stdout",
     "output_type": "stream",
     "text": [
      "apple banana cake\n"
     ]
    }
   ],
   "source": [
    "# 튜플 언팩킹\n",
    "temp = ('apple', 'banana', 'cake')\n",
    "a, b, c = temp\n",
    "print(a, b, c)"
   ]
  },
  {
   "cell_type": "code",
   "execution_count": 6,
   "id": "51136ea9",
   "metadata": {},
   "outputs": [
    {
     "name": "stdout",
     "output_type": "stream",
     "text": [
      "(2, 4, 6, 8, 10, 12, 14, 16, 18, 20, 22, 24, 26, 28, 30, 32, 34, 36, 38, 40, 42, 44, 46, 48, 50, 52, 54, 56, 58, 60, 62, 64, 66, 68, 70, 72, 74, 76, 78, 80, 82, 84, 86, 88, 90, 92, 94, 96, 98)\n"
     ]
    }
   ],
   "source": [
    "# range 함수 \n",
    "# 1부터 99까지의 정수 중 짝수만 저장된 튜플 생성\n",
    "\n",
    "even_num = tuple(range(2, 100, 2))\n",
    "print(even_num)"
   ]
  },
  {
   "cell_type": "markdown",
   "id": "d6445cdd",
   "metadata": {},
   "source": [
    "## 081 ~ 090"
   ]
  },
  {
   "cell_type": "code",
   "execution_count": 10,
   "id": "cd3d1d12",
   "metadata": {},
   "outputs": [
    {
     "data": {
      "text/plain": [
       "(0, 1, [2, 3, 4, 5])"
      ]
     },
     "execution_count": 10,
     "metadata": {},
     "output_type": "execute_result"
    }
   ],
   "source": [
    "# 별 표현식 (star expression *)\n",
    "# 튜플에서 저장된 데이터 중에서 앞에 있는 두 개의 데이터만 필요할 경우, 나머지 데이터의 *을 이용해서 언패킹 코드 작성\n",
    "\n",
    "a, b, *c = (0, 1, 2, 3, 4, 5)\n",
    "a, b, c"
   ]
  },
  {
   "cell_type": "code",
   "execution_count": 13,
   "id": "2982c206",
   "metadata": {},
   "outputs": [
    {
     "name": "stdout",
     "output_type": "stream",
     "text": [
      "[8.8, 8.9, 8.7, 9.2, 9.3, 9.7, 9.9, 9.5]\n"
     ]
    }
   ],
   "source": [
    "# 81 번\n",
    "### 이해가 잘.... 안되는데??;;;;\n",
    "\n",
    "scores = [8.8, 8.9, 8.7, 9.2, 9.3, 9.7, 9.9, 9.5, 7.8, 9.4]\n",
    "\n",
    "# 좌측 8개 값만 반환\n",
    "# 정답으로 제시된 코드\n",
    "*valid_score, _, _ = scores\n",
    "print(valid_score)"
   ]
  },
  {
   "cell_type": "code",
   "execution_count": 14,
   "id": "166707e0",
   "metadata": {},
   "outputs": [
    {
     "data": {
      "text/plain": [
       "[8.8, 8.9, 8.7, 9.2, 9.3, 9.7, 9.9, 9.5]"
      ]
     },
     "execution_count": 14,
     "metadata": {},
     "output_type": "execute_result"
    }
   ],
   "source": [
    "# 내가 작성한 코드\n",
    "scores = [8.8, 8.9, 8.7, 9.2, 9.3, 9.7, 9.9, 9.5, 7.8, 9.4]\n",
    "\n",
    "*a, b, c = scores\n",
    "a"
   ]
  },
  {
   "cell_type": "code",
   "execution_count": 17,
   "id": "8c655dcb",
   "metadata": {},
   "outputs": [
    {
     "name": "stdout",
     "output_type": "stream",
     "text": [
      "[8.7, 9.2, 9.3, 9.7, 9.9, 9.5, 7.8, 9.4]\n"
     ]
    }
   ],
   "source": [
    "# 82 번\n",
    "# 우측 8개 값만 반환\n",
    "scores = [8.8, 8.9, 8.7, 9.2, 9.3, 9.7, 9.9, 9.5, 7.8, 9.4]\n",
    "\n",
    "# 내가 작성한 코드\n",
    "_, _, *valid_score = scores\n",
    "print(valid_score)"
   ]
  },
  {
   "cell_type": "code",
   "execution_count": 18,
   "id": "41697493",
   "metadata": {},
   "outputs": [
    {
     "name": "stdout",
     "output_type": "stream",
     "text": [
      "[8.7, 9.2, 9.3, 9.7, 9.9, 9.5, 7.8, 9.4]\n"
     ]
    }
   ],
   "source": [
    "# 정답으로 제시된 코드\n",
    "scores = [8.8, 8.9, 8.7, 9.2, 9.3, 9.7, 9.9, 9.5, 7.8, 9.4]\n",
    "\n",
    "a, b, *valid_score = scores\n",
    "print(valid_score)"
   ]
  },
  {
   "cell_type": "code",
   "execution_count": 19,
   "id": "b9cd4df8",
   "metadata": {},
   "outputs": [
    {
     "name": "stdout",
     "output_type": "stream",
     "text": [
      "[8.9, 8.7, 9.2, 9.3, 9.7, 9.9, 9.5, 7.8]\n"
     ]
    }
   ],
   "source": [
    "# 83 번\n",
    "# 가운데 8개 값만 반환\n",
    "scores = [8.8, 8.9, 8.7, 9.2, 9.3, 9.7, 9.9, 9.5, 7.8, 9.4]\n",
    "\n",
    "# 정답으로 제시된 코드\n",
    "a, *valid_score, b = scores\n",
    "print(valid_score)"
   ]
  },
  {
   "cell_type": "code",
   "execution_count": 20,
   "id": "6f100402",
   "metadata": {},
   "outputs": [
    {
     "name": "stdout",
     "output_type": "stream",
     "text": [
      "[8.9, 8.7, 9.2, 9.3, 9.7, 9.9, 9.5, 7.8]\n"
     ]
    }
   ],
   "source": [
    "scores = [8.8, 8.9, 8.7, 9.2, 9.3, 9.7, 9.9, 9.5, 7.8, 9.4]\n",
    "\n",
    "# 내가 작성한 코드\n",
    "_, *valid_score, _ = scores\n",
    "print(valid_score)"
   ]
  },
  {
   "cell_type": "code",
   "execution_count": 21,
   "id": "2c40ee84",
   "metadata": {},
   "outputs": [
    {
     "data": {
      "text/plain": [
       "{}"
      ]
     },
     "execution_count": 21,
     "metadata": {},
     "output_type": "execute_result"
    }
   ],
   "source": [
    "# 비어있는 딕셔너리\n",
    "\n",
    "temp = {}\n",
    "temp"
   ]
  },
  {
   "cell_type": "markdown",
   "id": "7729c7ad",
   "metadata": {},
   "source": [
    "|이름|희망 가격|\n",
    "|:--:|:-------:|\n",
    "|메로나|1000|\n",
    "|폴라포|1200|\n",
    "|빵빠레|1800|"
   ]
  },
  {
   "cell_type": "code",
   "execution_count": 23,
   "id": "549cdd07",
   "metadata": {},
   "outputs": [
    {
     "data": {
      "text/plain": [
       "{'메로나': 1000, '폴라포': 1200, '빵빠레': 1800}"
      ]
     },
     "execution_count": 23,
     "metadata": {},
     "output_type": "execute_result"
    }
   ],
   "source": [
    "ice = {'메로나':1000, '폴라포':1200, '빵빠레':1800}\n",
    "ice"
   ]
  },
  {
   "cell_type": "markdown",
   "id": "6609ab0c",
   "metadata": {},
   "source": [
    "|이름|희망 가격|\n",
    "|:--:|:-------:|\n",
    "|죠스바|1200|\n",
    "|월드콘|1500|"
   ]
  },
  {
   "cell_type": "code",
   "execution_count": 24,
   "id": "82089100",
   "metadata": {},
   "outputs": [
    {
     "data": {
      "text/plain": [
       "{'메로나': 1000, '폴라포': 1200, '빵빠레': 1800, '죠스바': 1200, '월드콘': 1800}"
      ]
     },
     "execution_count": 24,
     "metadata": {},
     "output_type": "execute_result"
    }
   ],
   "source": [
    "# 딕셔너리에 아이스크림 가격정보 추가\n",
    "\n",
    "ice['죠스바'] = 1200\n",
    "ice['월드콘'] = 1800\n",
    "\n",
    "ice"
   ]
  },
  {
   "cell_type": "code",
   "execution_count": 35,
   "id": "f8e491c3",
   "metadata": {},
   "outputs": [
    {
     "name": "stdout",
     "output_type": "stream",
     "text": [
      "메로나 가격 : 1000\n"
     ]
    }
   ],
   "source": [
    "ice = {'메로나': 1000,\n",
    "       '폴라포': 1200,\n",
    "       '빵빠레': 1800,\n",
    "       '죠스바': 1200,\n",
    "       '월드콘': 1500}\n",
    "# 다음 중 메로나 가격 출력하기\n",
    "\n",
    "print(('메로나 가격 :'), ice['메로나'])"
   ]
  },
  {
   "cell_type": "code",
   "execution_count": 36,
   "id": "64c7df84",
   "metadata": {},
   "outputs": [
    {
     "data": {
      "text/plain": [
       "1300"
      ]
     },
     "execution_count": 36,
     "metadata": {},
     "output_type": "execute_result"
    }
   ],
   "source": [
    "ice = {'메로나': 1000,\n",
    "       '폴라포': 1200,\n",
    "       '빵빠레': 1800,\n",
    "       '죠스바': 1200,\n",
    "       '월드콘': 1500}\n",
    "# 메로나 가격을 1300원으로 수정\n",
    "\n",
    "ice['메로나'] = 1300\n",
    "ice['메로나']"
   ]
  },
  {
   "cell_type": "code",
   "execution_count": 37,
   "id": "c406b8e8",
   "metadata": {},
   "outputs": [
    {
     "data": {
      "text/plain": [
       "{'폴라포': 1200, '빵빠레': 1800, '죠스바': 1200, '월드콘': 1500}"
      ]
     },
     "execution_count": 37,
     "metadata": {},
     "output_type": "execute_result"
    }
   ],
   "source": [
    "ice = {'메로나': 1000,\n",
    "       '폴라포': 1200,\n",
    "       '빵빠레': 1800,\n",
    "       '죠스바': 1200,\n",
    "       '월드콘': 1500}\n",
    "# 메로나 삭제\n",
    "\n",
    "del ice['메로나']\n",
    "ice"
   ]
  },
  {
   "cell_type": "code",
   "execution_count": null,
   "id": "99c3b89d",
   "metadata": {},
   "outputs": [],
   "source": [
    "# 다음 코드에서 에러가 발생한 원인 ---> 없는 키 값을 조회했으니까\n",
    "\n",
    "icecream = {'폴라포': 1200, '빵빠레': 1800, '월드콘': 1500, '메로나': 1000}\n",
    "icecream['누가바']\n",
    "\n",
    "\n",
    "''' Traceback (most recent call last):\n",
    "  File \"<pyshell#69>\", line 1, in <module>\n",
    "    icecream['누가바']\n",
    "KeyError: '누가바' '''"
   ]
  },
  {
   "cell_type": "markdown",
   "id": "61f48313",
   "metadata": {},
   "source": [
    "## 091 ~ 100"
   ]
  },
  {
   "cell_type": "markdown",
   "id": "3f076bbe",
   "metadata": {},
   "source": [
    "- 이름을 키값으로(가격, 재고) 리스트를 딕셔너리 값을 저장\n",
    "- 딕셔너리 이름은 inventory\n",
    "|이름|가격|재고|\n",
    "|:--:|:--:|:--:|\n",
    "|메로나|300|20|\n",
    "|비비빅|400|3|\n",
    "|죠스바|250|100|"
   ]
  },
  {
   "cell_type": "code",
   "execution_count": 40,
   "id": "c950e86f",
   "metadata": {},
   "outputs": [
    {
     "data": {
      "text/plain": [
       "{'메로나': [300, 20], '비비빅': [400, 3], '죠스바': [250, 100]}"
      ]
     },
     "execution_count": 40,
     "metadata": {},
     "output_type": "execute_result"
    }
   ],
   "source": [
    "inventory = {'메로나': [300, 20], '비비빅':[400,3], '죠스바':[250,100]}\n",
    "inventory"
   ]
  },
  {
   "cell_type": "code",
   "execution_count": 47,
   "id": "714d126c",
   "metadata": {},
   "outputs": [
    {
     "data": {
      "text/plain": [
       "300"
      ]
     },
     "execution_count": 47,
     "metadata": {},
     "output_type": "execute_result"
    }
   ],
   "source": [
    "inventory = {\"메로나\": [300, 20],\n",
    "              \"비비빅\": [400, 3],\n",
    "              \"죠스바\": [250, 100]}\n",
    "# 메로나 가격을 출력\n",
    "\n",
    "inventory['메로나'][0]"
   ]
  },
  {
   "cell_type": "code",
   "execution_count": 49,
   "id": "1f173c5e",
   "metadata": {},
   "outputs": [
    {
     "name": "stdout",
     "output_type": "stream",
     "text": [
      "메로나 재고: 20 개\n"
     ]
    }
   ],
   "source": [
    "inventory = {\"메로나\": [300, 20],\n",
    "              \"비비빅\": [400, 3],\n",
    "              \"죠스바\": [250, 100]}\n",
    "# 메로나 재고 출력\n",
    "\n",
    "print('메로나 재고:', inventory['메로나'][1], '개')"
   ]
  },
  {
   "cell_type": "code",
   "execution_count": 50,
   "id": "bc27d838",
   "metadata": {},
   "outputs": [
    {
     "data": {
      "text/plain": [
       "{'메로나': [300, 20], '비비빅': [400, 3], '죠스바': [250, 100], '월드콘': [500, 7]}"
      ]
     },
     "execution_count": 50,
     "metadata": {},
     "output_type": "execute_result"
    }
   ],
   "source": [
    "inventory = {\"메로나\": [300, 20],\n",
    "              \"비비빅\": [400, 3],\n",
    "              \"죠스바\": [250, 100]}\n",
    "# 데이터 추가 (월드콘, 500, 7)\n",
    "\n",
    "inventory['월드콘'] = [500, 7]\n",
    "inventory"
   ]
  },
  {
   "cell_type": "code",
   "execution_count": 59,
   "id": "693b49f7",
   "metadata": {},
   "outputs": [
    {
     "data": {
      "text/plain": [
       "['탱크보이', '폴라포', '빵빠레', '월드콘', '메로나']"
      ]
     },
     "execution_count": 59,
     "metadata": {},
     "output_type": "execute_result"
    }
   ],
   "source": [
    "# 다음 중 키값으로만 구성된 \"리스트\" 생성\n",
    "icecream = {'탱크보이': 1200, '폴라포': 1200, '빵빠레': 1800, '월드콘': 1500, '메로나': 1000}\n",
    "\n",
    "name = list(icecream.keys())\n",
    "name"
   ]
  },
  {
   "cell_type": "code",
   "execution_count": 61,
   "id": "8cfd39cf",
   "metadata": {},
   "outputs": [
    {
     "data": {
      "text/plain": [
       "[1200, 1200, 1800, 1500, 1000]"
      ]
     },
     "execution_count": 61,
     "metadata": {},
     "output_type": "execute_result"
    }
   ],
   "source": [
    "# 다음 중 value값으로만 구성된 \"리스트\" 생성\n",
    "icecream = {'탱크보이': 1200, '폴라포': 1200, '빵빠레': 1800, '월드콘': 1500, '메로나': 1000}\n",
    "\n",
    "price = list(icecream.values())\n",
    "price"
   ]
  },
  {
   "cell_type": "code",
   "execution_count": 62,
   "id": "ce43f89c",
   "metadata": {},
   "outputs": [
    {
     "data": {
      "text/plain": [
       "6700"
      ]
     },
     "execution_count": 62,
     "metadata": {},
     "output_type": "execute_result"
    }
   ],
   "source": [
    "# 아이스크림 판매금액 총합 출력\n",
    "icecream = {'탱크보이': 1200, '폴라포': 1200, '빵빠레': 1800, '월드콘': 1500, '메로나': 1000}\n",
    "\n",
    "total = sum(icecream.values())\n",
    "total"
   ]
  },
  {
   "cell_type": "code",
   "execution_count": 67,
   "id": "2fc0d5f6",
   "metadata": {},
   "outputs": [
    {
     "name": "stdout",
     "output_type": "stream",
     "text": [
      "{'탱크보이': 1200, '폴라포': 1200, '빵빠레': 1800, '월드콘': 1500, '메로나': 1000, '팥빙수': 2700, '아맛나': 1000}\n"
     ]
    }
   ],
   "source": [
    "# new dict 추가 \n",
    "icecream = {'탱크보이': 1200, '폴라포': 1200, '빵빠레': 1800, '월드콘': 1500, '메로나': 1000}\n",
    "new_product = {'팥빙수':2700, '아맛나':1000}\n",
    "\n",
    "icecream.update(new_product)\n",
    "print(icecream)"
   ]
  },
  {
   "cell_type": "code",
   "execution_count": 68,
   "id": "0e602acd",
   "metadata": {},
   "outputs": [
    {
     "data": {
      "text/plain": [
       "{'apple': 300, 'pear': 250, 'peach': 400}"
      ]
     },
     "execution_count": 68,
     "metadata": {},
     "output_type": "execute_result"
    }
   ],
   "source": [
    "# 99 번 --> 복습하기\n",
    "# 다음 두개의 튜플을 하나의 딕셔너리로 변환\n",
    "keys = (\"apple\", \"pear\", \"peach\")\n",
    "vals = (300, 250, 400)\n",
    "\n",
    "result = dict(zip(keys,vals))\n",
    "result"
   ]
  },
  {
   "cell_type": "code",
   "execution_count": 72,
   "id": "e2d507e3",
   "metadata": {},
   "outputs": [
    {
     "data": {
      "text/plain": [
       "{'09/05': 10500,\n",
       " '09/06': 10300,\n",
       " '09/07': 10100,\n",
       " '09/08': 10800,\n",
       " '09/09': 11000}"
      ]
     },
     "execution_count": 72,
     "metadata": {},
     "output_type": "execute_result"
    }
   ],
   "source": [
    "# 100 번 \n",
    "# 다음 두 개의 리스트를 close_test 이름의 딕셔너리로 생성\n",
    "date = ['09/05', '09/06', '09/07', '09/08', '09/09']\n",
    "close_price = [10500, 10300, 10100, 10800, 11000]\n",
    "\n",
    "close_table = dict(zip(date, close_price))\n",
    "close_table"
   ]
  },
  {
   "cell_type": "markdown",
   "id": "4d02d65e",
   "metadata": {},
   "source": [
    "## 101 ~ 110"
   ]
  },
  {
   "cell_type": "code",
   "execution_count": null,
   "id": "7c2e9861",
   "metadata": {},
   "outputs": [],
   "source": [
    "# 파이썬에서 True 또는 False를 갖는 데이터 타입?\n",
    "# Boolean"
   ]
  },
  {
   "cell_type": "code",
   "execution_count": 1,
   "id": "5d4506a8",
   "metadata": {},
   "outputs": [
    {
     "name": "stdout",
     "output_type": "stream",
     "text": [
      "False\n"
     ]
    }
   ],
   "source": [
    "# 출력결과 예상하기 : False\n",
    "# print(3 == 5)\n",
    "print(3 == 5)"
   ]
  },
  {
   "cell_type": "code",
   "execution_count": 2,
   "id": "15f35178",
   "metadata": {},
   "outputs": [
    {
     "name": "stdout",
     "output_type": "stream",
     "text": [
      "True\n"
     ]
    }
   ],
   "source": [
    "# 출력결과 예상하기 : True\n",
    "# print(3 < 5)\n",
    "print(3 < 5)"
   ]
  },
  {
   "cell_type": "code",
   "execution_count": 3,
   "id": "19ae0708",
   "metadata": {},
   "outputs": [
    {
     "name": "stdout",
     "output_type": "stream",
     "text": [
      "True\n"
     ]
    }
   ],
   "source": [
    "# 코드 결과 예상하기 : True\n",
    "x = 4\n",
    "print(1 < x < 5)"
   ]
  },
  {
   "cell_type": "code",
   "execution_count": 1,
   "id": "4966d01c",
   "metadata": {},
   "outputs": [
    {
     "name": "stdout",
     "output_type": "stream",
     "text": [
      "True\n"
     ]
    }
   ],
   "source": [
    "# 코드 결과 예상하기 : True\n",
    "print((3 ==3) and (4 != 3))"
   ]
  },
  {
   "cell_type": "code",
   "execution_count": 2,
   "id": "a39e2118",
   "metadata": {},
   "outputs": [
    {
     "ename": "SyntaxError",
     "evalue": "invalid syntax (2971168763.py, line 2)",
     "output_type": "error",
     "traceback": [
      "\u001b[1;36m  Cell \u001b[1;32mIn[2], line 2\u001b[1;36m\u001b[0m\n\u001b[1;33m    print(3 => 4)\u001b[0m\n\u001b[1;37m             ^\u001b[0m\n\u001b[1;31mSyntaxError\u001b[0m\u001b[1;31m:\u001b[0m invalid syntax\n"
     ]
    }
   ],
   "source": [
    "# 다음 코드에서 에러가 발생하는 원인 : 존재하지 않는 연산자 -_-..\n",
    "print(3 => 4)"
   ]
  },
  {
   "cell_type": "code",
   "execution_count": 3,
   "id": "4f81390a",
   "metadata": {},
   "outputs": [
    {
     "name": "stdout",
     "output_type": "stream",
     "text": [
      "Hi, there\n"
     ]
    }
   ],
   "source": [
    "# 코드 결과 예상하기 : Hi, there\n",
    "\n",
    "if 4 < 3 :\n",
    "    print('Hello Workld')\n",
    "else:\n",
    "    print('Hi, there')"
   ]
  },
  {
   "cell_type": "code",
   "execution_count": 4,
   "id": "3aa62ee4",
   "metadata": {},
   "outputs": [
    {
     "name": "stdout",
     "output_type": "stream",
     "text": [
      "1\n",
      "2\n",
      "4\n"
     ]
    }
   ],
   "source": [
    "# 코드 결과 예상하기 : 1 -> 2-> 4\n",
    "\n",
    "if True:\n",
    "    print('1')\n",
    "    print('2')\n",
    "else:\n",
    "    print('3')\n",
    "print('4')    "
   ]
  },
  {
   "cell_type": "code",
   "execution_count": 5,
   "id": "15364435",
   "metadata": {},
   "outputs": [
    {
     "name": "stdout",
     "output_type": "stream",
     "text": [
      "3\n",
      "5\n"
     ]
    }
   ],
   "source": [
    "# 코드 결과 예상하기 : 3 -> 5\n",
    "\n",
    "if True:\n",
    "    if False:\n",
    "        print('1')\n",
    "        print('2')\n",
    "    else:\n",
    "        print('3')\n",
    "else:\n",
    "    print('4')\n",
    "print('5')    "
   ]
  },
  {
   "cell_type": "markdown",
   "id": "5f53762b",
   "metadata": {},
   "source": [
    "## 111 ~ 120\n",
    "- https://wikidocs.net/7030"
   ]
  },
  {
   "cell_type": "code",
   "execution_count": 3,
   "id": "77cc04ad",
   "metadata": {},
   "outputs": [
    {
     "name": "stdout",
     "output_type": "stream",
     "text": [
      "메시지 입력 : 안녕하세요~ \n",
      "안녕하세요~ 안녕하세요~ \n"
     ]
    }
   ],
   "source": [
    "# 사용자로부터 입력받은 문자열 2번 출력하기\n",
    "\n",
    "a = (input('메시지 입력 : '))\n",
    "print(a * 2)"
   ]
  },
  {
   "cell_type": "code",
   "execution_count": 10,
   "id": "3aec890d",
   "metadata": {},
   "outputs": [
    {
     "name": "stdout",
     "output_type": "stream",
     "text": [
      "숫자 입력 : 15\n",
      "25\n"
     ]
    }
   ],
   "source": [
    "# 사용자로부터 하나의 숫자 입력받고, 입력 받은 숫자에 10을 더하기\n",
    "\n",
    "push = int(input('숫자 입력 : '))\n",
    "print(push + 10)"
   ]
  },
  {
   "cell_type": "code",
   "execution_count": 7,
   "id": "58bb9ee3",
   "metadata": {},
   "outputs": [
    {
     "name": "stdout",
     "output_type": "stream",
     "text": [
      "숫자 입력 : 15\n",
      "홀수\n"
     ]
    }
   ],
   "source": [
    "# 사용자로부터 하나의 숫자 입력받고, 짝수/홀수 판별하기\n",
    "\n",
    "push = int(input('숫자 입력 : '))\n",
    "if push % 2 == 0:\n",
    "    print('짝수')\n",
    "else:\n",
    "    print('홀수')"
   ]
  },
  {
   "cell_type": "code",
   "execution_count": 17,
   "id": "f19fc403",
   "metadata": {},
   "outputs": [
    {
     "name": "stdout",
     "output_type": "stream",
     "text": [
      "숫자 입력 : 150\n",
      "170\n"
     ]
    }
   ],
   "source": [
    "# 114번\n",
    "# 사용자로부터 값을 입력받은 후 해당 값에 20을 더한 값을 출력하라.\n",
    "# 단 사용자가 입력한 값과 20을 더한 계산 값이 255를 초과하는 경우 255를 출력\n",
    "\n",
    "push = int(input('숫자 입력 : '))\n",
    "result = int(push + 20)\n",
    "\n",
    "if result < 255:\n",
    "    print(result)\n",
    "else:\n",
    "    print('255')"
   ]
  },
  {
   "cell_type": "code",
   "execution_count": 21,
   "id": "9bb22377",
   "metadata": {},
   "outputs": [
    {
     "name": "stdout",
     "output_type": "stream",
     "text": [
      "0~255 중 하나의 숫자 입력 : 16\n",
      "0\n"
     ]
    }
   ],
   "source": [
    "# 사용자로부터 하나의 값을 입력받은 후 해당 값에 20을 뺀 값을 출력\n",
    "# 단 출력 값의 범위는 0~255\n",
    "# 결괏값이 0보다 작은 값이되는 경우 0을 출력, 255보다 큰 값이 되는 경우 255를 출력\n",
    "\n",
    "push = int(input('0~255 중 하나의 숫자 입력 : '))\n",
    "result = push - 20\n",
    "\n",
    "if result < 0:\n",
    "    print('0')\n",
    "elif result > 255:\n",
    "    print('255')\n",
    "else:\n",
    "    print(result)"
   ]
  },
  {
   "cell_type": "code",
   "execution_count": 37,
   "id": "015e01b5",
   "metadata": {},
   "outputs": [
    {
     "name": "stdout",
     "output_type": "stream",
     "text": [
      "현재 시간 \"00:00\" 입력 -> 15:00\n",
      "정각입니다.\n"
     ]
    }
   ],
   "source": [
    "# 116 번\n",
    "# 시간 포맷(00:00)을 어떻게 판별하지?? -> : 뒤에 숫자가 '00'인지 확인하면 되는데..\n",
    "# 사용자로부터 입력 받은 시간이 정각인지 판별\n",
    "push = input('현재 시간 \"00:00\" 입력 -> ')\n",
    "result = push \n",
    "\n",
    "if result[3] and result[4] == \"0\" :   # 인덱스 사용하려면 str 쓰기!\n",
    "    print('정각입니다.')\n",
    "    \n",
    "else:\n",
    "    print('정각이 아닙니다.')"
   ]
  },
  {
   "cell_type": "code",
   "execution_count": 39,
   "id": "c3456f62",
   "metadata": {},
   "outputs": [
    {
     "name": "stdout",
     "output_type": "stream",
     "text": [
      "좋아하는 과일은? 수박\n",
      "오답입니다.\n"
     ]
    }
   ],
   "source": [
    "# 사용자로 입력받은 단어가 아래 fruit 리스트에 포함되어 있는지를 확인\n",
    "# 포함되었다면 \"정답입니다\"를 아닐 경우 \"오답입니다\" 출력\n",
    "\n",
    "fruit = [\"사과\", \"포도\", \"홍시\"]\n",
    "\n",
    "user = input('좋아하는 과일은? ')\n",
    "\n",
    "if user in fruit:\n",
    "    print(\"정답입니다.\")\n",
    "else:\n",
    "    print(\"오답입니다.\")"
   ]
  },
  {
   "cell_type": "code",
   "execution_count": 41,
   "id": "fdf8fe12",
   "metadata": {},
   "outputs": [
    {
     "name": "stdout",
     "output_type": "stream",
     "text": [
      "종목명 : LG\n",
      "투자 경고 종목입니다.\n"
     ]
    }
   ],
   "source": [
    "# 투자 경고 종목 리스트가 있을 때 \n",
    "# 사용자로부터 종목명을 입력 받은 후 해당 종목이 투자 경고 종목이라면 '투자 경고 종목입니다' \n",
    "# 아니면 \"투자 경고 종목이 아닙니다.\"를 출력\n",
    "warn_investment_list = [\"Microsoft\", \"Google\", \"Naver\", \"Kakao\", \"SAMSUNG\", \"LG\"]\n",
    "\n",
    "user = input('종목명 : ')\n",
    "\n",
    "if user in warn_investment_list:\n",
    "    print('투자 경고 종목입니다.')\n",
    "else:\n",
    "    print('투자 경고 종목이 아닙니다.')"
   ]
  },
  {
   "cell_type": "code",
   "execution_count": 47,
   "id": "ef1d313c",
   "metadata": {},
   "outputs": [
    {
     "name": "stdout",
     "output_type": "stream",
     "text": [
      "제가 좋아하는 계절은? : 겨울\n",
      "오답입니다.\n"
     ]
    }
   ],
   "source": [
    "# 사용자가 입력한 값이 딕셔너리 키 (key) 값에 포함되었다면 \"정답입니다\"\n",
    "# 아닐 경우 \"오답입니다\" 출력\n",
    "fruit = {\"봄\" : \"딸기\", \"여름\" : \"토마토\", \"가을\" : \"사과\"}\n",
    "\n",
    "user = input('제가 좋아하는 계절은? : ')\n",
    "\n",
    "if user in fruit:\n",
    "    print('정답입니다.')\n",
    "else:\n",
    "    print('오답입니다.')"
   ]
  },
  {
   "cell_type": "code",
   "execution_count": 2,
   "id": "88a40bce",
   "metadata": {},
   "outputs": [
    {
     "name": "stdout",
     "output_type": "stream",
     "text": [
      "내가 좋아하는 과일은? 귤\n",
      "오답입니다\n"
     ]
    }
   ],
   "source": [
    "# 사용자가 입력한 값이 딕셔너리 값 (value)에 포함되었다면 \"정답입니다\"\n",
    "# 아닐 경우 \"오답입니다\" 출력\n",
    "\n",
    "fruit = {\"봄\" : \"딸기\", \"여름\" : \"토마토\", \"가을\" : \"사과\"}\n",
    "\n",
    "user = input('내가 좋아하는 과일은? ')\n",
    "\n",
    "if user in fruit.values():\n",
    "    print('정답입니다')    \n",
    "else:\n",
    "    print('오답입니다')"
   ]
  },
  {
   "cell_type": "markdown",
   "id": "3d5b0eb1",
   "metadata": {},
   "source": [
    "## 121 - 130\n",
    "- https://wikidocs.net/7031"
   ]
  },
  {
   "cell_type": "code",
   "execution_count": 26,
   "id": "f50ef86e",
   "metadata": {},
   "outputs": [
    {
     "name": "stdout",
     "output_type": "stream",
     "text": [
      "문자 1개 입력 : b\n",
      "B\n"
     ]
    }
   ],
   "source": [
    "# 소문자-> 대문자\n",
    "# 대문자 -> 소문자\n",
    "\n",
    "val = input('문자 1개 입력 : ')\n",
    "\n",
    "if val.islower():\n",
    "    print(val.upper())\n",
    "else:\n",
    "    print(val.lower())"
   ]
  },
  {
   "cell_type": "code",
   "execution_count": 12,
   "id": "23df09d7",
   "metadata": {},
   "outputs": [
    {
     "name": "stdout",
     "output_type": "stream",
     "text": [
      "Object `islower` not found.\n"
     ]
    }
   ],
   "source": [
    "islower?"
   ]
  },
  {
   "cell_type": "code",
   "execution_count": 32,
   "id": "42ac9dc7",
   "metadata": {},
   "outputs": [
    {
     "name": "stdout",
     "output_type": "stream",
     "text": [
      "score : 34\n",
      "grade is D\n"
     ]
    }
   ],
   "source": [
    "# 내가 작성한 코드\n",
    "\n",
    "score = int(input('score : '))\n",
    "\n",
    "if score >= 81 :\n",
    "    print('grade is A')\n",
    "elif score <= 80 and score >= 61:\n",
    "    print('grade is B')\n",
    "elif score <=60 and score >=41:\n",
    "    print('grade is C')\n",
    "elif score <=40 and score >=21:\n",
    "    print('grade is D')\n",
    "else:\n",
    "    print('grade is E')\n",
    "    "
   ]
  },
  {
   "cell_type": "code",
   "execution_count": 63,
   "id": "9f87fe25",
   "metadata": {},
   "outputs": [
    {
     "name": "stdout",
     "output_type": "stream",
     "text": [
      "score : 23\n",
      "grade is D\n"
     ]
    }
   ],
   "source": [
    "# 예제 답안\n",
    "\n",
    "score = int(input('score : '))\n",
    "\n",
    "if 81 <= score <=100:\n",
    "    print('grade is A')\n",
    "elif 61<=score<=80:\n",
    "    print('grade is B')\n",
    "elif 41<=score<=60:\n",
    "    print('grade is C')\n",
    "elif 21<=score<=40:\n",
    "    print('grade is D')\n",
    "else:\n",
    "    print('grade is E')"
   ]
  },
  {
   "cell_type": "code",
   "execution_count": 62,
   "id": "0ad20ba8",
   "metadata": {},
   "outputs": [
    {
     "name": "stdout",
     "output_type": "stream",
     "text": [
      "통화 선택 :1.달러  2.엔  3.유로  4.위안2\n",
      "입금액 : 150\n",
      "164.4 원\n"
     ]
    }
   ],
   "source": [
    "#123\n",
    "\n",
    "# 내가 작성한 코드 (문제를 오해한 거 같은데 ;;;;)\n",
    "# 통화(환율) 선택 -> 금액 입력-> 조건문(통화*금액)으로 계산 -> 출력\n",
    "rate = {'달러':1167, '엔':1.096, '유로':1268, '위안':171}\n",
    "\n",
    "choice = int(input('통화 선택 :1.달러  2.엔  3.유로  4.위안'))\n",
    "money = int(input('입금액 : '))\n",
    "\n",
    "if choice == 1:\n",
    "    print(money*rate.get('달러'), '원')\n",
    "elif choice == 2:\n",
    "    print(money*rate.get('엔'), '원')\n",
    "elif choice == 3:\n",
    "    print(money*rate.get('유로'), '원')\n",
    "elif choice == 4:\n",
    "    print(money*rate.get('위안'), '원')"
   ]
  },
  {
   "cell_type": "code",
   "execution_count": 66,
   "id": "c0090540",
   "metadata": {},
   "outputs": [
    {
     "name": "stdout",
     "output_type": "stream",
     "text": [
      "입력: 250\n"
     ]
    },
    {
     "ename": "ValueError",
     "evalue": "not enough values to unpack (expected 2, got 1)",
     "output_type": "error",
     "traceback": [
      "\u001b[1;31m---------------------------------------------------------------------------\u001b[0m",
      "\u001b[1;31mValueError\u001b[0m                                Traceback (most recent call last)",
      "Cell \u001b[1;32mIn[66], line 9\u001b[0m\n\u001b[0;32m      4\u001b[0m 환율 \u001b[38;5;241m=\u001b[39m {\u001b[38;5;124m\"\u001b[39m\u001b[38;5;124m달러\u001b[39m\u001b[38;5;124m\"\u001b[39m: \u001b[38;5;241m1167\u001b[39m, \n\u001b[0;32m      5\u001b[0m         \u001b[38;5;124m\"\u001b[39m\u001b[38;5;124m엔\u001b[39m\u001b[38;5;124m\"\u001b[39m: \u001b[38;5;241m1.096\u001b[39m, \n\u001b[0;32m      6\u001b[0m         \u001b[38;5;124m\"\u001b[39m\u001b[38;5;124m유로\u001b[39m\u001b[38;5;124m\"\u001b[39m: \u001b[38;5;241m1268\u001b[39m, \n\u001b[0;32m      7\u001b[0m         \u001b[38;5;124m\"\u001b[39m\u001b[38;5;124m위안\u001b[39m\u001b[38;5;124m\"\u001b[39m: \u001b[38;5;241m171\u001b[39m}\n\u001b[0;32m      8\u001b[0m user \u001b[38;5;241m=\u001b[39m \u001b[38;5;28minput\u001b[39m(\u001b[38;5;124m\"\u001b[39m\u001b[38;5;124m입력: \u001b[39m\u001b[38;5;124m\"\u001b[39m)\n\u001b[1;32m----> 9\u001b[0m num, currency \u001b[38;5;241m=\u001b[39m user\u001b[38;5;241m.\u001b[39msplit()\n\u001b[0;32m     10\u001b[0m \u001b[38;5;28mprint\u001b[39m(\u001b[38;5;28mfloat\u001b[39m(num) \u001b[38;5;241m*\u001b[39m 환율[currency], \u001b[38;5;124m\"\u001b[39m\u001b[38;5;124m원\u001b[39m\u001b[38;5;124m\"\u001b[39m)\n",
      "\u001b[1;31mValueError\u001b[0m: not enough values to unpack (expected 2, got 1)"
     ]
    }
   ],
   "source": [
    "# 예제 답안\n",
    "# 복붙 했는데 왜 에러가 나지,,,?\n",
    "\n",
    "환율 = {\"달러\": 1167, \n",
    "        \"엔\": 1.096, \n",
    "        \"유로\": 1268, \n",
    "        \"위안\": 171}\n",
    "user = input(\"입력: \")\n",
    "num, currency = user.split()\n",
    "print(float(num) * 환율[currency], \"원\")"
   ]
  },
  {
   "cell_type": "code",
   "execution_count": 68,
   "id": "689f4118",
   "metadata": {},
   "outputs": [
    {
     "name": "stdout",
     "output_type": "stream",
     "text": [
      "숫자1 입력 : 13\n",
      "숫자2 입력 : 15\n",
      "숫자3 입력 : 99\n",
      "99\n"
     ]
    }
   ],
   "source": [
    "#124\n",
    "num1 = int(input('숫자1 입력 : '))\n",
    "num2 = int(input('숫자2 입력 : '))\n",
    "num3 = int(input('숫자3 입력 : '))\n",
    "\n",
    "print(max(num1, num2, num3))"
   ]
  },
  {
   "cell_type": "code",
   "execution_count": 75,
   "id": "491ab329",
   "metadata": {},
   "outputs": [
    {
     "name": "stdout",
     "output_type": "stream",
     "text": [
      "휴대전화 번호 입력(XXX-XXXX-XXXX): 01955556666\n",
      "당신은 LG 사용자 입니다.\n"
     ]
    }
   ],
   "source": [
    "#125\n",
    "# 내가 쓴 코드\n",
    "service = {'011':'SKT', '016':'KT', '019':'LG', '010':'알수없음'}\n",
    "\n",
    "user = input('휴대전화 번호 입력(XXX-XXXX-XXXX): ')\n",
    "first = user[:3]\n",
    "\n",
    "print('당신은', service.get(first), '사용자 입니다.')"
   ]
  },
  {
   "cell_type": "code",
   "execution_count": 77,
   "id": "a3941b03",
   "metadata": {},
   "outputs": [
    {
     "name": "stdout",
     "output_type": "stream",
     "text": [
      "휴대전화 번호 입력 : 010-222-4444\n",
      "당신은 알수없음 사용자입니다.\n"
     ]
    }
   ],
   "source": [
    "# 예제 답안\n",
    "# '-' 기준으로 split -> 조건문으로 구분\n",
    "\n",
    "number = input('휴대전화 번호 입력 : ')\n",
    "num = number.split('-')[0]\n",
    "\n",
    "if num == \"011\":\n",
    "    com = 'SKT'\n",
    "elif num == \"0161\":\n",
    "    com = 'KT'\n",
    "elif num == \"019\":\n",
    "    com = 'LG'\n",
    "elif num == \"010\":\n",
    "    com = '알수없음'\n",
    "    \n",
    "print(f'당신은 {com} 사용자입니다.')    "
   ]
  },
  {
   "cell_type": "code",
   "execution_count": 92,
   "id": "76bca3ae",
   "metadata": {},
   "outputs": [
    {
     "name": "stdout",
     "output_type": "stream",
     "text": [
      "우편번호(01XXX) : 01600\n",
      "6\n",
      "강북구\n"
     ]
    }
   ],
   "source": [
    "#126\n",
    "\n",
    "# 내가 작성한 코드 : 출력오류 -> 어떤 번호를 입력해도 '강북구' 출력\n",
    "# 원인은 if문 작성 문법(if num == '0' or '1' or '2':) \n",
    "# 이렇게 쓰면 '1' 과 '2'는 항상 Ture ==> 첫번째 if문이 항상 True로 입력됨\n",
    "\n",
    "number = input('우편번호(01XXX) : ')\n",
    "num = number[2]\n",
    "print(num) # 내가 인덱싱을 정확히 했는지 확인\n",
    "\n",
    "if num == '0' or '1' or '2':\n",
    "    address = '강북구'\n",
    "    \n",
    "elif num == '3' or '4' or '5':\n",
    "    address = '도봉구'\n",
    "    \n",
    "elif num == '6' or '7' or '8' or '9':\n",
    "    address = '노원구'\n",
    "\n",
    "print(address)    "
   ]
  },
  {
   "cell_type": "code",
   "execution_count": 93,
   "id": "d2c8e0a7",
   "metadata": {},
   "outputs": [
    {
     "name": "stdout",
     "output_type": "stream",
     "text": [
      "우편번호(01XXX) : 01600\n",
      "6\n",
      "노원구\n"
     ]
    }
   ],
   "source": [
    "# 내가 작성한 코드_ 수정ver.\n",
    "\n",
    "number = input('우편번호(01XXX) : ')\n",
    "num = number[2]\n",
    "print(num)\n",
    "\n",
    "if num in ['0', '1', '2']:\n",
    "    address = '강북구'\n",
    "    \n",
    "elif num in ['3', '4', '5']:\n",
    "    address = '도봉구'\n",
    "    \n",
    "elif num in ['6', '7', '8', '9']:\n",
    "    address = '노원구'\n",
    "\n",
    "print(address)  "
   ]
  },
  {
   "cell_type": "code",
   "execution_count": 2,
   "id": "38a97058",
   "metadata": {},
   "outputs": [
    {
     "name": "stdout",
     "output_type": "stream",
     "text": [
      "우편번호 : 01933\n",
      "노원구\n"
     ]
    }
   ],
   "source": [
    "# 예제 답안\n",
    "\n",
    "우편번호 =input('우편번호 : ')\n",
    "우편번호 = 우편번호[:3]\n",
    "if 우편번호 in [\"010\", \"011\", \"012\"]:\n",
    "    print('강북구')\n",
    "elif 우편번호 in [\"013\", \"014\", \"015\"]:\n",
    "    print('도봉구')\n",
    "else:\n",
    "    print('노원구')"
   ]
  },
  {
   "cell_type": "code",
   "execution_count": 13,
   "id": "5c4bde9c",
   "metadata": {},
   "outputs": [
    {
     "name": "stdout",
     "output_type": "stream",
     "text": [
      "주민등록번호(XXXXXX-nXXXXXX): 920315-4983678\n",
      "4\n",
      "여자\n"
     ]
    }
   ],
   "source": [
    "#127\n",
    "# 내가 작성한 코드(1) : 모두가 중간에 하이픈을 넣어서 입력한다는 가정 하에...\n",
    "# 간단하게 슬라이싱 하면 끝\n",
    "num = input('주민등록번호(XXXXXX-nXXXXXX): ')\n",
    "num = num[7]\n",
    "print(num)\n",
    "\n",
    "if num in ['1', '3']:\n",
    "    print('남자')\n",
    "elif num in ['2', '4']:\n",
    "    print('여자')\n",
    "else:\n",
    "    print('번호를 잘못 입력하셨습니다.')"
   ]
  },
  {
   "cell_type": "code",
   "execution_count": 25,
   "id": "089bd38b",
   "metadata": {},
   "outputs": [
    {
     "name": "stdout",
     "output_type": "stream",
     "text": [
      "주민등록번호 : 123456-2345678\n",
      "여자\n"
     ]
    }
   ],
   "source": [
    "# 예제 답안\n",
    "\n",
    "주민번호 = input('주민등록번호 : ')\n",
    "주민번호 = 주민번호.split('-')[1]\n",
    "if 주민번호[0] == \"1\" or 주민번호[0] == '3':\n",
    "    print('남자')\n",
    "else:\n",
    "    print('여자')"
   ]
  },
  {
   "cell_type": "code",
   "execution_count": 24,
   "id": "ed6a7b8c",
   "metadata": {},
   "outputs": [
    {
     "name": "stdout",
     "output_type": "stream",
     "text": [
      "주민등록번호(XXXXXX-nXXXXXX): 123456-2345678\n",
      "하이픈(-)을 넣어 다시 입력해주세요.\n"
     ]
    }
   ],
   "source": [
    "#127  #### 뭔가 이상함... 다음에 다시 도전\n",
    "# 내가 작성한 코드(2) : 그러나 모두가 하이픈을 넣어서 작성하진 않을 것...\n",
    "num = input('주민등록번호(XXXXXX-nXXXXXX): ')\n",
    "    \n",
    "if num in ['-'] :\n",
    "    num1 = num.split('-')[1]\n",
    "    num2 = num1[0]\n",
    "    print(num2)\n",
    "\n",
    "    if num2 in ['1', '3']:\n",
    "        print('남자')\n",
    "    elif num2 in ['2', '4']:\n",
    "        print('여자')\n",
    "    else:\n",
    "        print('번호를 잘못 입력하셨습니다.')\n",
    "        \n",
    "else :\n",
    "    print('하이픈(-)을 넣어 다시 입력해주세요.')"
   ]
  },
  {
   "cell_type": "code",
   "execution_count": 30,
   "id": "1ac7828a",
   "metadata": {},
   "outputs": [
    {
     "name": "stdout",
     "output_type": "stream",
     "text": [
      "주민등록번호 : 131223-30321111\n",
      "3\n",
      "출생지 : 서울\n"
     ]
    }
   ],
   "source": [
    "#128\n",
    "# 내가 작성한 코드 = 예제답안과 유사\n",
    "num = input('주민등록번호 : ')\n",
    "num1 = num.split('-')[1]\n",
    "num2 = int(num1[1:3])\n",
    "print(num2)\n",
    "\n",
    "if 0 <= num2 < 9 :\n",
    "    print('출생지 : 서울')\n",
    "else :\n",
    "    print('출생지 : 서울 아님')\n",
    "    "
   ]
  },
  {
   "cell_type": "code",
   "execution_count": 87,
   "id": "8cb153ae",
   "metadata": {},
   "outputs": [
    {
     "name": "stdout",
     "output_type": "stream",
     "text": [
      "주민등록번호 입력: 821010-1635210\n",
      "last_one : 0\n",
      "total : 128\n",
      "result : 4\n",
      "유효하지 않은 주민등록번호 입니다.\n"
     ]
    }
   ],
   "source": [
    "#129\n",
    "#주민등록 유효성 체크\n",
    "\n",
    "# 내가 작성한 코드 = 너무 원시적인 거 같은데...\n",
    "\n",
    "num = input('주민등록번호 입력: ')\n",
    "last_one = int(num[-1])\n",
    "print('last_one :', last_one)\n",
    "\n",
    "n1 = int(num[0])*2\n",
    "n2 = int(num[1])*3\n",
    "n3 = int(num[2])*4\n",
    "n4 = int(num[3])*5\n",
    "n5 = int(num[4])*6\n",
    "n6 = int(num[5])*7\n",
    "n7 = int(num[7])*8\n",
    "n8 = int(num[8])*9\n",
    "n9 = int(num[9])*2\n",
    "n10 = int(num[10])*3\n",
    "n11 = int(num[11])*4\n",
    "n12= int(num[12])*5\n",
    "\n",
    "total = n1 + n2 + n3 + n4 + n5 + n6 + n7 + n8 + n9 + n10 + n11 + n12\n",
    "print('total :', total)\n",
    "\n",
    "result = 11 - (total % 11)\n",
    "print('result :', result)\n",
    "\n",
    "if last_one == result:\n",
    "    print('유효한 주민등록번호 입니다.')\n",
    "else:\n",
    "    print('유효하지 않은 주민등록번호 입니다.')"
   ]
  },
  {
   "cell_type": "code",
   "execution_count": 88,
   "id": "61eebfc6",
   "metadata": {},
   "outputs": [
    {
     "name": "stdout",
     "output_type": "stream",
     "text": [
      "주민등록번호: 821010-1635210\n",
      "유효하지 않은 주민등록번호입니다.\n"
     ]
    }
   ],
   "source": [
    "#129\n",
    "# 예제 답안 _ 내 코드랑 뭐가 다른거지?? 절차는 유사해보이는데 뭘 놓친거지?\n",
    "\n",
    "num = input(\"주민등록번호: \")\n",
    "계산1 = int(num[0]) * 2 + int(num[1]) * 3 + int(num[2]) * 4 + int(num[3]) * 5 + int(num[4]) * 6 + \\\n",
    "        int(num[5]) * 7 + int(num[7]) * 8 + int(num[8]) * 9 + int(num[9]) * 2 + int(num[10])* 3 + \\\n",
    "        int(num[11])* 4 + int(num[12]) * 5\n",
    "계산2 = 11 - (계산1 % 11)\n",
    "계산3 = str(계산2)\n",
    "\n",
    "if num[-1] == 계산3[-1]:\n",
    "    print(\"유효한 주민등록번호입니다.\")\n",
    "else:\n",
    "    print(\"유효하지 않은 주민등록번호입니다.\")\n"
   ]
  },
  {
   "cell_type": "code",
   "execution_count": 92,
   "id": "bf5dc505",
   "metadata": {},
   "outputs": [
    {
     "ename": "TypeError",
     "evalue": "'method' object is not subscriptable",
     "output_type": "error",
     "traceback": [
      "\u001b[1;31m---------------------------------------------------------------------------\u001b[0m",
      "\u001b[1;31mTypeError\u001b[0m                                 Traceback (most recent call last)",
      "Cell \u001b[1;32mIn[92], line 8\u001b[0m\n\u001b[0;32m      5\u001b[0m btc \u001b[38;5;241m=\u001b[39m requests\u001b[38;5;241m.\u001b[39mget(\u001b[38;5;124m\"\u001b[39m\u001b[38;5;124mhttps://api.bithumb.com/public/ticker/\u001b[39m\u001b[38;5;124m\"\u001b[39m)\u001b[38;5;241m.\u001b[39mjson\n\u001b[0;32m      6\u001b[0m [\u001b[38;5;124m'\u001b[39m\u001b[38;5;124mdata\u001b[39m\u001b[38;5;124m'\u001b[39m]\n\u001b[1;32m----> 8\u001b[0m 변동폭 \u001b[38;5;241m=\u001b[39m \u001b[38;5;28mfloat\u001b[39m(\u001b[43mbtc\u001b[49m\u001b[43m[\u001b[49m\u001b[38;5;124;43m'\u001b[39;49m\u001b[38;5;124;43mmax_price\u001b[39;49m\u001b[38;5;124;43m'\u001b[39;49m\u001b[43m]\u001b[49m) \u001b[38;5;241m-\u001b[39m \u001b[38;5;28mfloat\u001b[39m(btc[\u001b[38;5;124m'\u001b[39m\u001b[38;5;124mmin_price\u001b[39m\u001b[38;5;124m'\u001b[39m])\n\u001b[0;32m      9\u001b[0m 시가 \u001b[38;5;241m=\u001b[39m \u001b[38;5;28mfloat\u001b[39m(btc[\u001b[38;5;124m'\u001b[39m\u001b[38;5;124mopening_price\u001b[39m\u001b[38;5;124m'\u001b[39m])\n\u001b[0;32m     10\u001b[0m 최고가 \u001b[38;5;241m=\u001b[39m \u001b[38;5;28mfloat\u001b[39m(btc[\u001b[38;5;124m'\u001b[39m\u001b[38;5;124mmax_price\u001b[39m\u001b[38;5;124m'\u001b[39m])\n",
      "\u001b[1;31mTypeError\u001b[0m: 'method' object is not subscriptable"
     ]
    }
   ],
   "source": [
    "#130   https://wikidocs.net/7031\n",
    "# 뭔말이야...뭘 어떻게 하라는건데.... 이건 나중에 풀어보기\n",
    "\n",
    "import requests\n",
    "btc = requests.get(\"https://api.bithumb.com/public/ticker/\").json\n",
    "['data']\n",
    "\n",
    "변동폭 = float(btc['max_price']) - float(btc['min_price'])\n",
    "시가 = float(btc['opening_price'])\n",
    "최고가 = float(btc['max_price'])\n",
    "\n",
    "if (시가+변동폭) > 최고가:\n",
    "    print(\"상승장\")\n",
    "else:\n",
    "    print(\"하락장\")"
   ]
  },
  {
   "cell_type": "markdown",
   "id": "384aa307",
   "metadata": {},
   "source": [
    "## 131 - 140\n",
    "- https://wikidocs.net/78562"
   ]
  },
  {
   "cell_type": "code",
   "execution_count": 94,
   "id": "a4eefd6b",
   "metadata": {},
   "outputs": [
    {
     "name": "stdout",
     "output_type": "stream",
     "text": [
      "사과\n",
      "귤\n",
      "수박\n"
     ]
    }
   ],
   "source": [
    "# 131\n",
    "# 결과 예측  ---> 사과(줄바꿈) 귤(줄바꿈) 수박(줄바꿈)\n",
    "# 문자열 하나씩 출력 -> 개행(\\n) 후 다음 문자열 출력\n",
    "\n",
    "과일 = [\"사과\", \"귤\", \"수박\"]\n",
    "for 변수 in 과일:\n",
    "    print(변수)"
   ]
  },
  {
   "cell_type": "code",
   "execution_count": 95,
   "id": "940c9c5f",
   "metadata": {},
   "outputs": [
    {
     "name": "stdout",
     "output_type": "stream",
     "text": [
      "#####\n",
      "#####\n",
      "#####\n"
     ]
    }
   ],
   "source": [
    "#132\n",
    "# 결과 예측(틀림) ---> 사과(줄바꿈) #####(줄바꿈) 귤(줄바꿈) #####(줄바꿈) 수박(줄바꿈) #####(줄바꿈)\n",
    "# for문 : '들여쓰기'된 코드가 자료구조에 저장된 데이터 개수만큼 반복된다\n",
    "\n",
    "과일 = [\"사과\", \"귤\", \"수박\"]\n",
    "for 변수 in 과일:\n",
    "  print(\"#####\")\n",
    "\n",
    "# 사과 -> #####\n",
    "# 귤 -> #####\n",
    "# 수박 -> #####"
   ]
  },
  {
   "cell_type": "code",
   "execution_count": 96,
   "id": "9fb091dc",
   "metadata": {},
   "outputs": [
    {
     "name": "stdout",
     "output_type": "stream",
     "text": [
      "A\n",
      "B\n",
      "C\n"
     ]
    }
   ],
   "source": [
    "#133\n",
    "print(\"A\")\n",
    "print(\"B\")\n",
    "print(\"C\")"
   ]
  },
  {
   "cell_type": "code",
   "execution_count": 97,
   "id": "df82cf5c",
   "metadata": {},
   "outputs": [
    {
     "name": "stdout",
     "output_type": "stream",
     "text": [
      "출력 : A\n",
      "출력 : B\n",
      "출력 : C\n"
     ]
    }
   ],
   "source": [
    "#134\n",
    "# 동일한 동작 코드작성\n",
    "'''for 변수 in [\"A\", \"B\", \"C\"]\n",
    "    print(\"출력 :\", 변수)'''\n",
    "\n",
    "print(\"출력 : A\")\n",
    "print(\"출력 : B\")\n",
    "print(\"출력 : C\")"
   ]
  },
  {
   "cell_type": "code",
   "execution_count": 6,
   "id": "ae94d6e3",
   "metadata": {},
   "outputs": [
    {
     "name": "stdout",
     "output_type": "stream",
     "text": [
      "변환: a\n",
      "변환: b\n",
      "변환: c\n"
     ]
    }
   ],
   "source": [
    "#135\n",
    "# 동일한 동작 코드작성\n",
    "'''for 변수 in [\"A\", \"B\", \"C\"]:\n",
    "  b = 변수.lower()\n",
    "  print(\"변환:\", b)'''\n",
    "\n",
    "print(\"변환: a\")\n",
    "print(\"변환: b\")\n",
    "print(\"변환: c\")"
   ]
  },
  {
   "cell_type": "code",
   "execution_count": 9,
   "id": "ff87f833",
   "metadata": {},
   "outputs": [
    {
     "name": "stdout",
     "output_type": "stream",
     "text": [
      "10\n",
      "20\n",
      "30\n"
     ]
    }
   ],
   "source": [
    "#136\n",
    "\n",
    "nums = ['10', '20', '30']\n",
    "\n",
    "for 변수 in nums:\n",
    "    print(변수)"
   ]
  },
  {
   "cell_type": "code",
   "execution_count": 11,
   "id": "bff996c9",
   "metadata": {},
   "outputs": [
    {
     "name": "stdout",
     "output_type": "stream",
     "text": [
      "10\n",
      "20\n",
      "30\n"
     ]
    }
   ],
   "source": [
    "#137\n",
    "for 변수 in ['10', '20', '30']:\n",
    "    print(변수)"
   ]
  },
  {
   "cell_type": "code",
   "execution_count": 15,
   "id": "1846fa1a",
   "metadata": {},
   "outputs": [
    {
     "name": "stdout",
     "output_type": "stream",
     "text": [
      "10\n",
      "------\n",
      "20\n",
      "------\n",
      "30\n",
      "------\n"
     ]
    }
   ],
   "source": [
    "#138\n",
    "\n",
    "nums = ['10','20','30']\n",
    "\n",
    "for 변수 in nums:\n",
    "    print(변수)\n",
    "    print('------')"
   ]
  },
  {
   "cell_type": "code",
   "execution_count": 16,
   "id": "e2f2fd3d",
   "metadata": {},
   "outputs": [
    {
     "name": "stdout",
     "output_type": "stream",
     "text": [
      "+++++\n",
      "10\n",
      "+++++\n",
      "20\n",
      "+++++\n",
      "30\n"
     ]
    }
   ],
   "source": [
    "#139\n",
    "\n",
    "nums = ['10', '20', '30']\n",
    "\n",
    "for 변수 in nums:\n",
    "    print('+++++')\n",
    "    print(변수)"
   ]
  },
  {
   "cell_type": "code",
   "execution_count": 17,
   "id": "5731699b",
   "metadata": {},
   "outputs": [
    {
     "name": "stdout",
     "output_type": "stream",
     "text": [
      "++++\n",
      "10\n",
      "20\n",
      "30\n"
     ]
    }
   ],
   "source": [
    "# for문은 반복되는 코드에만 사용할 것!\n",
    "\n",
    "print(\"++++\")\n",
    "\n",
    "for 변수 in [10, 20, 30]:\n",
    "  print(변수)"
   ]
  },
  {
   "cell_type": "code",
   "execution_count": 25,
   "id": "1b6fccc2",
   "metadata": {},
   "outputs": [
    {
     "name": "stdout",
     "output_type": "stream",
     "text": [
      "--------\n",
      "--------\n",
      "--------\n",
      "--------\n"
     ]
    }
   ],
   "source": [
    "#140\n",
    "\n",
    "val = ['one', 'two', 'three', 'four']\n",
    "\n",
    "for line in val:  # for문에서는 \"들여쓰기 된 코드\"가 실행되는 것\n",
    "    print('--------')"
   ]
  },
  {
   "cell_type": "markdown",
   "id": "4c213627",
   "metadata": {},
   "source": [
    "## 141-150\n",
    "- https://wikidocs.net/7020"
   ]
  },
  {
   "cell_type": "code",
   "execution_count": 30,
   "id": "cba4df66",
   "metadata": {},
   "outputs": [
    {
     "name": "stdout",
     "output_type": "stream",
     "text": [
      "110\n",
      "210\n",
      "310\n"
     ]
    }
   ],
   "source": [
    "#141\n",
    "# for문 이용해서 부가세 10원 포함한 가격으로 출력\n",
    "\n",
    "val = [100, 200, 300]\n",
    "\n",
    "for price in val:\n",
    "    print(price + 10)"
   ]
  },
  {
   "cell_type": "code",
   "execution_count": 31,
   "id": "d3d418fc",
   "metadata": {},
   "outputs": [
    {
     "name": "stdout",
     "output_type": "stream",
     "text": [
      "오늘의 메뉴는 ~  김밥\n",
      "오늘의 메뉴는 ~  라면\n",
      "오늘의 메뉴는 ~  튀김\n"
     ]
    }
   ],
   "source": [
    "#142\n",
    "\n",
    "product = ['김밥', '라면', '튀김']\n",
    "\n",
    "for menu in product:\n",
    "    print('오늘의 메뉴는 ~ ', menu)"
   ]
  },
  {
   "cell_type": "code",
   "execution_count": 32,
   "id": "4931086a",
   "metadata": {},
   "outputs": [
    {
     "name": "stdout",
     "output_type": "stream",
     "text": [
      "6\n",
      "4\n",
      "4\n"
     ]
    }
   ],
   "source": [
    "#143\n",
    "\n",
    "s_list = [\"SK하이닉스\", '삼성전자', 'LG전자']\n",
    "\n",
    "for length in s_list:\n",
    "    print(len(length))"
   ]
  },
  {
   "cell_type": "code",
   "execution_count": 33,
   "id": "61fa8ffb",
   "metadata": {},
   "outputs": [
    {
     "name": "stdout",
     "output_type": "stream",
     "text": [
      "dog 3\n",
      "cat 3\n",
      "parrot 6\n"
     ]
    }
   ],
   "source": [
    "#144\n",
    "\n",
    "ani_list = ['dog', 'cat', 'parrot']\n",
    "\n",
    "for animal in ani_list:\n",
    "    print(animal, len(animal))"
   ]
  },
  {
   "cell_type": "code",
   "execution_count": 35,
   "id": "31aaf129",
   "metadata": {},
   "outputs": [
    {
     "name": "stdout",
     "output_type": "stream",
     "text": [
      "d\n",
      "c\n",
      "p\n"
     ]
    }
   ],
   "source": [
    "#145\n",
    "ani_list = ['dog', 'cat', 'parrot']\n",
    "\n",
    "for animal in ani_list:\n",
    "    print(animal[0])"
   ]
  },
  {
   "cell_type": "code",
   "execution_count": 37,
   "id": "6479aaa7",
   "metadata": {},
   "outputs": [
    {
     "name": "stdout",
     "output_type": "stream",
     "text": [
      "3 x 1\n",
      "3 x 2\n",
      "3 x 3\n"
     ]
    }
   ],
   "source": [
    "#146\n",
    "nums = [1, 2, 3]\n",
    "\n",
    "for num in nums:\n",
    "    print('3 x',num)"
   ]
  },
  {
   "cell_type": "code",
   "execution_count": 38,
   "id": "83142906",
   "metadata": {},
   "outputs": [
    {
     "name": "stdout",
     "output_type": "stream",
     "text": [
      "3 x 1 = 3\n",
      "3 x 2 = 6\n",
      "3 x 3 = 9\n"
     ]
    }
   ],
   "source": [
    "#147\n",
    "\n",
    "nums = [1, 2, 3]\n",
    "\n",
    "for num in nums:\n",
    "    print('3 x', num, '=', 3 *num)"
   ]
  },
  {
   "cell_type": "code",
   "execution_count": 40,
   "id": "628b763b",
   "metadata": {},
   "outputs": [
    {
     "name": "stdout",
     "output_type": "stream",
     "text": [
      "3 x 1 = 3\n",
      "3 x 2 = 6\n",
      "3 x 3 = 9\n"
     ]
    }
   ],
   "source": [
    "# 문자열 함수를 활용해서 출력하면\n",
    "\n",
    "for num in nums:\n",
    "    print(f'3 x {num} = {3 *num}')"
   ]
  },
  {
   "cell_type": "code",
   "execution_count": 42,
   "id": "81750c71",
   "metadata": {},
   "outputs": [
    {
     "name": "stdout",
     "output_type": "stream",
     "text": [
      "3 x 1 = 3\n",
      "3 x 2 = 6\n",
      "3 x 3 = 9\n"
     ]
    }
   ],
   "source": [
    "for num in nums:\n",
    "    print('3 x {} = {}'.format(num, num*3))"
   ]
  },
  {
   "cell_type": "code",
   "execution_count": 48,
   "id": "14c9c707",
   "metadata": {},
   "outputs": [
    {
     "name": "stdout",
     "output_type": "stream",
     "text": [
      "나\n",
      "다\n",
      "라\n"
     ]
    }
   ],
   "source": [
    "#148\n",
    "리스트 = ['가','나','다','라']\n",
    "\n",
    "for cha in 리스트[1:]:\n",
    "    print(cha)"
   ]
  },
  {
   "cell_type": "code",
   "execution_count": 62,
   "id": "25b305ec",
   "metadata": {},
   "outputs": [
    {
     "name": "stdout",
     "output_type": "stream",
     "text": [
      "가\n",
      "다\n"
     ]
    }
   ],
   "source": [
    "#149\n",
    "리스트 = ['가','나','다','라']\n",
    "\n",
    "for cha in 리스트[::2]:\n",
    "    print(cha)"
   ]
  },
  {
   "cell_type": "code",
   "execution_count": 73,
   "id": "e85c5159",
   "metadata": {},
   "outputs": [
    {
     "name": "stdout",
     "output_type": "stream",
     "text": [
      "라\n",
      "다\n",
      "나\n",
      "가\n"
     ]
    }
   ],
   "source": [
    "#150\n",
    "# 간격을 음수로 설정하면 역방향으로 슬라이싱~\n",
    "\n",
    "리스트 = ['가','나','다','라']\n",
    "\n",
    "for cha in 리스트[::-1]:\n",
    "    print(cha)"
   ]
  },
  {
   "cell_type": "code",
   "execution_count": 1,
   "id": "f8ae1785",
   "metadata": {},
   "outputs": [
    {
     "name": "stdout",
     "output_type": "stream",
     "text": [
      "로또 번호 :  [5, 17, 42, 36, 7, 38]\n",
      "로또 번호 :  [33, 5, 22, 24, 39, 8]\n",
      "로또 번호 :  [10, 18, 27, 6, 34, 3]\n",
      "로또 번호 :  [33, 17, 2, 13, 26, 9]\n",
      "로또 번호 :  [3, 40, 20, 39, 25, 23]\n"
     ]
    }
   ],
   "source": [
    "# 로또 번호 생성\n",
    "\n",
    "import random\n",
    "\n",
    "def lotto():\n",
    "    return random.sample(range(1, 45), 6)\n",
    "\n",
    "for i in range(5):\n",
    "    lotto_num = lotto()\n",
    "    print(\"로또 번호 : \", lotto_num)"
   ]
  }
 ],
 "metadata": {
  "kernelspec": {
   "display_name": "Python 3 (ipykernel)",
   "language": "python",
   "name": "python3"
  },
  "language_info": {
   "codemirror_mode": {
    "name": "ipython",
    "version": 3
   },
   "file_extension": ".py",
   "mimetype": "text/x-python",
   "name": "python",
   "nbconvert_exporter": "python",
   "pygments_lexer": "ipython3",
   "version": "3.8.18"
  },
  "toc": {
   "base_numbering": 1,
   "nav_menu": {},
   "number_sections": true,
   "sideBar": true,
   "skip_h1_title": false,
   "title_cell": "Table of Contents",
   "title_sidebar": "Contents",
   "toc_cell": false,
   "toc_position": {},
   "toc_section_display": true,
   "toc_window_display": false
  }
 },
 "nbformat": 4,
 "nbformat_minor": 5
}
