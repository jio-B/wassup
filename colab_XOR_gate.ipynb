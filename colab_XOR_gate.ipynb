{
  "nbformat": 4,
  "nbformat_minor": 0,
  "metadata": {
    "colab": {
      "provenance": [],
      "authorship_tag": "ABX9TyPj/ogZSUcdUh0gvBGYef3o",
      "include_colab_link": true
    },
    "kernelspec": {
      "name": "python3",
      "display_name": "Python 3"
    },
    "language_info": {
      "name": "python"
    },
    "accelerator": "TPU"
  },
  "cells": [
    {
      "cell_type": "markdown",
      "metadata": {
        "id": "view-in-github",
        "colab_type": "text"
      },
      "source": [
        "<a href=\"https://colab.research.google.com/github/jio-B/wassup/blob/main/colab_XOR_gate.ipynb\" target=\"_parent\"><img src=\"https://colab.research.google.com/assets/colab-badge.svg\" alt=\"Open In Colab\"/></a>"
      ]
    },
    {
      "cell_type": "code",
      "execution_count": 1,
      "metadata": {
        "id": "dEXPvuCLnn6A"
      },
      "outputs": [],
      "source": [
        "import warnings\n",
        "warnings.filterwarnings('ignore')"
      ]
    },
    {
      "cell_type": "code",
      "source": [
        "import numpy as np"
      ],
      "metadata": {
        "id": "lWK2nh8xnwgY"
      },
      "execution_count": 2,
      "outputs": []
    },
    {
      "cell_type": "code",
      "source": [
        "def gradient(machine, param):\n",
        "\n",
        "    if param.ndim == 1:\n",
        "        temp_param = param\n",
        "        delta = 0.00005\n",
        "        learned_param = np.zeros(param.shape)\n",
        "\n",
        "        for index in range(len(param)):\n",
        "            target_param = float(temp_param[index])\n",
        "            temp_param[index] = target_param + delta\n",
        "            param_plus_delta = machine(temp_param)\n",
        "            temp_param[index] = target_param - delta\n",
        "            param_minus_delta = machine(temp_param)\n",
        "            learned_param[index] = (param_plus_delta - param_minus_delta ) / (2 * delta)\n",
        "            temp_param[index] = target_param\n",
        "\n",
        "        return learned_param\n",
        "\n",
        "\n",
        "    elif param.ndim == 2:\n",
        "        temp_param = param\n",
        "        delta = 0.00005\n",
        "        learned_param = np.zeros(param.shape)\n",
        "\n",
        "        rows = param.shape[0]\n",
        "        columns = param.shape[1]\n",
        "\n",
        "        for row in range(rows):\n",
        "            for column in range(columns):\n",
        "                target_param = float(temp_param[row, column])\n",
        "                temp_param[row, column] = target_param + delta\n",
        "                param_plus_delta = machine(temp_param)\n",
        "                temp_param[row, column] = target_param - delta\n",
        "                param_minus_delta = machine(temp_param)\n",
        "                learned_param[row, column] = (param_plus_delta - param_minus_delta) / (2 * delta)\n",
        "                temp_param[row, column] = target_param\n",
        "\n",
        "        return learned_param"
      ],
      "metadata": {
        "id": "cQZqLejsnwjb"
      },
      "execution_count": 3,
      "outputs": []
    },
    {
      "cell_type": "code",
      "source": [
        "import numpy as np\n",
        "\n",
        "def sigmoid(x):\n",
        "    y_hat = 1 / (1 + np.exp(-x))\n",
        "    return y_hat"
      ],
      "metadata": {
        "id": "NClQCToVnwmR"
      },
      "execution_count": 4,
      "outputs": []
    },
    {
      "cell_type": "code",
      "source": [
        "class LogicGate:\n",
        "\n",
        "    def __init__(self, gate_Type, X_input, y_output):\n",
        "\n",
        "# gate_Type 문자열 지정 Member\n",
        "        self.Type = gate_Type\n",
        "\n",
        "# X_input, y_output Member 초기화\n",
        "        self.X_input = X_input.reshape(4, 2)\n",
        "        self.y_output = y_output.reshape(4, 1)\n",
        "\n",
        "# W, b Member 초기화\n",
        "        self.W = np.random.rand(2, 1)\n",
        "        self.b = np.random.rand(1)\n",
        "\n",
        "# learning_rate Member 지정\n",
        "        self.learning_rate = 0.01\n",
        "\n",
        "# Cost_Function(CEE) Method  # 분류니까 Cross Entropy Error\n",
        "    def cost_func(self):\n",
        "        z = np.dot(self.X_input, self.W) + self.b\n",
        "        y_hat = sigmoid(z)\n",
        "\n",
        "        return -np.sum(self.y_output * np.log(y_hat) + (1 - self.y_output) * np.log(1 - y_hat)) #로지스틱\n",
        "\n",
        "# Learning Method\n",
        "    def fit(self):\n",
        "        machine = lambda x : self.cost_func()\n",
        "        print('Initial Cost = ', self.cost_func())\n",
        "\n",
        "        for step in  range(10001):\n",
        "            self.W = self.W - self.learning_rate * gradient(machine, self.W)\n",
        "            self.b = self.b - self.learning_rate * gradient(machine, self.b)\n",
        "\n",
        "            if (step % 1000 == 0):\n",
        "                print('Step = ', step, 'Cost = ', self.cost_func())\n",
        "\n",
        "# Predict Method\n",
        "    def predict(self, input_data):\n",
        "\n",
        "        z = np.dot(input_data, self.W) + self.b\n",
        "        y_prob = sigmoid(z)\n",
        "\n",
        "        if y_prob > 0.5:\n",
        "            result = 1\n",
        "        else:\n",
        "            result = 0\n",
        "\n",
        "        return y_prob, result"
      ],
      "metadata": {
        "id": "kEO05RkjnwpU"
      },
      "execution_count": 5,
      "outputs": []
    },
    {
      "cell_type": "code",
      "source": [
        "X_input  = np.array([[0, 0], [0, 1], [1, 0], [1, 1]]) # 4행 2열의 데이터 임의로 지정\n",
        "y_output = np.array([0, 0, 0, 1])"
      ],
      "metadata": {
        "id": "haSZe1ePnwrx"
      },
      "execution_count": 6,
      "outputs": []
    },
    {
      "cell_type": "code",
      "source": [
        "AND_Gate = LogicGate('AND_GATE', X_input, y_output)\n",
        "\n",
        "AND_Gate.fit() # 학습(훈련) = 가중치를 변경하는 과정"
      ],
      "metadata": {
        "colab": {
          "base_uri": "https://localhost:8080/"
        },
        "id": "7Ixcg6sknwwq",
        "outputId": "82716b88-e900-4c51-d17a-3c648ed32881"
      },
      "execution_count": 7,
      "outputs": [
        {
          "output_type": "stream",
          "name": "stdout",
          "text": [
            "Initial Cost =  4.376615918477856\n",
            "Step =  0 Cost =  4.320122848132877\n",
            "Step =  1000 Cost =  0.9784473489085256\n",
            "Step =  2000 Cost =  0.6481586625205464\n",
            "Step =  3000 Cost =  0.484605905106172\n",
            "Step =  4000 Cost =  0.3859070165690769\n",
            "Step =  5000 Cost =  0.31987474267282545\n",
            "Step =  6000 Cost =  0.2726813900347381\n",
            "Step =  7000 Cost =  0.23733653326958926\n",
            "Step =  8000 Cost =  0.20991766676605805\n",
            "Step =  9000 Cost =  0.18805403811472593\n",
            "Step =  10000 Cost =  0.1702297074320593\n"
          ]
        }
      ]
    },
    {
      "cell_type": "code",
      "source": [
        "print(AND_Gate.Type, '\\n')\n",
        "\n",
        "test_data = np.array([[0, 0], [0, 1], [1, 0], [1, 1]])\n",
        "\n",
        "for input_data in test_data:\n",
        "    (sigmoid_val, logical_val) = AND_Gate.predict(input_data)\n",
        "    print(input_data, ' = ', logical_val)"
      ],
      "metadata": {
        "colab": {
          "base_uri": "https://localhost:8080/"
        },
        "id": "f9A5lhsKnwzu",
        "outputId": "7489d797-0f17-425f-ba67-0cea6f10c02e"
      },
      "execution_count": 8,
      "outputs": [
        {
          "output_type": "stream",
          "name": "stdout",
          "text": [
            "AND_GATE \n",
            "\n",
            "[0 0]  =  0\n",
            "[0 1]  =  0\n",
            "[1 0]  =  0\n",
            "[1 1]  =  1\n"
          ]
        }
      ]
    },
    {
      "cell_type": "code",
      "source": [
        "X_input  = np.array([[0, 0], [0, 1], [1, 0], [1, 1]])\n",
        "y_output = np.array([0, 1, 1, 1])"
      ],
      "metadata": {
        "id": "-CVduQHDnw2Y"
      },
      "execution_count": 9,
      "outputs": []
    },
    {
      "cell_type": "code",
      "source": [
        "OR_Gate = LogicGate('OR_GATE', X_input, y_output)\n",
        "\n",
        "OR_Gate.fit()"
      ],
      "metadata": {
        "colab": {
          "base_uri": "https://localhost:8080/"
        },
        "id": "TtjJhfA-nw5E",
        "outputId": "6a26ec0c-96a7-449d-8166-94916049d404"
      },
      "execution_count": 10,
      "outputs": [
        {
          "output_type": "stream",
          "name": "stdout",
          "text": [
            "Initial Cost =  1.7119955797579745\n",
            "Step =  0 Cost =  1.709379825337236\n",
            "Step =  1000 Cost =  0.6964619412111591\n",
            "Step =  2000 Cost =  0.4225870094229219\n",
            "Step =  3000 Cost =  0.2989951115227908\n",
            "Step =  4000 Cost =  0.22977068538883816\n",
            "Step =  5000 Cost =  0.18590283468245214\n",
            "Step =  6000 Cost =  0.15577183656790855\n",
            "Step =  7000 Cost =  0.13386836491647688\n",
            "Step =  8000 Cost =  0.11726177740996002\n",
            "Step =  9000 Cost =  0.10425642162352262\n",
            "Step =  10000 Cost =  0.09380606603085904\n"
          ]
        }
      ]
    },
    {
      "cell_type": "code",
      "source": [
        "print(OR_Gate.Type, '\\n')\n",
        "\n",
        "test_data = np.array([[0, 0], [0, 1], [1, 0], [1, 1]])\n",
        "\n",
        "for input_data in test_data:\n",
        "    (sigmoid_val, logical_val) = OR_Gate.predict(input_data)\n",
        "    print(input_data, ' = ', logical_val)"
      ],
      "metadata": {
        "colab": {
          "base_uri": "https://localhost:8080/"
        },
        "id": "V1ImwGFsnw75",
        "outputId": "661d3b15-4658-477a-c658-ce94b378a87f"
      },
      "execution_count": 11,
      "outputs": [
        {
          "output_type": "stream",
          "name": "stdout",
          "text": [
            "OR_GATE \n",
            "\n",
            "[0 0]  =  0\n",
            "[0 1]  =  1\n",
            "[1 0]  =  1\n",
            "[1 1]  =  1\n"
          ]
        }
      ]
    },
    {
      "cell_type": "code",
      "source": [
        "NAND_Gate = LogicGate('NAND_GATE', X_input, y_output)\n",
        "\n",
        "NAND_Gate.fit()"
      ],
      "metadata": {
        "colab": {
          "base_uri": "https://localhost:8080/"
        },
        "id": "mTW4Ii_Znw-k",
        "outputId": "2b61f6a7-0cf0-4d94-f991-1b289c7836af"
      },
      "execution_count": 12,
      "outputs": [
        {
          "output_type": "stream",
          "name": "stdout",
          "text": [
            "Initial Cost =  1.6362197656633293\n",
            "Step =  0 Cost =  1.6342113228880288\n",
            "Step =  1000 Cost =  0.6870748673488545\n",
            "Step =  2000 Cost =  0.4190602029020375\n",
            "Step =  3000 Cost =  0.2971814343621436\n",
            "Step =  4000 Cost =  0.22867774632543103\n",
            "Step =  5000 Cost =  0.18517690081177285\n",
            "Step =  6000 Cost =  0.1552566663433947\n",
            "Step =  7000 Cost =  0.13348478887492582\n",
            "Step =  8000 Cost =  0.1169655985228701\n",
            "Step =  9000 Cost =  0.104021112293397\n",
            "Step =  10000 Cost =  0.09361478038417738\n"
          ]
        }
      ]
    },
    {
      "cell_type": "code",
      "source": [
        "print(NAND_Gate.Type, '\\n')\n",
        "\n",
        "test_data = np.array([[0, 0], [0, 1], [1, 0], [1, 1]])\n",
        "\n",
        "for input_data in test_data:\n",
        "    (sigmoid_val, logical_val) = NAND_Gate.predict(input_data)\n",
        "    print(input_data, ' = ', logical_val)"
      ],
      "metadata": {
        "colab": {
          "base_uri": "https://localhost:8080/"
        },
        "id": "N3oxvrCCobcA",
        "outputId": "e34064ac-8579-49ba-c566-a86910fee61c"
      },
      "execution_count": 13,
      "outputs": [
        {
          "output_type": "stream",
          "name": "stdout",
          "text": [
            "NAND_GATE \n",
            "\n",
            "[0 0]  =  0\n",
            "[0 1]  =  1\n",
            "[1 0]  =  1\n",
            "[1 1]  =  1\n"
          ]
        }
      ]
    },
    {
      "cell_type": "code",
      "source": [
        "X_input  = np.array([[0, 0], [0, 1], [1, 0], [1, 1]])\n",
        "y_output = np.array([0, 1, 1, 0])"
      ],
      "metadata": {
        "id": "4q9Rr--lobfA"
      },
      "execution_count": 14,
      "outputs": []
    },
    {
      "cell_type": "code",
      "source": [
        "XOR_Gate = LogicGate('XOR_GATE', X_input, y_output)\n",
        "\n",
        "XOR_Gate.fit()  # 코스트 변화가 없다???"
      ],
      "metadata": {
        "colab": {
          "base_uri": "https://localhost:8080/"
        },
        "id": "K-UHXAiiobho",
        "outputId": "7530da82-1786-456b-cc2b-338cffd1edb8"
      },
      "execution_count": 15,
      "outputs": [
        {
          "output_type": "stream",
          "name": "stdout",
          "text": [
            "Initial Cost =  3.4311475556371684\n",
            "Step =  0 Cost =  3.4155260508227068\n",
            "Step =  1000 Cost =  2.7740201991663502\n",
            "Step =  2000 Cost =  2.7726470771380534\n",
            "Step =  3000 Cost =  2.772591198403381\n",
            "Step =  4000 Cost =  2.7725888280018607\n",
            "Step =  5000 Cost =  2.77258872676178\n",
            "Step =  6000 Cost =  2.7725887224331567\n",
            "Step =  7000 Cost =  2.772588722248051\n",
            "Step =  8000 Cost =  2.7725887222401346\n",
            "Step =  9000 Cost =  2.7725887222397967\n",
            "Step =  10000 Cost =  2.7725887222397816\n"
          ]
        }
      ]
    },
    {
      "cell_type": "code",
      "source": [
        "print(XOR_Gate.Type, '\\n')\n",
        "\n",
        "test_data = np.array([[0, 0], [0, 1], [1, 0], [1, 1]])\n",
        "\n",
        "for input_data in test_data:\n",
        "    (sigmoid_val, logical_val) = XOR_Gate.predict(input_data)\n",
        "    print(input_data, ' = ', logical_val)\n",
        "\n",
        "# 학습 실패 -> 구조 자체가 불가능함(선형)"
      ],
      "metadata": {
        "colab": {
          "base_uri": "https://localhost:8080/"
        },
        "id": "Ab0YtystoblB",
        "outputId": "37ebee85-a9ca-45cc-a91a-a01cdf238df4"
      },
      "execution_count": 16,
      "outputs": [
        {
          "output_type": "stream",
          "name": "stdout",
          "text": [
            "XOR_GATE \n",
            "\n",
            "[0 0]  =  0\n",
            "[0 1]  =  0\n",
            "[1 0]  =  0\n",
            "[1 1]  =  1\n"
          ]
        }
      ]
    },
    {
      "cell_type": "code",
      "source": [
        "input_data = np.array([[0, 0], [0, 1], [1, 0], [1, 1]])\n",
        "\n",
        "HL1_1 = []    # NAND 출력\n",
        "HL1_2 = []    # OR   출력\n",
        "\n",
        "new_input_data = []  # AND      입력\n",
        "final_output = []    # AND(XOR) 출력\n",
        "\n",
        "for index in range(len(input_data)):\n",
        "\n",
        "    HL1_1 = NAND_Gate.predict(input_data[index])  # NAND 출력\n",
        "    HL1_2 = OR_Gate.predict(input_data[index])    # OR   출력\n",
        "\n",
        "    new_input_data.append(HL1_1[-1])    # AND 입력\n",
        "    new_input_data.append(HL1_2[-1])    # AND 입력\n",
        "\n",
        "    (sigmoid_val, logical_val) = AND_Gate.predict(np.array(new_input_data))\n",
        "\n",
        "    final_output.append(logical_val)    # AND(XOR) 출력\n",
        "    new_input_data = []                 # AND 입력 초기화"
      ],
      "metadata": {
        "id": "4C4qZbZPobnf"
      },
      "execution_count": 17,
      "outputs": []
    },
    {
      "cell_type": "code",
      "source": [
        "print(XOR_Gate.Type, '\\n')\n",
        "\n",
        "for index in range(len(input_data)):\n",
        "    print(input_data[index], ' = ', final_output[index])\n",
        "\n",
        "# 1이 하나면 1 출력되어야 XOR 학습 성공 => 학습 실패"
      ],
      "metadata": {
        "colab": {
          "base_uri": "https://localhost:8080/"
        },
        "id": "kkqKkoh9nxBd",
        "outputId": "e12b0ca8-a318-4851-baae-a26c7879cd09"
      },
      "execution_count": 18,
      "outputs": [
        {
          "output_type": "stream",
          "name": "stdout",
          "text": [
            "XOR_GATE \n",
            "\n",
            "[0 0]  =  0\n",
            "[0 1]  =  1\n",
            "[1 0]  =  1\n",
            "[1 1]  =  1\n"
          ]
        }
      ]
    },
    {
      "cell_type": "code",
      "source": [
        "class XOR_Gate:\n",
        "\n",
        "    def __init__(self, gate_Type, X_input, y_output):\n",
        "\n",
        "# gate_Type 문자열 지정 Member\n",
        "        self.Type = gate_Type\n",
        "\n",
        "# X_input, y_output Member 초기화\n",
        "        self.X_input = X_input.reshape(4, 2)\n",
        "        self.y_output = y_output.reshape(4, 1)\n",
        "\n",
        "# W_1, b_1 Member 초기화\n",
        "        self.W_1 = np.random.rand(2, 2)\n",
        "        self.b_1 = np.random.rand(2)\n",
        "\n",
        "# W_2, b_2 Member 초기화\n",
        "        self.W_2 = np.random.rand(2, 1)\n",
        "        self.b_2 = np.random.rand(1)\n",
        "\n",
        "# learning_rate Member 지정\n",
        "        self.learning_rate = 0.01\n",
        "\n",
        "# Cost_Function(CEE) Method\n",
        "    def cost_func(self):\n",
        "\n",
        "        z_1 = np.dot(self.X_input, self.W_1) + self.b_1     # Hidden Layer\n",
        "        a_1 = sigmoid(z_1)\n",
        "\n",
        "        z_2 = np.dot(a_1, self.W_2) + self.b_2              # Output Layer\n",
        "        y_hat = sigmoid(z_2)\n",
        "\n",
        "        return -np.sum(self.y_output * np.log(y_hat) + (1 - self.y_output) * np.log(1 - y_hat))\n",
        "\n",
        "# Learning Method\n",
        "    def fit(self):\n",
        "        machine = lambda x : self.cost_func()\n",
        "        print('Initial Cost = ', self.cost_func())\n",
        "\n",
        "        for step in range(50001):  # 50000회\n",
        "            self.W_1 = self.W_1- self.learning_rate * gradient(machine, self.W_1)\n",
        "            self.b_1 = self.b_1 - self.learning_rate * gradient(machine, self.b_1)\n",
        "\n",
        "            self.W_2 = self.W_2 - self.learning_rate * gradient(machine, self.W_2)\n",
        "            self.b_2 = self.b_2 - self.learning_rate * gradient(machine, self.b_2)\n",
        "\n",
        "            if (step % 1000 == 0):\n",
        "                print('Step = ', step, 'Cost = ', self.cost_func())\n",
        "\n",
        "# Predict Method\n",
        "    def predict(self, input_data):\n",
        "\n",
        "        z_1 = np.dot(input_data, self.W_1) + self.b_1     # Hidden Layer\n",
        "        a_1 = sigmoid(z_1)\n",
        "\n",
        "        z_2 = np.dot(a_1, self.W_2) + self.b_2            # Output Layer\n",
        "        y_prob = sigmoid(z_2)\n",
        "\n",
        "\n",
        "        if y_prob > 0.5:\n",
        "            result = 1\n",
        "        else:\n",
        "            result = 0\n",
        "\n",
        "        return y_prob, result"
      ],
      "metadata": {
        "id": "UUXo9c_RnxET"
      },
      "execution_count": 19,
      "outputs": []
    },
    {
      "cell_type": "code",
      "source": [
        "X_input  = np.array([[0, 0], [0, 1], [1, 0], [1, 1]])\n",
        "y_output = np.array([0, 1, 1, 0])"
      ],
      "metadata": {
        "id": "opZhhIstnxHK"
      },
      "execution_count": 20,
      "outputs": []
    },
    {
      "cell_type": "code",
      "source": [
        "XOR_Gate_2 = XOR_Gate('XOR_GATE', X_input, y_output)\n",
        "\n",
        "XOR_Gate_2.fit()"
      ],
      "metadata": {
        "colab": {
          "base_uri": "https://localhost:8080/"
        },
        "id": "ZhbrV2cGonCe",
        "outputId": "fe081342-7be1-4ed9-851c-5a621e3e6d24"
      },
      "execution_count": 21,
      "outputs": [
        {
          "output_type": "stream",
          "name": "stdout",
          "text": [
            "Initial Cost =  3.7615181873012755\n",
            "Step =  0 Cost =  3.7308954243506998\n",
            "Step =  1000 Cost =  2.756592561298319\n",
            "Step =  2000 Cost =  2.736025620304512\n",
            "Step =  3000 Cost =  2.687675214749258\n",
            "Step =  4000 Cost =  2.5835783954399716\n",
            "Step =  5000 Cost =  2.4049710876163823\n",
            "Step =  6000 Cost =  2.1903336609320463\n",
            "Step =  7000 Cost =  1.9573992895684968\n",
            "Step =  8000 Cost =  1.5960830122922351\n",
            "Step =  9000 Cost =  1.0867650478082522\n",
            "Step =  10000 Cost =  0.6889610752734139\n",
            "Step =  11000 Cost =  0.46443661461012287\n",
            "Step =  12000 Cost =  0.33884675546350773\n",
            "Step =  13000 Cost =  0.2627679512701492\n",
            "Step =  14000 Cost =  0.21293096401538852\n",
            "Step =  15000 Cost =  0.17817809283314381\n",
            "Step =  16000 Cost =  0.15273934217791926\n",
            "Step =  17000 Cost =  0.1333980824691883\n",
            "Step =  18000 Cost =  0.11824167788169017\n",
            "Step =  19000 Cost =  0.10607014171538734\n",
            "Step =  20000 Cost =  0.09609625245673507\n",
            "Step =  21000 Cost =  0.08778391675351518\n",
            "Step =  22000 Cost =  0.0807563427381247\n",
            "Step =  23000 Cost =  0.07474146027310796\n",
            "Step =  24000 Cost =  0.06953818959408238\n",
            "Step =  25000 Cost =  0.06499487675763452\n",
            "Step =  26000 Cost =  0.06099509327298454\n",
            "Step =  27000 Cost =  0.05744803832886654\n",
            "Step =  28000 Cost =  0.05428190040237537\n",
            "Step =  29000 Cost =  0.051439170329633396\n",
            "Step =  30000 Cost =  0.048873270585279446\n",
            "Step =  31000 Cost =  0.046546090521856015\n",
            "Step =  32000 Cost =  0.044426156740650494\n",
            "Step =  33000 Cost =  0.04248725620887464\n",
            "Step =  34000 Cost =  0.04070738705244821\n",
            "Step =  35000 Cost =  0.039067949824676707\n",
            "Step =  36000 Cost =  0.03755311752490627\n",
            "Step =  37000 Cost =  0.036149340058495336\n",
            "Step =  38000 Cost =  0.03484495091892209\n",
            "Step =  39000 Cost =  0.03362985238250251\n",
            "Step =  40000 Cost =  0.03249526157362516\n",
            "Step =  41000 Cost =  0.03143350413688277\n",
            "Step =  42000 Cost =  0.030437845448212725\n",
            "Step =  43000 Cost =  0.029502351652971843\n",
            "Step =  44000 Cost =  0.028621774574279966\n",
            "Step =  45000 Cost =  0.02779145585354646\n",
            "Step =  46000 Cost =  0.027007246684956798\n",
            "Step =  47000 Cost =  0.02626544027000204\n",
            "Step =  48000 Cost =  0.025562714706681408\n",
            "Step =  49000 Cost =  0.024896084484319004\n",
            "Step =  50000 Cost =  0.024262859112010787\n"
          ]
        }
      ]
    },
    {
      "cell_type": "code",
      "source": [
        "print(XOR_Gate_2.Type, '\\n')\n",
        "\n",
        "test_data = np.array([[0, 0], [0, 1], [1, 0], [1, 1]])\n",
        "\n",
        "for input_data in test_data:\n",
        "    (sigmoid_val, logical_val) = XOR_Gate_2.predict(input_data)\n",
        "    print(input_data, ' = ', logical_val)"
      ],
      "metadata": {
        "colab": {
          "base_uri": "https://localhost:8080/"
        },
        "id": "_6Q4a5aKom_s",
        "outputId": "576b8f9d-5a40-4b53-ca39-d268a3aad0d5"
      },
      "execution_count": 22,
      "outputs": [
        {
          "output_type": "stream",
          "name": "stdout",
          "text": [
            "XOR_GATE \n",
            "\n",
            "[0 0]  =  0\n",
            "[0 1]  =  1\n",
            "[1 0]  =  1\n",
            "[1 1]  =  0\n"
          ]
        }
      ]
    },
    {
      "cell_type": "code",
      "source": [],
      "metadata": {
        "id": "OgpE_R5wom8z"
      },
      "execution_count": null,
      "outputs": []
    },
    {
      "cell_type": "code",
      "source": [],
      "metadata": {
        "id": "A1WGwANTom59"
      },
      "execution_count": null,
      "outputs": []
    },
    {
      "cell_type": "code",
      "source": [],
      "metadata": {
        "id": "SrslqRxPom2-"
      },
      "execution_count": null,
      "outputs": []
    },
    {
      "cell_type": "code",
      "source": [],
      "metadata": {
        "id": "47tlniVnomzr"
      },
      "execution_count": null,
      "outputs": []
    },
    {
      "cell_type": "code",
      "source": [],
      "metadata": {
        "id": "xFpSdMedomjX"
      },
      "execution_count": null,
      "outputs": []
    }
  ]
}