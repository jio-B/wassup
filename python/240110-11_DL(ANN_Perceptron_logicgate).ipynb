{
 "cells": [
  {
   "cell_type": "markdown",
   "id": "4a22e815-47df-4ea1-bc7b-5e6cf9b85d63",
   "metadata": {},
   "source": [
    "## I. Perceptron"
   ]
  },
  {
   "cell_type": "code",
   "execution_count": 1,
   "id": "189dfe71-f084-4bca-9785-13c916afcc38",
   "metadata": {},
   "outputs": [],
   "source": [
    "import warnings\n",
    "warnings.filterwarnings('ignore')"
   ]
  },
  {
   "cell_type": "markdown",
   "id": "95d9890f-6234-4f70-b453-3d606521bc15",
   "metadata": {},
   "source": [
    "### 1) Import numpy"
   ]
  },
  {
   "cell_type": "code",
   "execution_count": 2,
   "id": "b9538d8e-4f19-47e2-a808-21f60242bd9e",
   "metadata": {},
   "outputs": [],
   "source": [
    "import numpy as np "
   ]
  },
  {
   "cell_type": "markdown",
   "id": "f01eb92f-f4d5-4134-9750-fbf80c7f152e",
   "metadata": {},
   "source": [
    "### 2) gradient( ) 함수 정의\n",
    "- 다변수 함수의 수치미분"
   ]
  },
  {
   "cell_type": "code",
   "execution_count": 3,
   "id": "b4d7762f-eabb-4426-aadb-0a6df8fa4b64",
   "metadata": {},
   "outputs": [],
   "source": [
    "def gradient(machine, param):\n",
    "\n",
    "    if param.ndim == 1:\n",
    "        temp_param = param\n",
    "        delta = 0.00005\n",
    "        learned_param = np.zeros(param.shape)\n",
    "        \n",
    "        for index in range(len(param)):\n",
    "            target_param = float(temp_param[index])\n",
    "            temp_param[index] = target_param + delta            \n",
    "            param_plus_delta = machine(temp_param)\n",
    "            temp_param[index] = target_param - delta  \n",
    "            param_minus_delta = machine(temp_param)\n",
    "            learned_param[index] = (param_plus_delta - param_minus_delta ) / (2 * delta)\n",
    "            temp_param[index] = target_param\n",
    "\n",
    "        return learned_param\n",
    "        \n",
    "\n",
    "    elif param.ndim == 2:\n",
    "        temp_param = param\n",
    "        delta = 0.00005\n",
    "        learned_param = np.zeros(param.shape)\n",
    "    \n",
    "        rows = param.shape[0]\n",
    "        columns = param.shape[1]\n",
    "    \n",
    "        for row in range(rows):\n",
    "            for column in range(columns):\n",
    "                target_param = float(temp_param[row, column])\n",
    "                temp_param[row, column] = target_param + delta            \n",
    "                param_plus_delta = machine(temp_param)\n",
    "                temp_param[row, column] = target_param - delta            \n",
    "                param_minus_delta = machine(temp_param)\n",
    "                learned_param[row, column] = (param_plus_delta - param_minus_delta) / (2 * delta)\n",
    "                temp_param[row, column] = target_param\n",
    "\n",
    "        return learned_param"
   ]
  },
  {
   "cell_type": "markdown",
   "id": "44571bd5-e491-4a9b-b4b0-37181eb950f8",
   "metadata": {},
   "source": [
    "## II. Logic Gate( ) - 'AND', 'OR', 'NAND'\n",
    "### 1) sigmoid( ) 함수 정의\n",
    "- 0과 1의 값만 나와야하니까"
   ]
  },
  {
   "cell_type": "code",
   "execution_count": 4,
   "id": "8ea8419a-96f4-42fe-8967-04eebc9c64a1",
   "metadata": {},
   "outputs": [],
   "source": [
    "import numpy as np \n",
    "\n",
    "def sigmoid(x):\n",
    "    y_hat = 1 / (1 + np.exp(-x))\n",
    "    return y_hat"
   ]
  },
  {
   "cell_type": "markdown",
   "id": "73740a7a-e723-4e6d-943e-6cfdf98a8d11",
   "metadata": {},
   "source": [
    "### 2) LogicGate 클래스 선언\n",
    "- 1만회 학습, 천단위당 코스트함수값(CEE) 출력, 러닝레이트 0.01"
   ]
  },
  {
   "cell_type": "code",
   "execution_count": 5,
   "id": "288a80f3-89cc-4b3d-ae92-9a1286b1c502",
   "metadata": {},
   "outputs": [],
   "source": [
    "class LogicGate:\n",
    "    \n",
    "    def __init__(self, gate_Type, X_input, y_output):  \n",
    "\n",
    "# gate_Type 문자열 지정 Member      \n",
    "        self.Type = gate_Type\n",
    "        \n",
    "# X_input, y_output Member 초기화\n",
    "        self.X_input = X_input.reshape(4, 2)\n",
    "        self.y_output = y_output.reshape(4, 1)\n",
    "        \n",
    "# W, b Member 초기화\n",
    "        self.W = np.random.rand(2, 1)  \n",
    "        self.b = np.random.rand(1)\n",
    "                        \n",
    "# learning_rate Member 지정\n",
    "        self.learning_rate = 0.01\n",
    "\n",
    "# Cost_Function(CEE) Method  # 분류니까 Cross Entropy Error\n",
    "    def cost_func(self):\n",
    "        z = np.dot(self.X_input, self.W) + self.b\n",
    "        y_hat = sigmoid(z)\n",
    "        \n",
    "        return -np.sum(self.y_output * np.log(y_hat) + (1 - self.y_output) * np.log(1 - y_hat)) #로지스틱    \n",
    "\n",
    "# Learning Method\n",
    "    def fit(self):\n",
    "        machine = lambda x : self.cost_func()\n",
    "        print('Initial Cost = ', self.cost_func())\n",
    "        \n",
    "        for step in  range(10001):\n",
    "            self.W = self.W - self.learning_rate * gradient(machine, self.W)\n",
    "            self.b = self.b - self.learning_rate * gradient(machine, self.b)\n",
    "    \n",
    "            if (step % 1000 == 0):\n",
    "                print('Step = ', step, 'Cost = ', self.cost_func())\n",
    "                \n",
    "# Predict Method\n",
    "    def predict(self, input_data):\n",
    "        \n",
    "        z = np.dot(input_data, self.W) + self.b\n",
    "        y_prob = sigmoid(z)\n",
    "    \n",
    "        if y_prob > 0.5:\n",
    "            result = 1\n",
    "        else:\n",
    "            result = 0\n",
    "    \n",
    "        return y_prob, result"
   ]
  },
  {
   "cell_type": "markdown",
   "id": "823b0729-8928-4514-9cda-ea5da4bcbf60",
   "metadata": {},
   "source": [
    "### 3) AND_Gate\n",
    "- X_input, y_output 지정"
   ]
  },
  {
   "cell_type": "code",
   "execution_count": 6,
   "id": "092e9bb8-9a5a-4dba-a658-e77cacfb5df1",
   "metadata": {},
   "outputs": [],
   "source": [
    "X_input  = np.array([[0, 0], [0, 1], [1, 0], [1, 1]]) # 4행 2열의 데이터 임의로 지정\n",
    "y_output = np.array([0, 0, 0, 1])"
   ]
  },
  {
   "cell_type": "markdown",
   "id": "2be18e44-7456-4168-ab9b-d9bbc9075469",
   "metadata": {},
   "source": [
    "- AND_Gate 객체 생성 및 학습"
   ]
  },
  {
   "cell_type": "code",
   "execution_count": 7,
   "id": "3d1e2035-6fe0-400c-a7db-5d358b018549",
   "metadata": {},
   "outputs": [
    {
     "name": "stdout",
     "output_type": "stream",
     "text": [
      "Initial Cost =  3.2804544468707304\n",
      "Step =  0 Cost =  3.25063116406669\n",
      "Step =  1000 Cost =  1.0054766802260107\n",
      "Step =  2000 Cost =  0.6595279665511713\n",
      "Step =  3000 Cost =  0.49099859176637795\n",
      "Step =  4000 Cost =  0.3900082417672952\n",
      "Step =  5000 Cost =  0.3227232601348735\n",
      "Step =  6000 Cost =  0.2747703968413534\n",
      "Step =  7000 Cost =  0.2389310822205146\n",
      "Step =  8000 Cost =  0.211172891369097\n",
      "Step =  9000 Cost =  0.18906667821665302\n",
      "Step =  10000 Cost =  0.1710631430977939\n"
     ]
    }
   ],
   "source": [
    "AND_Gate = LogicGate('AND_GATE', X_input, y_output)\n",
    "\n",
    "AND_Gate.fit() # 학습(훈련) = 가중치를 변경하는 과정 "
   ]
  },
  {
   "cell_type": "markdown",
   "id": "23286307-2c6c-463e-bd26-edf88ccd471f",
   "metadata": {},
   "source": [
    "- AND_Gate 테스트"
   ]
  },
  {
   "cell_type": "code",
   "execution_count": 8,
   "id": "c20e7894-dbcf-4abc-8ed8-addc22712f66",
   "metadata": {},
   "outputs": [
    {
     "name": "stdout",
     "output_type": "stream",
     "text": [
      "AND_GATE \n",
      "\n",
      "[0 0]  =  0\n",
      "[0 1]  =  0\n",
      "[1 0]  =  0\n",
      "[1 1]  =  1\n"
     ]
    }
   ],
   "source": [
    "print(AND_Gate.Type, '\\n')\n",
    "\n",
    "test_data = np.array([[0, 0], [0, 1], [1, 0], [1, 1]])\n",
    "\n",
    "for input_data in test_data:\n",
    "    (sigmoid_val, logical_val) = AND_Gate.predict(input_data) \n",
    "    print(input_data, ' = ', logical_val)  "
   ]
  },
  {
   "cell_type": "markdown",
   "id": "02acd274-cd41-43d9-af66-47da555adc05",
   "metadata": {},
   "source": [
    "### 4) OR_Gate\n",
    "- X_input, y_output"
   ]
  },
  {
   "cell_type": "code",
   "execution_count": 9,
   "id": "c1b26236-cf4e-45d4-85ce-77c293fae369",
   "metadata": {},
   "outputs": [],
   "source": [
    "X_input  = np.array([[0, 0], [0, 1], [1, 0], [1, 1]])\n",
    "y_output = np.array([0, 1, 1, 1])"
   ]
  },
  {
   "cell_type": "markdown",
   "id": "2188bec1-097b-4103-9524-62345c273a19",
   "metadata": {},
   "source": [
    "- OR_Gate 객체 생성 및 학습"
   ]
  },
  {
   "cell_type": "code",
   "execution_count": 10,
   "id": "c20968d9-955f-43f1-bc8f-7305f5e8a1cc",
   "metadata": {},
   "outputs": [
    {
     "name": "stdout",
     "output_type": "stream",
     "text": [
      "Initial Cost =  1.6980470306056277\n",
      "Step =  0 Cost =  1.695838563641866\n",
      "Step =  1000 Cost =  0.6976030150956163\n",
      "Step =  2000 Cost =  0.4231633711441215\n",
      "Step =  3000 Cost =  0.29931128981722444\n",
      "Step =  4000 Cost =  0.22996509224190415\n",
      "Step =  5000 Cost =  0.18603297151384718\n",
      "Step =  6000 Cost =  0.15586451166965676\n",
      "Step =  7000 Cost =  0.13393748443599557\n",
      "Step =  8000 Cost =  0.11731519507119284\n",
      "Step =  9000 Cost =  0.10429888101980261\n",
      "Step =  10000 Cost =  0.09384059046067268\n"
     ]
    }
   ],
   "source": [
    "OR_Gate = LogicGate('OR_GATE', X_input, y_output)\n",
    "\n",
    "OR_Gate.fit() "
   ]
  },
  {
   "cell_type": "markdown",
   "id": "997ad39e-502a-4d46-afc4-12553a8fabfc",
   "metadata": {},
   "source": [
    "- OR_Gate 테스트"
   ]
  },
  {
   "cell_type": "code",
   "execution_count": 11,
   "id": "63e357c1-8613-416f-86ff-e05a48f4ba1a",
   "metadata": {},
   "outputs": [
    {
     "name": "stdout",
     "output_type": "stream",
     "text": [
      "OR_GATE \n",
      "\n",
      "[0 0]  =  0\n",
      "[0 1]  =  1\n",
      "[1 0]  =  1\n",
      "[1 1]  =  1\n"
     ]
    }
   ],
   "source": [
    "print(OR_Gate.Type, '\\n')\n",
    "\n",
    "test_data = np.array([[0, 0], [0, 1], [1, 0], [1, 1]])\n",
    "\n",
    "for input_data in test_data:\n",
    "    (sigmoid_val, logical_val) = OR_Gate.predict(input_data) \n",
    "    print(input_data, ' = ', logical_val)  "
   ]
  },
  {
   "cell_type": "markdown",
   "id": "611de4b2-f3f2-422e-b7fb-9e27ae260c71",
   "metadata": {},
   "source": [
    "### 5) NAND_Gate\n",
    "- X_input, y_output"
   ]
  },
  {
   "cell_type": "code",
   "execution_count": 12,
   "id": "4276ee3a-e2ec-42b7-8633-e1d00c31cb18",
   "metadata": {},
   "outputs": [
    {
     "name": "stdout",
     "output_type": "stream",
     "text": [
      "Initial Cost =  1.8192887695276723\n",
      "Step =  0 Cost =  1.8138725795810051\n",
      "Step =  1000 Cost =  0.6930414590358875\n",
      "Step =  2000 Cost =  0.42119358914089344\n",
      "Step =  3000 Cost =  0.29826399334518694\n",
      "Step =  4000 Cost =  0.22932728499969326\n",
      "Step =  5000 Cost =  0.1856076054431464\n",
      "Step =  6000 Cost =  0.15556210092608316\n",
      "Step =  7000 Cost =  0.1337121271194673\n",
      "Step =  8000 Cost =  0.11714110985834275\n",
      "Step =  9000 Cost =  0.10416054272842244\n",
      "Step =  10000 Cost =  0.09372812146336551\n"
     ]
    }
   ],
   "source": [
    "NAND_Gate = LogicGate('NAND_GATE', X_input, y_output)\n",
    "\n",
    "NAND_Gate.fit()"
   ]
  },
  {
   "cell_type": "markdown",
   "id": "22dbf11e-19a7-42f8-b2bf-5eff55a68e74",
   "metadata": {},
   "source": [
    "- NAND_Gate 테스트"
   ]
  },
  {
   "cell_type": "code",
   "execution_count": 13,
   "id": "c3cf1fe1-4b12-4ecd-aea1-4c875a89420c",
   "metadata": {},
   "outputs": [
    {
     "name": "stdout",
     "output_type": "stream",
     "text": [
      "NAND_GATE \n",
      "\n",
      "[0 0]  =  0\n",
      "[0 1]  =  1\n",
      "[1 0]  =  1\n",
      "[1 1]  =  1\n"
     ]
    }
   ],
   "source": [
    "print(NAND_Gate.Type, '\\n')\n",
    "\n",
    "test_data = np.array([[0, 0], [0, 1], [1, 0], [1, 1]])\n",
    "\n",
    "for input_data in test_data:\n",
    "    (sigmoid_val, logical_val) = NAND_Gate.predict(input_data) \n",
    "    print(input_data, ' = ', logical_val)  "
   ]
  },
  {
   "cell_type": "markdown",
   "id": "3857a49e-970a-44b7-8b24-834b64aac461",
   "metadata": {},
   "source": [
    "## III. XOR_Gate Issue\n",
    "### 1) XOR_Gate Failure\n",
    "- X_input, y_output"
   ]
  },
  {
   "cell_type": "code",
   "execution_count": 14,
   "id": "be406912-9291-4e16-83ac-01c15e50ad7b",
   "metadata": {},
   "outputs": [],
   "source": [
    "X_input  = np.array([[0, 0], [0, 1], [1, 0], [1, 1]])\n",
    "y_output = np.array([0, 1, 1, 0])"
   ]
  },
  {
   "cell_type": "markdown",
   "id": "e06d565b-d18f-449f-a964-7698e715aa2c",
   "metadata": {},
   "source": [
    "- XOR_Gate 객체 생성 및 학습"
   ]
  },
  {
   "cell_type": "code",
   "execution_count": 15,
   "id": "99a168db-de54-4525-9efb-d641c9f67e66",
   "metadata": {},
   "outputs": [
    {
     "name": "stdout",
     "output_type": "stream",
     "text": [
      "Initial Cost =  3.054984414561111\n",
      "Step =  0 Cost =  3.0479669506322793\n",
      "Step =  1000 Cost =  2.774016650871215\n",
      "Step =  2000 Cost =  2.772648552016752\n",
      "Step =  3000 Cost =  2.772591272357997\n",
      "Step =  4000 Cost =  2.772588831237341\n",
      "Step =  5000 Cost =  2.772588726900631\n",
      "Step =  6000 Cost =  2.7725887224390977\n",
      "Step =  7000 Cost =  2.7725887222483045\n",
      "Step =  8000 Cost =  2.7725887222401457\n",
      "Step =  9000 Cost =  2.7725887222397967\n",
      "Step =  10000 Cost =  2.772588722239782\n"
     ]
    }
   ],
   "source": [
    "XOR_Gate = LogicGate('XOR_GATE', X_input, y_output)\n",
    "\n",
    "XOR_Gate.fit()  # 코스트 변화가 없다???"
   ]
  },
  {
   "cell_type": "markdown",
   "id": "dc2e81b4-048c-4f79-af95-57a317506e98",
   "metadata": {},
   "source": [
    "- XOR_Gate 테스트"
   ]
  },
  {
   "cell_type": "code",
   "execution_count": 16,
   "id": "3fbe61db-5e71-4586-813a-bffa9c403244",
   "metadata": {},
   "outputs": [
    {
     "name": "stdout",
     "output_type": "stream",
     "text": [
      "XOR_GATE \n",
      "\n",
      "[0 0]  =  0\n",
      "[0 1]  =  0\n",
      "[1 0]  =  0\n",
      "[1 1]  =  1\n"
     ]
    }
   ],
   "source": [
    "print(XOR_Gate.Type, '\\n')\n",
    "\n",
    "test_data = np.array([[0, 0], [0, 1], [1, 0], [1, 1]])\n",
    "\n",
    "for input_data in test_data:\n",
    "    (sigmoid_val, logical_val) = XOR_Gate.predict(input_data) \n",
    "    print(input_data, ' = ', logical_val)\n",
    "\n",
    "# 학습 실패 -> 구조 자체가 불가능함(선형)"
   ]
  },
  {
   "cell_type": "markdown",
   "id": "c68c39e7-4114-4572-80dd-e596835161db",
   "metadata": {},
   "source": [
    "### 2) XOR_Gate Succeed\n",
    "- XOR를 (NAND + OR) 계층 및 AND 계층의 조합으로 연산\n",
    "- 이전 학습된 Parametrer로 XOR 수행"
   ]
  },
  {
   "cell_type": "code",
   "execution_count": 19,
   "id": "e6022e11-6661-4de3-829d-b6715a1fed40",
   "metadata": {},
   "outputs": [],
   "source": [
    "input_data = np.array([[0, 0], [0, 1], [1, 0], [1, 1]])\n",
    "\n",
    "HL1_1 = []    # NAND 출력\n",
    "HL1_2 = []    # OR   출력\n",
    "\n",
    "new_input_data = []  # AND      입력\n",
    "final_output = []    # AND(XOR) 출력\n",
    "\n",
    "for index in range(len(input_data)):\n",
    "\n",
    "    HL1_1 = NAND_Gate.predict(input_data[index])  # NAND 출력\n",
    "    HL1_2 = OR_Gate.predict(input_data[index])    # OR   출력\n",
    "    \n",
    "    new_input_data.append(HL1_1[-1])    # AND 입력\n",
    "    new_input_data.append(HL1_2[-1])    # AND 입력\n",
    "    \n",
    "    (sigmoid_val, logical_val) = AND_Gate.predict(np.array(new_input_data))\n",
    "    \n",
    "    final_output.append(logical_val)    # AND(XOR) 출력    \n",
    "    new_input_data = []                 # AND 입력 초기화"
   ]
  },
  {
   "cell_type": "code",
   "execution_count": 20,
   "id": "6517e36d-954c-47d2-b462-2f2b842b30e6",
   "metadata": {},
   "outputs": [
    {
     "name": "stdout",
     "output_type": "stream",
     "text": [
      "XOR_GATE \n",
      "\n",
      "[0 0]  =  0\n",
      "[0 1]  =  1\n",
      "[1 0]  =  1\n",
      "[1 1]  =  1\n"
     ]
    }
   ],
   "source": [
    "print(XOR_Gate.Type, '\\n')\n",
    "\n",
    "for index in range(len(input_data)):    \n",
    "    print(input_data[index], ' = ', final_output[index])\n",
    "\n",
    "# 1이 하나면 1 출력되어야 XOR 학습 성공!! \n",
    "# [1 1] = 0 이 나와야 하는데 안됨 => 학습 실패"
   ]
  },
  {
   "cell_type": "markdown",
   "id": "78d36849-f66f-44ea-b12a-6fd96f0e888d",
   "metadata": {},
   "source": [
    "### 3) XOR_Gate Learning\n",
    "#### (1) XOR_Gate Class"
   ]
  },
  {
   "cell_type": "code",
   "execution_count": 21,
   "id": "f4edd050-3fb3-478b-8067-c5c2849d84a5",
   "metadata": {},
   "outputs": [],
   "source": [
    "# 이제 XOR을 학습시켜보자\n",
    "\n",
    "class XOR_Gate:\n",
    "    \n",
    "    def __init__(self, gate_Type, X_input, y_output):  \n",
    "\n",
    "# gate_Type 문자열 지정 Member      \n",
    "        self.Type = gate_Type\n",
    "        \n",
    "# X_input, y_output Member 초기화\n",
    "        self.X_input = X_input.reshape(4, 2)\n",
    "        self.y_output = y_output.reshape(4, 1)\n",
    "        \n",
    "# W_1, b_1 Member 초기화\n",
    "        self.W_1 = np.random.rand(2, 2)  \n",
    "        self.b_1 = np.random.rand(2)\n",
    "\n",
    "# W_2, b_2 Member 초기화\n",
    "        self.W_2 = np.random.rand(2, 1)  \n",
    "        self.b_2 = np.random.rand(1)\n",
    "\n",
    "# learning_rate Member 지정\n",
    "        self.learning_rate = 0.01\n",
    "        \n",
    "# Cost_Function(CEE) Method\n",
    "    def cost_func(self):\n",
    "\n",
    "        z_1 = np.dot(self.X_input, self.W_1) + self.b_1     # Hidden Layer\n",
    "        a_1 = sigmoid(z_1)                                \n",
    "        \n",
    "        z_2 = np.dot(a_1, self.W_2) + self.b_2              # Output Layer\n",
    "        y_hat = sigmoid(z_2)                        \n",
    "\n",
    "        return -np.sum(self.y_output * np.log(y_hat) + (1 - self.y_output) * np.log(1 - y_hat))      \n",
    "\n",
    "# Learning Method\n",
    "    def fit(self):\n",
    "        machine = lambda x : self.cost_func()\n",
    "        print('Initial Cost = ', self.cost_func())\n",
    "        \n",
    "        for step in range(50001):  # 50000회 \n",
    "            self.W_1 = self.W_1- self.learning_rate * gradient(machine, self.W_1)\n",
    "            self.b_1 = self.b_1 - self.learning_rate * gradient(machine, self.b_1)\n",
    "\n",
    "            self.W_2 = self.W_2 - self.learning_rate * gradient(machine, self.W_2)\n",
    "            self.b_2 = self.b_2 - self.learning_rate * gradient(machine, self.b_2)\n",
    "            \n",
    "            if (step % 1000 == 0):\n",
    "                print('Step = ', step, 'Cost = ', self.cost_func())\n",
    "                \n",
    "# Predict Method\n",
    "    def predict(self, input_data):\n",
    "        \n",
    "        z_1 = np.dot(input_data, self.W_1) + self.b_1     # Hidden Layer\n",
    "        a_1 = sigmoid(z_1)                                \n",
    "        \n",
    "        z_2 = np.dot(a_1, self.W_2) + self.b_2            # Output Layer\n",
    "        y_prob = sigmoid(z_2)                             \n",
    "\n",
    "\n",
    "        if y_prob > 0.5:\n",
    "            result = 1\n",
    "        else:\n",
    "            result = 0\n",
    "    \n",
    "        return y_prob, result"
   ]
  },
  {
   "cell_type": "markdown",
   "id": "87dd2361-ead7-438b-8dd3-ced4af10be87",
   "metadata": {},
   "source": [
    "#### (2) X_input, y_output"
   ]
  },
  {
   "cell_type": "code",
   "execution_count": 22,
   "id": "593ab344-f214-4b3c-b0ff-bb30f25a2cb0",
   "metadata": {},
   "outputs": [],
   "source": [
    "X_input  = np.array([[0, 0], [0, 1], [1, 0], [1, 1]])\n",
    "y_output = np.array([0, 1, 1, 0])"
   ]
  },
  {
   "cell_type": "markdown",
   "id": "2570b0ad-71a8-4959-b0f1-5c2df3350492",
   "metadata": {},
   "source": [
    "#### (3) XOR_Gate_2.learn( )"
   ]
  },
  {
   "cell_type": "code",
   "execution_count": 23,
   "id": "21b9c5da-39ce-4ca5-acdc-728d18e62119",
   "metadata": {},
   "outputs": [
    {
     "name": "stdout",
     "output_type": "stream",
     "text": [
      "Initial Cost =  3.398403535859825\n",
      "Step =  0 Cost =  3.3753261700010944\n",
      "Step =  1000 Cost =  2.7688513251861258\n",
      "Step =  2000 Cost =  2.764751881046901\n",
      "Step =  3000 Cost =  2.755975110078471\n",
      "Step =  4000 Cost =  2.7357901411802823\n",
      "Step =  5000 Cost =  2.6891323897268906\n",
      "Step =  6000 Cost =  2.5884715744857476\n",
      "Step =  7000 Cost =  2.417164446028215\n",
      "Step =  8000 Cost =  2.2196884902911136\n",
      "Step =  9000 Cost =  2.0363747716517215\n",
      "Step =  10000 Cost =  1.8770303683361729\n",
      "Step =  11000 Cost =  1.7539754208426397\n",
      "Step =  12000 Cost =  1.6660556315067452\n",
      "Step =  13000 Cost =  1.6046235161865465\n",
      "Step =  14000 Cost =  1.5614151284760873\n",
      "Step =  15000 Cost =  1.5303921850250277\n",
      "Step =  16000 Cost =  1.507536424501391\n",
      "Step =  17000 Cost =  1.4902517001391558\n",
      "Step =  18000 Cost =  1.4768580352523337\n",
      "Step =  19000 Cost =  1.4662506516798142\n",
      "Step =  20000 Cost =  1.4576868805665675\n",
      "Step =  21000 Cost =  1.4506555798480234\n",
      "Step =  22000 Cost =  1.444796745026826\n",
      "Step =  23000 Cost =  1.439851255619673\n",
      "Step =  24000 Cost =  1.4356288325647995\n",
      "Step =  25000 Cost =  1.431987169983667\n",
      "Step =  26000 Cost =  1.4288180551119134\n",
      "Step =  27000 Cost =  1.4260379476544163\n",
      "Step =  28000 Cost =  1.4235814627718237\n",
      "Step =  29000 Cost =  1.4213967818135993\n",
      "Step =  30000 Cost =  1.4194423667404146\n",
      "Step =  31000 Cost =  1.4176845716302353\n",
      "Step =  32000 Cost =  1.4160958815752251\n",
      "Step =  33000 Cost =  1.4146535970435665\n",
      "Step =  34000 Cost =  1.413338839023245\n",
      "Step =  35000 Cost =  1.412135788215231\n",
      "Step =  36000 Cost =  1.4110310970951119\n",
      "Step =  37000 Cost =  1.4100134311203831\n",
      "Step =  38000 Cost =  1.4090731074525507\n",
      "Step =  39000 Cost =  1.408201808047166\n",
      "Step =  40000 Cost =  1.4073923499905523\n",
      "Step =  41000 Cost =  1.4066385002912156\n",
      "Step =  42000 Cost =  1.4059348254764403\n",
      "Step =  43000 Cost =  1.4052765686510078\n",
      "Step =  44000 Cost =  1.404659548381507\n",
      "Step =  45000 Cost =  1.404080075047227\n",
      "Step =  46000 Cost =  1.4035348812589523\n",
      "Step =  47000 Cost =  1.4030210636785343\n",
      "Step =  48000 Cost =  1.4025360341314217\n",
      "Step =  49000 Cost =  1.4020774783358718\n",
      "Step =  50000 Cost =  1.4016433209075085\n"
     ]
    }
   ],
   "source": [
    "XOR_Gate_2 = XOR_Gate('XOR_GATE', X_input, y_output)\n",
    "\n",
    "XOR_Gate_2.fit()\n",
    "\n",
    "# 코스트 값이 점차 떨어지기는 하지만 여전히 '기울기 폭발'상태"
   ]
  },
  {
   "cell_type": "markdown",
   "id": "5450dc05-45a0-4de7-bb6f-1655a639d97d",
   "metadata": {},
   "source": [
    "#### (4) XOR_Gate_2.predict( )"
   ]
  },
  {
   "cell_type": "code",
   "execution_count": 24,
   "id": "e58655e6-94dd-44ee-8635-b4e30bbb82af",
   "metadata": {},
   "outputs": [
    {
     "name": "stdout",
     "output_type": "stream",
     "text": [
      "XOR_GATE \n",
      "\n",
      "[0 0]  =  0\n",
      "[0 1]  =  0\n",
      "[1 0]  =  1\n",
      "[1 1]  =  1\n"
     ]
    }
   ],
   "source": [
    "print(XOR_Gate_2.Type, '\\n')\n",
    "\n",
    "test_data = np.array([[0, 0], [0, 1], [1, 0], [1, 1]])\n",
    "\n",
    "for input_data in test_data:\n",
    "    (sigmoid_val, logical_val) = XOR_Gate_2.predict(input_data) \n",
    "    print(input_data, ' = ', logical_val)  \n",
    "\n",
    "# 또 틀림... 위에서부터 순서대로 0, 1, 1, 0 이 출력되어야 맞는데?"
   ]
  },
  {
   "cell_type": "code",
   "execution_count": 25,
   "id": "7b665a0e-3397-4d40-ae1d-bfc7a3b531c2",
   "metadata": {},
   "outputs": [],
   "source": [
    "# colab으로 실행하면 학습 성공된 것을 확인할 수 있음\n",
    "# CPU 환경에서는 이 연산의 학습이 제대로 진행되지 않는 듯함.\n",
    "# colab에서 리소스 보기 > 런타임 유형 변경 > GPU 또는 TPU 선택하여 모델 실행시키기\n",
    "# 실행 결과 : https://github.com/jio-B/wassup/blob/main/colab_XOR_gate.ipynb"
   ]
  }
 ],
 "metadata": {
  "kernelspec": {
   "display_name": "Python 3 (ipykernel)",
   "language": "python",
   "name": "python3"
  },
  "language_info": {
   "codemirror_mode": {
    "name": "ipython",
    "version": 3
   },
   "file_extension": ".py",
   "mimetype": "text/x-python",
   "name": "python",
   "nbconvert_exporter": "python",
   "pygments_lexer": "ipython3",
   "version": "3.8.18"
  }
 },
 "nbformat": 4,
 "nbformat_minor": 5
}
