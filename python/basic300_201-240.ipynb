{
 "cells": [
  {
   "cell_type": "markdown",
   "id": "d18771ac",
   "metadata": {},
   "source": [
    "# Basic 300 : 201 - 240\n",
    "- https://wikidocs.net/23907"
   ]
  },
  {
   "cell_type": "code",
   "execution_count": 1,
   "id": "94bc6151",
   "metadata": {},
   "outputs": [],
   "source": [
    "# 201\n",
    "# 함수 정의\n",
    "# 함수 정의는 실행해도 아무일도 일어나지 않음\n",
    "\n",
    "def print_coin():\n",
    "    print(\"비트코인\")\n",
    "    "
   ]
  },
  {
   "cell_type": "code",
   "execution_count": 2,
   "id": "31ca8500",
   "metadata": {},
   "outputs": [
    {
     "name": "stdout",
     "output_type": "stream",
     "text": [
      "비트코인\n"
     ]
    }
   ],
   "source": [
    "# 202\n",
    "# 함수 호출 = 정의된 함수를 실행시키는 것\n",
    "\n",
    "print_coin()"
   ]
  },
  {
   "cell_type": "code",
   "execution_count": 3,
   "id": "07030573",
   "metadata": {},
   "outputs": [
    {
     "name": "stdout",
     "output_type": "stream",
     "text": [
      "비트코인\n",
      "비트코인\n",
      "비트코인\n",
      "비트코인\n",
      "비트코인\n",
      "비트코인\n",
      "비트코인\n",
      "비트코인\n",
      "비트코인\n",
      "비트코인\n"
     ]
    }
   ],
   "source": [
    "# 203\n",
    "# 100번 호출 = 202번 결과값을 100번 반복해서 꺼내오기 = for문?\n",
    "\n",
    "for i in range(10):\n",
    "    print_coin()"
   ]
  },
  {
   "cell_type": "code",
   "execution_count": 4,
   "id": "6c0adf05",
   "metadata": {},
   "outputs": [],
   "source": [
    "# 204\n",
    "# 100번 출력하는 함수 정의 = 201번 203번 혼합\n",
    "\n",
    "def print_coins():\n",
    "    for i in range(10):\n",
    "        print(\"비트코인\")"
   ]
  },
  {
   "cell_type": "code",
   "execution_count": 5,
   "id": "09b436b6",
   "metadata": {},
   "outputs": [
    {
     "ename": "NameError",
     "evalue": "name 'hello' is not defined",
     "output_type": "error",
     "traceback": [
      "\u001b[1;31m---------------------------------------------------------------------------\u001b[0m",
      "\u001b[1;31mNameError\u001b[0m                                 Traceback (most recent call last)",
      "Cell \u001b[1;32mIn[5], line 2\u001b[0m\n\u001b[0;32m      1\u001b[0m \u001b[38;5;66;03m# 205\u001b[39;00m\n\u001b[1;32m----> 2\u001b[0m \u001b[43mhello\u001b[49m()\n\u001b[0;32m      3\u001b[0m \u001b[38;5;28;01mdef\u001b[39;00m \u001b[38;5;21mhello\u001b[39m():\n\u001b[0;32m      4\u001b[0m     \u001b[38;5;28mprint\u001b[39m(\u001b[38;5;124m\"\u001b[39m\u001b[38;5;124mHi\u001b[39m\u001b[38;5;124m\"\u001b[39m)\n",
      "\u001b[1;31mNameError\u001b[0m: name 'hello' is not defined"
     ]
    }
   ],
   "source": [
    "# 205\n",
    "# 에러 발생한 이유\n",
    "# 함수가 정의되기 전에 호출되어서 에러 발생 : 무조건 정의 -> 호출 순서로\n",
    "\n",
    "hello()   # 이건 전역함수\n",
    " \n",
    "def hello(): # 이건 지역함수라서\n",
    "    print(\"Hi\")"
   ]
  },
  {
   "cell_type": "code",
   "execution_count": 11,
   "id": "209352ad",
   "metadata": {},
   "outputs": [
    {
     "name": "stdout",
     "output_type": "stream",
     "text": [
      "A\n",
      "B\n",
      "C\n",
      "A\n",
      "B\n"
     ]
    }
   ],
   "source": [
    "# 206\n",
    "# 실행결과 예측 : A B C A B (줄바꿈)\n",
    "# 참고) print()에는 줄바꿈 기능이 내장되어 있음 \\n\n",
    "\n",
    "def message() :\n",
    "    print(\"A\")\n",
    "    print(\"B\")\n",
    "\n",
    "message()\n",
    "print(\"C\")\n",
    "message()"
   ]
  },
  {
   "cell_type": "code",
   "execution_count": 16,
   "id": "4c034ce1",
   "metadata": {},
   "outputs": [
    {
     "name": "stdout",
     "output_type": "stream",
     "text": [
      "A\n",
      "C\n",
      "B\n"
     ]
    }
   ],
   "source": [
    "# 207\n",
    "# 실행 결과 예측 : A C B (줄바꿈)\n",
    "\n",
    "print(\"A\")\n",
    "\n",
    "def message():\n",
    "    print(\"B\")\n",
    "    \n",
    "print(\"C\")\n",
    "message()"
   ]
  },
  {
   "cell_type": "code",
   "execution_count": 17,
   "id": "e20366bc",
   "metadata": {},
   "outputs": [
    {
     "name": "stdout",
     "output_type": "stream",
     "text": [
      "A\n",
      "C\n",
      "B\n",
      "E\n",
      "D\n"
     ]
    }
   ],
   "source": [
    "# 208\n",
    "# 실행결과 예측 : A C B E D (줄바꿈)\n",
    "\n",
    "print(\"A\")\n",
    "def message1():\n",
    "    print(\"B\")\n",
    "print(\"C\")\n",
    "def message2():\n",
    "    print(\"D\")\n",
    "message1()\n",
    "print('E')\n",
    "message2()"
   ]
  },
  {
   "cell_type": "code",
   "execution_count": 18,
   "id": "ec59d3a3",
   "metadata": {},
   "outputs": [
    {
     "name": "stdout",
     "output_type": "stream",
     "text": [
      "B\n",
      "A\n"
     ]
    }
   ],
   "source": [
    "# 209\n",
    "# 실행결과 예측 : B A (줄바꿈)\n",
    "\n",
    "def message1():\n",
    "    print(\"A\")\n",
    "    \n",
    "def message2():\n",
    "    print(\"B\")\n",
    "    message1()\n",
    "\n",
    "message2()    "
   ]
  },
  {
   "cell_type": "code",
   "execution_count": 19,
   "id": "1d4846e4",
   "metadata": {},
   "outputs": [
    {
     "name": "stdout",
     "output_type": "stream",
     "text": [
      "B\n",
      "C\n",
      "B\n",
      "C\n",
      "B\n",
      "C\n",
      "A\n"
     ]
    }
   ],
   "source": [
    "# 210\n",
    "# 실행결과 예측 :  B C B C B C A (줄바꿈)\n",
    "\n",
    "def message1():\n",
    "    print(\"A\")\n",
    "    \n",
    "def message2():\n",
    "    print(\"B\")\n",
    "    \n",
    "def message3():\n",
    "    for i in range(3):\n",
    "        message2()\n",
    "        print(\"C\")\n",
    "    message1()\n",
    "    \n",
    "message3()    "
   ]
  },
  {
   "cell_type": "code",
   "execution_count": 20,
   "id": "0dd79a4c",
   "metadata": {},
   "outputs": [
    {
     "name": "stdout",
     "output_type": "stream",
     "text": [
      "안녕\n",
      "Hi\n"
     ]
    }
   ],
   "source": [
    "# 211\n",
    "# 함수의 호출 결과 예측 : 안녕 Hi\n",
    "\n",
    "def 함수(문자열):\n",
    "    print(문자열)  \n",
    "    \n",
    "함수(\"안녕\") # def 함수에 \"안녕\" 이라는 문자열을 넣어서 호출해줘\n",
    "함수(\"Hi\")"
   ]
  },
  {
   "cell_type": "code",
   "execution_count": 21,
   "id": "ca055ff6",
   "metadata": {},
   "outputs": [
    {
     "name": "stdout",
     "output_type": "stream",
     "text": [
      "7\n",
      "15\n"
     ]
    }
   ],
   "source": [
    "# 212\n",
    "# 함수의 호출 결과 예측 : 7 15 \n",
    "\n",
    "def 함수(a, b):\n",
    "    print(a+b)\n",
    "    \n",
    "함수(3,4)\n",
    "함수(7,8)"
   ]
  },
  {
   "cell_type": "code",
   "execution_count": 26,
   "id": "9b676c6d",
   "metadata": {},
   "outputs": [
    {
     "ename": "TypeError",
     "evalue": "함수() missing 1 required positional argument: '문자열'",
     "output_type": "error",
     "traceback": [
      "\u001b[1;31m---------------------------------------------------------------------------\u001b[0m",
      "\u001b[1;31mTypeError\u001b[0m                                 Traceback (most recent call last)",
      "Cell \u001b[1;32mIn[26], line 7\u001b[0m\n\u001b[0;32m      4\u001b[0m \u001b[38;5;28;01mdef\u001b[39;00m \u001b[38;5;21m함수\u001b[39m(문자열) :\n\u001b[0;32m      5\u001b[0m     \u001b[38;5;28mprint\u001b[39m(문자열)\n\u001b[1;32m----> 7\u001b[0m \u001b[43m함수\u001b[49m\u001b[43m(\u001b[49m\u001b[43m)\u001b[49m\n",
      "\u001b[1;31mTypeError\u001b[0m: 함수() missing 1 required positional argument: '문자열'"
     ]
    }
   ],
   "source": [
    "# 213 \n",
    "# 아래 에러 발생 원인은? \n",
    "# 함수 정의에서 함수의 매개변수로 1개의 값을 ()안에 입력하게로 되어 있음\n",
    "# 그런데 함수() <- 여기에는 인자를 아무것도 기입하지 않아(0개) 개수가 불일치\n",
    " \n",
    "def 함수(문자열) :\n",
    "    print(문자열)\n",
    "    \n",
    "함수()    "
   ]
  },
  {
   "cell_type": "code",
   "execution_count": 27,
   "id": "249860a0",
   "metadata": {},
   "outputs": [
    {
     "name": "stdout",
     "output_type": "stream",
     "text": [
      "35\n"
     ]
    }
   ],
   "source": [
    "def 함수(문자열) :\n",
    "    print(문자열)\n",
    "    \n",
    "함수(35)   # 이러면 에러 발생 안함 : 1개의 파라미터 1개의 인자"
   ]
  },
  {
   "cell_type": "code",
   "execution_count": 30,
   "id": "54a0aaba",
   "metadata": {},
   "outputs": [
    {
     "ename": "TypeError",
     "evalue": "can only concatenate str (not \"int\") to str",
     "output_type": "error",
     "traceback": [
      "\u001b[1;31m---------------------------------------------------------------------------\u001b[0m",
      "\u001b[1;31mTypeError\u001b[0m                                 Traceback (most recent call last)",
      "Cell \u001b[1;32mIn[30], line 6\u001b[0m\n\u001b[0;32m      3\u001b[0m \u001b[38;5;28;01mdef\u001b[39;00m \u001b[38;5;21m함수\u001b[39m(a,b):\n\u001b[0;32m      4\u001b[0m     \u001b[38;5;28mprint\u001b[39m(a\u001b[38;5;241m+\u001b[39mb)  \u001b[38;5;66;03m# \"안녕\"은 문자열, 3은 int\u001b[39;00m\n\u001b[1;32m----> 6\u001b[0m \u001b[43m함수\u001b[49m\u001b[43m(\u001b[49m\u001b[38;5;124;43m\"\u001b[39;49m\u001b[38;5;124;43m안녕\u001b[39;49m\u001b[38;5;124;43m\"\u001b[39;49m\u001b[43m,\u001b[49m\u001b[43m \u001b[49m\u001b[38;5;241;43m3\u001b[39;49m\u001b[43m)\u001b[49m\n",
      "Cell \u001b[1;32mIn[30], line 4\u001b[0m, in \u001b[0;36m함수\u001b[1;34m(a, b)\u001b[0m\n\u001b[0;32m      3\u001b[0m \u001b[38;5;28;01mdef\u001b[39;00m \u001b[38;5;21m함수\u001b[39m(a,b):\n\u001b[1;32m----> 4\u001b[0m     \u001b[38;5;28mprint\u001b[39m(\u001b[43ma\u001b[49m\u001b[38;5;241;43m+\u001b[39;49m\u001b[43mb\u001b[49m)\n",
      "\u001b[1;31mTypeError\u001b[0m: can only concatenate str (not \"int\") to str"
     ]
    }
   ],
   "source": [
    "# 214\n",
    "## 아래 에러 발생 원인은? 서로 다른형태의 자료들은 연산할 수 없음\n",
    "def 함수(a,b):\n",
    "    print(a+b)  # \"안녕\"은 문자열, 3은 int\n",
    "    \n",
    "함수(\"안녕\", 3)    "
   ]
  },
  {
   "cell_type": "code",
   "execution_count": 31,
   "id": "49b68344",
   "metadata": {},
   "outputs": [
    {
     "name": "stdout",
     "output_type": "stream",
     "text": [
      "안녕 3\n"
     ]
    }
   ],
   "source": [
    "# 214 -1  이건 에러 없이 가능~\n",
    "def 함수(a,b):\n",
    "    print(a+b)  # \"안녕\"은 문자열, \"3\"도 문자열\n",
    "    \n",
    "함수(\"안녕\", ' 3')   # 예상 결과: 안녕 3 (문자열 + 문자열 형태)"
   ]
  },
  {
   "cell_type": "code",
   "execution_count": 1,
   "id": "1605d546",
   "metadata": {},
   "outputs": [
    {
     "name": "stdout",
     "output_type": "stream",
     "text": [
      "메리크리스마스:D\n"
     ]
    }
   ],
   "source": [
    "# 215\n",
    "# 하나의 문자를 입력받아 문자열 끝에 \n",
    "#\":D\" 스마일 문자열을 붙여 출력하는 print_with_smile 함수 정의\n",
    "\n",
    "def print_with_smile(문자열):\n",
    "    print(문자열 + ':D')\n",
    "    \n",
    "print_with_smile('메리크리스마스')    "
   ]
  },
  {
   "cell_type": "code",
   "execution_count": 3,
   "id": "30576641",
   "metadata": {},
   "outputs": [
    {
     "name": "stdout",
     "output_type": "stream",
     "text": [
      "안녕하세요:D\n"
     ]
    }
   ],
   "source": [
    "# 216\n",
    "print_with_smile('안녕하세요')"
   ]
  },
  {
   "cell_type": "code",
   "execution_count": 4,
   "id": "4fd18455",
   "metadata": {},
   "outputs": [],
   "source": [
    "#217\n",
    "def print_upper_price(p):\n",
    "    print(p*1.3)"
   ]
  },
  {
   "cell_type": "code",
   "execution_count": 5,
   "id": "9c0255d0",
   "metadata": {},
   "outputs": [],
   "source": [
    "#218\n",
    "def print_sum(a, b):\n",
    "    print(a+b)"
   ]
  },
  {
   "cell_type": "code",
   "execution_count": 21,
   "id": "d75e513b",
   "metadata": {},
   "outputs": [],
   "source": [
    "#219 ---> 내가 작성한 코드\n",
    "def print_arithmetic_operation(a, b):\n",
    "    print(f'{a} + {b} = {a+b}')\n",
    "    print(f'{a} - {b} = {a-b}')\n",
    "    print(f'{a} * {b} = {a*b}')\n",
    "    print(f'{a} / {b} = {a/b}')"
   ]
  },
  {
   "cell_type": "code",
   "execution_count": 19,
   "id": "7497c0ce",
   "metadata": {},
   "outputs": [],
   "source": [
    "#219 ---> 예제 답안\n",
    "'''def print_arithmetic_operation(a, b):\n",
    "    print(a, \"+\", b, \"=\", a+b)\n",
    "    print(a, \"-\", b, \"=\", a-b)\n",
    "    print(a, \"*\", b, \"=\", a*b)\n",
    "    print(a, \"/\", b, \"=\", a/b)'''"
   ]
  },
  {
   "cell_type": "code",
   "execution_count": 22,
   "id": "e817eae6",
   "metadata": {},
   "outputs": [
    {
     "name": "stdout",
     "output_type": "stream",
     "text": [
      "3 + 4 = 7\n",
      "3 - 4 = -1\n",
      "3 * 4 = 12\n",
      "3 / 4 = 0.75\n"
     ]
    }
   ],
   "source": [
    "print_arithmetic_operation(3,4)"
   ]
  },
  {
   "cell_type": "code",
   "execution_count": 14,
   "id": "6273ce8a",
   "metadata": {},
   "outputs": [],
   "source": [
    "# 220 세 개 함수 입력받아 가장 큰 수를 출력하는 함수 정의\n",
    "# 내가 작성한 코드\n",
    "# 이건 세 개의 값이 똑같으면 출력을 못함;;;;\n",
    "\n",
    "def print_max(a,b,c):\n",
    "    if a > b and a > c:\n",
    "        print(a)\n",
    "    elif b > a and b > c:\n",
    "        print(b)\n",
    "    elif c > a and c > b:\n",
    "        print(c)"
   ]
  },
  {
   "cell_type": "code",
   "execution_count": 28,
   "id": "6f709fc9",
   "metadata": {},
   "outputs": [],
   "source": [
    "###### 220  # 코드 파악하기 \n",
    "# 예제 답안 (아래 형식의 코드가 자주 쓰이므로 익혀두자)\n",
    "'''\n",
    "def print_max(a,b,c):\n",
    "    max_val = 0\n",
    "    if a > max_val:\n",
    "        max_val = a\n",
    "    if b > max_val:\n",
    "        max_val = b\n",
    "    if c > max_val:\n",
    "        max_val = c\n",
    "    print(max_val)    \n",
    "'''"
   ]
  },
  {
   "cell_type": "code",
   "execution_count": 17,
   "id": "d0aedc2f",
   "metadata": {},
   "outputs": [
    {
     "name": "stdout",
     "output_type": "stream",
     "text": [
      "6\n"
     ]
    }
   ],
   "source": [
    "print_max(1, 6, 5)"
   ]
  },
  {
   "cell_type": "code",
   "execution_count": 30,
   "id": "a483a761",
   "metadata": {},
   "outputs": [
    {
     "data": {
      "text/plain": [
       "7"
      ]
     },
     "execution_count": 30,
     "metadata": {},
     "output_type": "execute_result"
    }
   ],
   "source": [
    "#220 ---> 근데 사실 이 문제는 내장함수가 있어 ㅡㅡ\n",
    "max(7, 5, 0)"
   ]
  },
  {
   "cell_type": "code",
   "execution_count": 43,
   "id": "5af58cc7",
   "metadata": {},
   "outputs": [],
   "source": [
    "# 221 \n",
    "# a.reverse()는 리스트만 가능??\n",
    "# 문자열을 역순으로 출력할 땐 인덱스를 쓰자\n",
    "\n",
    "def print_reverse(a):\n",
    "    print(a[::-1])"
   ]
  },
  {
   "cell_type": "code",
   "execution_count": 44,
   "id": "ef76c48b",
   "metadata": {},
   "outputs": [
    {
     "name": "stdout",
     "output_type": "stream",
     "text": [
      "nohtyp\n"
     ]
    }
   ],
   "source": [
    "print_reverse(\"python\")"
   ]
  },
  {
   "cell_type": "code",
   "execution_count": 50,
   "id": "9808d026",
   "metadata": {},
   "outputs": [
    {
     "data": {
      "text/plain": [
       "[3, 2, 1]"
      ]
     },
     "execution_count": 50,
     "metadata": {},
     "output_type": "execute_result"
    }
   ],
   "source": [
    "a = [1, 2, 3]\n",
    "a.reverse()\n",
    "a"
   ]
  },
  {
   "cell_type": "code",
   "execution_count": 51,
   "id": "67ed8de8",
   "metadata": {},
   "outputs": [
    {
     "data": {
      "text/plain": [
       "['3', '2', '1']"
      ]
     },
     "execution_count": 51,
     "metadata": {},
     "output_type": "execute_result"
    }
   ],
   "source": [
    "a = ['1', '2', '3']\n",
    "a.reverse()\n",
    "a"
   ]
  },
  {
   "cell_type": "code",
   "execution_count": 56,
   "id": "72312be5",
   "metadata": {},
   "outputs": [],
   "source": [
    "# 222 \n",
    "def print_score(score):\n",
    "    print(sum(score)/len(score))"
   ]
  },
  {
   "cell_type": "code",
   "execution_count": 57,
   "id": "7970edb1",
   "metadata": {},
   "outputs": [
    {
     "name": "stdout",
     "output_type": "stream",
     "text": [
      "2.0\n"
     ]
    }
   ],
   "source": [
    "print_score([1, 2, 3])"
   ]
  },
  {
   "cell_type": "code",
   "execution_count": 73,
   "id": "8cd3c7d8",
   "metadata": {},
   "outputs": [],
   "source": [
    "#223\n",
    "def print_even(nums):\n",
    "    for num in nums:\n",
    "        if num % 2 == 0:\n",
    "            print(num)\n",
    "        "
   ]
  },
  {
   "cell_type": "code",
   "execution_count": 74,
   "id": "fd7eaf81",
   "metadata": {},
   "outputs": [
    {
     "name": "stdout",
     "output_type": "stream",
     "text": [
      "2\n",
      "10\n",
      "12\n"
     ]
    }
   ],
   "source": [
    "print_even ([1, 3, 2, 10, 12, 11, 15])"
   ]
  },
  {
   "cell_type": "code",
   "execution_count": 92,
   "id": "d2e01bd9",
   "metadata": {},
   "outputs": [],
   "source": [
    "####### 224  # 이건 다시 복습해\n",
    "# 하나의 딕셔너리를 입력 받아 딕셔너리의 key 값을 화면에 출력하는 print_keys 함수 정의하기\n",
    "\n",
    "def print_keys(info_k):\n",
    "    for info in info_k.keys():\n",
    "        print(info)"
   ]
  },
  {
   "cell_type": "code",
   "execution_count": 93,
   "id": "d71754cd",
   "metadata": {},
   "outputs": [
    {
     "name": "stdout",
     "output_type": "stream",
     "text": [
      "이름\n",
      "나이\n",
      "성별\n"
     ]
    }
   ],
   "source": [
    "print_keys ({\"이름\":\"김말똥\", \"나이\":30, \"성별\":0})"
   ]
  },
  {
   "cell_type": "code",
   "execution_count": 10,
   "id": "7fc7ef27",
   "metadata": {},
   "outputs": [],
   "source": [
    "######### 225 # 이것도 다시 복습해\n",
    "# my_dict와 날짜 키값을 입력받아 OHLC 리스트 출력하는 print_value_by_key 함수정의\n",
    "\n",
    "my_dict = {\"10/26\" : [100, 130, 100, 100], \n",
    "           \"10/27\" : [10, 12, 10, 11]}\n",
    "\n",
    "def print_value_by_key(my_dict, key):\n",
    "    print(my_dict[key])"
   ]
  },
  {
   "cell_type": "code",
   "execution_count": 11,
   "id": "1075518b",
   "metadata": {},
   "outputs": [
    {
     "name": "stdout",
     "output_type": "stream",
     "text": [
      "[100, 130, 100, 100]\n"
     ]
    }
   ],
   "source": [
    "print_value_by_key(my_dict, \"10/26\")"
   ]
  },
  {
   "cell_type": "code",
   "execution_count": 21,
   "id": "a99f0fbe",
   "metadata": {},
   "outputs": [],
   "source": [
    "####### 226 # 이것도 다시 복습\n",
    "# 입력 문자열을 한 줄에 다섯 글자씩 출력하는 함수\n",
    "# 내가 작성한 코드 ..... 이거 아니야....\n",
    "\n",
    "def print_5xn(string):\n",
    "    print(string[:5]) \n",
    "    print(string[5:])"
   ]
  },
  {
   "cell_type": "code",
   "execution_count": 22,
   "id": "4b57332b",
   "metadata": {},
   "outputs": [
    {
     "name": "stdout",
     "output_type": "stream",
     "text": [
      "아이엠어보\n",
      "이유알어걸\n"
     ]
    }
   ],
   "source": [
    "print_5xn(\"아이엠어보이유알어걸\")"
   ]
  },
  {
   "cell_type": "code",
   "execution_count": 26,
   "id": "ecf5037c",
   "metadata": {},
   "outputs": [],
   "source": [
    "# 226 (예제 답안)\n",
    "# 이해될 때까지 무한 손코딩.....\n",
    "\n",
    "def print_5xn(line):\n",
    "    chunk_num = int(len(line)/5)\n",
    "    for x in range(chunk_num + 1):\n",
    "        print(line[ x * 5 : x * 5 + 5])"
   ]
  },
  {
   "cell_type": "code",
   "execution_count": 27,
   "id": "083dc0f0",
   "metadata": {},
   "outputs": [
    {
     "name": "stdout",
     "output_type": "stream",
     "text": [
      "아이엠어보\n",
      "이유알어걸\n",
      "\n"
     ]
    }
   ],
   "source": [
    "print_5xn(\"아이엠어보이유알어걸\")"
   ]
  },
  {
   "cell_type": "code",
   "execution_count": 34,
   "id": "5295d6eb",
   "metadata": {},
   "outputs": [],
   "source": [
    "###### 227  # 얘도 복습 \n",
    "# 226 예제 답안 참고해서 얼떨결에 작성은 했는데.. 원리를 아직 모르겠어...\n",
    "# (1) 문자열과 한줄에 출력될 글자 수를 입력 받아 --> len() ?\n",
    "# (2) 한줄에 입력된 글자 수 만큼 출력하는 함수 작성\n",
    "\n",
    "def print_mxn(line, cut):\n",
    "    chunk_num = int(len(line)/cut)\n",
    "    for x in range(chunk_num +1):\n",
    "        print(line[x * cut : x * cut + cut])"
   ]
  },
  {
   "cell_type": "code",
   "execution_count": 35,
   "id": "3767de62",
   "metadata": {},
   "outputs": [
    {
     "name": "stdout",
     "output_type": "stream",
     "text": [
      "아이엠\n",
      "어보이\n",
      "유알어\n",
      "걸\n"
     ]
    }
   ],
   "source": [
    "print_mxn(\"아이엠어보이유알어걸\", 3)"
   ]
  },
  {
   "cell_type": "code",
   "execution_count": 36,
   "id": "d9732a66",
   "metadata": {},
   "outputs": [],
   "source": [
    "# 228\n",
    "# 연봉 입력하면 월급 계산하는 함수 정의\n",
    "# 연봉을 12개월 나누어 월급으로 지급. 1원 미만은 버림 = float -> int\n",
    "\n",
    "def calc_monthly_salary(total):\n",
    "    print(int(total/12))"
   ]
  },
  {
   "cell_type": "code",
   "execution_count": 37,
   "id": "e5335a04",
   "metadata": {},
   "outputs": [
    {
     "name": "stdout",
     "output_type": "stream",
     "text": [
      "1000000\n"
     ]
    }
   ],
   "source": [
    "calc_monthly_salary(12000000)"
   ]
  },
  {
   "cell_type": "code",
   "execution_count": 38,
   "id": "758b7c73",
   "metadata": {},
   "outputs": [],
   "source": [
    "def calc_monthly_salary(annual_pay) :\n",
    "    monthly_pay = int(annual_pay / 12)\n",
    "    return monthly_pay"
   ]
  },
  {
   "cell_type": "code",
   "execution_count": 39,
   "id": "0cc491d8",
   "metadata": {},
   "outputs": [
    {
     "data": {
      "text/plain": [
       "1000000"
      ]
     },
     "execution_count": 39,
     "metadata": {},
     "output_type": "execute_result"
    }
   ],
   "source": [
    "calc_monthly_salary(12000000)"
   ]
  },
  {
   "cell_type": "code",
   "execution_count": 40,
   "id": "3c0cb5ac",
   "metadata": {},
   "outputs": [
    {
     "name": "stdout",
     "output_type": "stream",
     "text": [
      "왼쪽: 100\n",
      "오른쪽: 200\n"
     ]
    }
   ],
   "source": [
    "# 229\n",
    "# 실행결과 예측 --->  왼쪽:100 (줄바꿈) 오른쪽:200\n",
    "\n",
    "def my_print (a, b) :\n",
    "    print(\"왼쪽:\", a)\n",
    "    print(\"오른쪽:\", b)\n",
    "\n",
    "my_print(a=100, b=200)"
   ]
  },
  {
   "cell_type": "code",
   "execution_count": 41,
   "id": "49c3f1ec",
   "metadata": {},
   "outputs": [
    {
     "name": "stdout",
     "output_type": "stream",
     "text": [
      "왼쪽: 200\n",
      "오른쪽: 100\n"
     ]
    }
   ],
   "source": [
    "# 230\n",
    "# 실행결과 예측 ---> 왼쪽:200 (줄바꿈) 오른쪽:100\n",
    "# 인덱스를 지정하면 순서를 바꿀 수 있다\n",
    "\n",
    "def my_print (a, b) :\n",
    "    print(\"왼쪽:\", a)\n",
    "    print(\"오른쪽:\", b)\n",
    "\n",
    "my_print(b=100, a=200)\n"
   ]
  },
  {
   "cell_type": "code",
   "execution_count": 42,
   "id": "0cf641b6",
   "metadata": {},
   "outputs": [
    {
     "ename": "NameError",
     "evalue": "name 'result' is not defined",
     "output_type": "error",
     "traceback": [
      "\u001b[1;31m---------------------------------------------------------------------------\u001b[0m",
      "\u001b[1;31mNameError\u001b[0m                                 Traceback (most recent call last)",
      "Cell \u001b[1;32mIn[42], line 8\u001b[0m\n\u001b[0;32m      5\u001b[0m     result \u001b[38;5;241m=\u001b[39m n \u001b[38;5;241m+\u001b[39m \u001b[38;5;241m1\u001b[39m\n\u001b[0;32m      7\u001b[0m n_plus_1(\u001b[38;5;241m3\u001b[39m)\n\u001b[1;32m----> 8\u001b[0m \u001b[38;5;28mprint\u001b[39m (\u001b[43mresult\u001b[49m)\n",
      "\u001b[1;31mNameError\u001b[0m: name 'result' is not defined"
     ]
    }
   ],
   "source": [
    "# 231\n",
    "# 실행결과 예측 --->  에러발생(전역변수와 지역변수)\n",
    "# 지역변수를 return 하지 않으면 함수 밖에서 (전역변수로) 사용할 수 없음\n",
    "\n",
    "def n_plus_1 (n) :\n",
    "    result = n + 1\n",
    "\n",
    "n_plus_1(3)\n",
    "print (result)"
   ]
  },
  {
   "cell_type": "code",
   "execution_count": 48,
   "id": "079db115",
   "metadata": {},
   "outputs": [],
   "source": [
    "# 232\n",
    "# 문자열 하나를 입력받아 인터넷 주소를 반환하는 make_url 함수 정의\n",
    "\n",
    "def make_url(address):\n",
    "    url = 'www.' + address + '.com'\n",
    "    return url\n",
    "\n",
    "'''한 줄로 표현한다면....\n",
    "def make_url(string):\n",
    "    return \"www. \" + string + \".com\" '''"
   ]
  },
  {
   "cell_type": "code",
   "execution_count": 49,
   "id": "86e7c658",
   "metadata": {},
   "outputs": [
    {
     "data": {
      "text/plain": [
       "'www.naver.com'"
      ]
     },
     "execution_count": 49,
     "metadata": {},
     "output_type": "execute_result"
    }
   ],
   "source": [
    "make_url(\"naver\")"
   ]
  },
  {
   "cell_type": "code",
   "execution_count": 51,
   "id": "8f365e52",
   "metadata": {},
   "outputs": [],
   "source": [
    "##### 233\n",
    "# 문자열 입력받아 각 문자들로 구성된 리스트로 반환하는 make_list 함수 정의\n",
    "# 내가 작성한 코드\n",
    "\n",
    "def make_list(word):\n",
    "    result = list(word)\n",
    "    return result"
   ]
  },
  {
   "cell_type": "code",
   "execution_count": 52,
   "id": "4e1b72d6",
   "metadata": {},
   "outputs": [
    {
     "data": {
      "text/plain": [
       "['a', 'b', 'c', 'd']"
      ]
     },
     "execution_count": 52,
     "metadata": {},
     "output_type": "execute_result"
    }
   ],
   "source": [
    "make_list(\"abcd\")"
   ]
  },
  {
   "cell_type": "code",
   "execution_count": null,
   "id": "e990eeaf",
   "metadata": {},
   "outputs": [],
   "source": [
    "# 예제 답안 : 비어 있는 리스트를 for문으로 채워넣는 방식 익히기\n",
    "\n",
    "def make_list(string):\n",
    "    my_list = []\n",
    "    for 변수 in string:\n",
    "        my_list.append(변수)\n",
    "    return my_list\n",
    "\n",
    "'''한 줄로 표현한다면\n",
    "def make_list(string):\n",
    "    return list(string)'''"
   ]
  },
  {
   "cell_type": "code",
   "execution_count": 63,
   "id": "73e951a6",
   "metadata": {},
   "outputs": [],
   "source": [
    "####### 234\n",
    "# (1) 숫자로 구성된 하나의 리스트를 입력받아, \n",
    "# (2) 짝수들을 추출하여 리스트로 반환하는 pickup_even 함수 구현\n",
    "\n",
    "def pickup_even(num):\n",
    "    if num % 2 == 0:\n",
    "        return num"
   ]
  },
  {
   "cell_type": "code",
   "execution_count": 64,
   "id": "b4bd6e2d",
   "metadata": {},
   "outputs": [
    {
     "ename": "TypeError",
     "evalue": "unsupported operand type(s) for %: 'list' and 'int'",
     "output_type": "error",
     "traceback": [
      "\u001b[1;31m---------------------------------------------------------------------------\u001b[0m",
      "\u001b[1;31mTypeError\u001b[0m                                 Traceback (most recent call last)",
      "Cell \u001b[1;32mIn[64], line 1\u001b[0m\n\u001b[1;32m----> 1\u001b[0m \u001b[43mpickup_even\u001b[49m\u001b[43m(\u001b[49m\u001b[43m[\u001b[49m\u001b[38;5;241;43m3\u001b[39;49m\u001b[43m,\u001b[49m\u001b[43m \u001b[49m\u001b[38;5;241;43m4\u001b[39;49m\u001b[43m,\u001b[49m\u001b[43m \u001b[49m\u001b[38;5;241;43m5\u001b[39;49m\u001b[43m,\u001b[49m\u001b[43m \u001b[49m\u001b[38;5;241;43m6\u001b[39;49m\u001b[43m,\u001b[49m\u001b[43m \u001b[49m\u001b[38;5;241;43m7\u001b[39;49m\u001b[43m,\u001b[49m\u001b[43m \u001b[49m\u001b[38;5;241;43m8\u001b[39;49m\u001b[43m]\u001b[49m\u001b[43m)\u001b[49m\n",
      "Cell \u001b[1;32mIn[63], line 6\u001b[0m, in \u001b[0;36mpickup_even\u001b[1;34m(num)\u001b[0m\n\u001b[0;32m      5\u001b[0m \u001b[38;5;28;01mdef\u001b[39;00m \u001b[38;5;21mpickup_even\u001b[39m(num):\n\u001b[1;32m----> 6\u001b[0m     \u001b[38;5;28;01mif\u001b[39;00m \u001b[43mnum\u001b[49m\u001b[43m \u001b[49m\u001b[38;5;241;43m%\u001b[39;49m\u001b[43m \u001b[49m\u001b[38;5;241;43m2\u001b[39;49m \u001b[38;5;241m==\u001b[39m \u001b[38;5;241m0\u001b[39m:\n\u001b[0;32m      7\u001b[0m         \u001b[38;5;28;01mreturn\u001b[39;00m num\n",
      "\u001b[1;31mTypeError\u001b[0m: unsupported operand type(s) for %: 'list' and 'int'"
     ]
    }
   ],
   "source": [
    "pickup_even([3, 4, 5, 6, 7, 8])"
   ]
  },
  {
   "cell_type": "code",
   "execution_count": 61,
   "id": "a604d53f",
   "metadata": {},
   "outputs": [],
   "source": [
    "# 234 예제 답안\n",
    "def pickup_even(items):\n",
    "    result = []\n",
    "    for item in items:\n",
    "        if item % 2 == 0:\n",
    "            result.append(item)\n",
    "    return result        "
   ]
  },
  {
   "cell_type": "code",
   "execution_count": 67,
   "id": "992e0dde",
   "metadata": {},
   "outputs": [],
   "source": [
    "# 235\n",
    "# 콤마가 포함된 문자열 숫자를 입력받아 정수로 변환하는 convert_int 함수 정의\n",
    "\n",
    "def convert_int(cost):\n",
    "    transfer = cost.replace(',','')\n",
    "    return transfer"
   ]
  },
  {
   "cell_type": "code",
   "execution_count": 68,
   "id": "fb66639c",
   "metadata": {},
   "outputs": [
    {
     "data": {
      "text/plain": [
       "'1234567'"
      ]
     },
     "execution_count": 68,
     "metadata": {},
     "output_type": "execute_result"
    }
   ],
   "source": [
    "convert_int(\"1,234,567\")"
   ]
  },
  {
   "cell_type": "code",
   "execution_count": 69,
   "id": "d3db5285",
   "metadata": {},
   "outputs": [],
   "source": [
    "# 235 예제 답안\n",
    "def convert_int(string):\n",
    "    return int(string.replace(',', ''))"
   ]
  },
  {
   "cell_type": "code",
   "execution_count": 70,
   "id": "8ec3a16c",
   "metadata": {},
   "outputs": [
    {
     "name": "stdout",
     "output_type": "stream",
     "text": [
      "22\n"
     ]
    }
   ],
   "source": [
    "# 236\n",
    "# 실행결과 예측하기 ---> 22 (14 + 4+ 4)\n",
    "\n",
    "def 함수(num) :\n",
    "    return num + 4\n",
    "\n",
    "a = 함수(10)\n",
    "b = 함수(a)\n",
    "c = 함수(b)\n",
    "print(c)\n"
   ]
  },
  {
   "cell_type": "code",
   "execution_count": 71,
   "id": "3ebcba61",
   "metadata": {},
   "outputs": [
    {
     "name": "stdout",
     "output_type": "stream",
     "text": [
      "22\n"
     ]
    }
   ],
   "source": [
    "# 237\n",
    "# 실행결과 예측하기 : 14 + 4 + 4 = 22\n",
    "\n",
    "def 함수(num) :\n",
    "    return num + 4\n",
    "\n",
    "c = 함수(함수(함수(10)))\n",
    "print(c)"
   ]
  },
  {
   "cell_type": "code",
   "execution_count": 72,
   "id": "75ce7ef4",
   "metadata": {},
   "outputs": [
    {
     "name": "stdout",
     "output_type": "stream",
     "text": [
      "140\n"
     ]
    }
   ],
   "source": [
    "# 238\n",
    "# 실행결과 예측하기 : 14 * 10 = 140\n",
    "\n",
    "def 함수1(num) :  # 14\n",
    "    return num + 4\n",
    "\n",
    "def 함수2(num) :  # 14 * 10 \n",
    "    return num * 10\n",
    "\n",
    "a = 함수1(10)\n",
    "c = 함수2(a)\n",
    "print(c)"
   ]
  },
  {
   "cell_type": "code",
   "execution_count": 73,
   "id": "b6a559d7",
   "metadata": {},
   "outputs": [
    {
     "name": "stdout",
     "output_type": "stream",
     "text": [
      "140\n"
     ]
    }
   ],
   "source": [
    "# 239\n",
    "# 실행결과 예측 : 140 = (10+4)*10\n",
    "\n",
    "def 함수1(num) :\n",
    "    return num + 4\n",
    "\n",
    "def 함수2(num) :\n",
    "    return num * 10\n",
    "\n",
    "a = 함수1(10)\n",
    "c = 함수2(a)\n",
    "print(c)"
   ]
  },
  {
   "cell_type": "code",
   "execution_count": 74,
   "id": "82f48e9d",
   "metadata": {},
   "outputs": [
    {
     "name": "stdout",
     "output_type": "stream",
     "text": [
      "28\n"
     ]
    }
   ],
   "source": [
    "# 240\n",
    "# 실행결과 예측 : 28 = {(2+10) + 2} * 2\n",
    "\n",
    "def 함수0(num) :\n",
    "    return num * 2\n",
    "\n",
    "def 함수1(num) :\n",
    "    return 함수0(num + 2)\n",
    "\n",
    "def 함수2(num) :\n",
    "    num = num + 10\n",
    "    return 함수1(num)\n",
    "\n",
    "c = 함수2(2)\n",
    "print(c)\n"
   ]
  }
 ],
 "metadata": {
  "kernelspec": {
   "display_name": "Python 3 (ipykernel)",
   "language": "python",
   "name": "python3"
  },
  "language_info": {
   "codemirror_mode": {
    "name": "ipython",
    "version": 3
   },
   "file_extension": ".py",
   "mimetype": "text/x-python",
   "name": "python",
   "nbconvert_exporter": "python",
   "pygments_lexer": "ipython3",
   "version": "3.8.18"
  },
  "toc": {
   "base_numbering": 1,
   "nav_menu": {},
   "number_sections": true,
   "sideBar": true,
   "skip_h1_title": false,
   "title_cell": "Table of Contents",
   "title_sidebar": "Contents",
   "toc_cell": false,
   "toc_position": {},
   "toc_section_display": true,
   "toc_window_display": false
  }
 },
 "nbformat": 4,
 "nbformat_minor": 5
}
