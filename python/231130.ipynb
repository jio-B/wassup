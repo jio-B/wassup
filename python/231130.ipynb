{
 "cells": [
  {
   "cell_type": "markdown",
   "id": "32fba1fa",
   "metadata": {},
   "source": [
    "# 함수"
   ]
  },
  {
   "cell_type": "markdown",
   "id": "b5b3231b",
   "metadata": {},
   "source": [
    "* 명령문 재사용(sum. max 등이 내장함수)\n",
    "* 고정 인수 : 입력값을 받기 위한 매개변수, fn(x,y), 매개변수 개수 = 입력변수 개수   \n",
    "    - 위치인수 fn(10, 20)  : 순서대로 들어감   \n",
    "    - 키워드인수 fn(x=10, y=20) : 순서 달라도 무방\n",
    "* 가변인자 : 매개변수 개와수 입력변수 개수 달라도 무방\n",
    "    ```\n",
    "    * 위치 인수 가변\n",
    "    def fn(*args)  → *는 tuple, 전부 담을 수 있음   \n",
    "    * 키워드 인수 가변   \n",
    "    def fn(**kwargs) → **는 dict\n",
    "    ```\n",
    "* 고정인수/가변인수를 혼합으로 사용가능, 고정인수는 반드시 먼저 나와야함\n",
    "* 초깃값 설정시 초기화 인수는 반드시 맨 뒤에 있어야함\n"
   ]
  },
  {
   "cell_type": "code",
   "execution_count": 1,
   "id": "cf7d925f",
   "metadata": {},
   "outputs": [],
   "source": [
    "# add 함수 만들기\n",
    "def add(a, b):\n",
    "    return a + b"
   ]
  },
  {
   "cell_type": "code",
   "execution_count": 2,
   "id": "4763cbc8",
   "metadata": {},
   "outputs": [
    {
     "name": "stdout",
     "output_type": "stream",
     "text": [
      "7\n"
     ]
    }
   ],
   "source": [
    "# add 함수 적용\n",
    "a = 3\n",
    "b = 4\n",
    "c = add(a,b) # add(3,4)의 리턴값을 c에 대입\n",
    "\n",
    "print(c)"
   ]
  },
  {
   "cell_type": "markdown",
   "id": "9759c191",
   "metadata": {},
   "source": [
    "## 매개변수와 인수\n",
    "- 매개변수는 함수에 입력으로 전달된 값을 받는 변수, 인수는 함수를 호출할 때 전달하는 입력값을 의미한다."
   ]
  },
  {
   "cell_type": "code",
   "execution_count": 4,
   "id": "7dad9c2c",
   "metadata": {},
   "outputs": [],
   "source": [
    "# 일반적인 함수\n",
    "\n",
    "def add(a, b):  # a, b는 매개변수\n",
    "    return a+b  \n",
    "\n",
    "# return -> 지역변수를 전역변수(global)로 넘겨주는 기능\n",
    "# 함수 안에 있는 거 -> 지역변수\n",
    "# 함수 밖에 있는 거 -> 전역변수"
   ]
  },
  {
   "cell_type": "code",
   "execution_count": 5,
   "id": "1f11c845",
   "metadata": {},
   "outputs": [
    {
     "name": "stdout",
     "output_type": "stream",
     "text": [
      "7\n"
     ]
    }
   ],
   "source": [
    "print(add(3, 4))  # 3, 4는 인수"
   ]
  },
  {
   "cell_type": "code",
   "execution_count": 6,
   "id": "ac64eeec",
   "metadata": {},
   "outputs": [],
   "source": [
    "# 입력 값이 없는 함수 = 리턴 값 지정 안해도 되는 경우\n",
    "# 매개변수를 안 받을 수도 있다\n",
    "\n",
    "def say():\n",
    "    return 'Hi'"
   ]
  },
  {
   "cell_type": "code",
   "execution_count": 7,
   "id": "82a97b72",
   "metadata": {},
   "outputs": [
    {
     "name": "stdout",
     "output_type": "stream",
     "text": [
      "Hi\n"
     ]
    }
   ],
   "source": [
    "a = say()\n",
    "print(a)"
   ]
  },
  {
   "cell_type": "code",
   "execution_count": 8,
   "id": "5ce5027f",
   "metadata": {},
   "outputs": [],
   "source": [
    "# 리턴 값이 없는 함수\n",
    "\n",
    "def add(a, b):\n",
    "    print(\"%d, %d의 합은 %d입니다.\" % (a, b, a+b))"
   ]
  },
  {
   "cell_type": "code",
   "execution_count": 9,
   "id": "ae1f0d8f",
   "metadata": {},
   "outputs": [
    {
     "name": "stdout",
     "output_type": "stream",
     "text": [
      "3, 4의 합은 7입니다.\n"
     ]
    }
   ],
   "source": [
    "add(3, 4)"
   ]
  },
  {
   "cell_type": "code",
   "execution_count": 21,
   "id": "588fbf62",
   "metadata": {},
   "outputs": [
    {
     "name": "stdout",
     "output_type": "stream",
     "text": [
      "3, 4의 합은 7입니다.\n",
      "None\n"
     ]
    }
   ],
   "source": [
    "a = add(3, 4)\n",
    "print(a)"
   ]
  },
  {
   "cell_type": "code",
   "execution_count": 22,
   "id": "91f9e3c5",
   "metadata": {},
   "outputs": [],
   "source": [
    "# 입력값도 리턴값도 없는 함수\n",
    "\n",
    "def say():\n",
    "    print('Hi')"
   ]
  },
  {
   "cell_type": "code",
   "execution_count": 23,
   "id": "d6d3f71b",
   "metadata": {},
   "outputs": [
    {
     "name": "stdout",
     "output_type": "stream",
     "text": [
      "Hi\n"
     ]
    }
   ],
   "source": [
    "say()"
   ]
  },
  {
   "cell_type": "code",
   "execution_count": 25,
   "id": "1a9b0734",
   "metadata": {},
   "outputs": [],
   "source": [
    "# 매개변수를 지정하여 호출하기\n",
    "# 인자(인덱스)를 지정해주면 출력순서를 바꿀 수 있다\n",
    "\n",
    "def sub(a,b):\n",
    "    return a - b"
   ]
  },
  {
   "cell_type": "code",
   "execution_count": 26,
   "id": "3ffa681c",
   "metadata": {},
   "outputs": [
    {
     "name": "stdout",
     "output_type": "stream",
     "text": [
      "4\n"
     ]
    }
   ],
   "source": [
    "result = sub(a=7, b=3) # a에 7, b에 3을 전달\n",
    "print(result)"
   ]
  },
  {
   "cell_type": "code",
   "execution_count": 27,
   "id": "b683acd8",
   "metadata": {},
   "outputs": [
    {
     "name": "stdout",
     "output_type": "stream",
     "text": [
      "-2\n"
     ]
    }
   ],
   "source": [
    "# 매개변수 지정하면 순서 상관없이 사용 가능\n",
    "\n",
    "result = sub(b=5, a=3) # b에 5, a에 3을 전달\n",
    "print(result)"
   ]
  },
  {
   "cell_type": "markdown",
   "id": "a104b09d",
   "metadata": {},
   "source": [
    "### 여러 개의 입력값을 받는 함수 만들기 *args\n",
    "여러 개의 입력값을 모두 더하는 함수를 직접 만들어 보자.   \n",
    "예를 들어 add_many(1, 2)이면 3, add_many(1, 2, 3)이면 6, add_many(1, 2, 3, 4, 5, 6, 7, 8, 9, 10)이면 55를 리턴하는 함수를 만들어 보자.   \n",
    "```\n",
    "*args처럼 매개변수 이름 앞에 *을 붙이면 입력값을 전부 모아 튜플로 만들어 줌.\n",
    "만약 add_many(1, 2, 3)처럼 이 함수를 쓰면 args는 (1, 2, 3)이 되고 add_many(1, 2, 3, 4, 5, 6, 7, 8, 9, 10)처럼 쓰면 args는 (1, 2, 3, 4, 5, 6, 7, 8, 9, 10)이 된다.\n",
    "여기에서 *args는 임의로 정한 변수 이름이다.\n",
    "*pey, *python처럼 아무 이름이나 써도 된다.\n",
    "```\n"
   ]
  },
  {
   "cell_type": "code",
   "execution_count": 1,
   "id": "787b21d7",
   "metadata": {},
   "outputs": [],
   "source": [
    "def fn(*args):\n",
    "    print(args)"
   ]
  },
  {
   "cell_type": "code",
   "execution_count": 2,
   "id": "1582e780",
   "metadata": {},
   "outputs": [
    {
     "name": "stdout",
     "output_type": "stream",
     "text": [
      "()\n"
     ]
    }
   ],
   "source": [
    "fn()"
   ]
  },
  {
   "cell_type": "code",
   "execution_count": 11,
   "id": "c992f5fb",
   "metadata": {},
   "outputs": [],
   "source": [
    "# 입력값이 가변적이라서) 입력값이 몇 개가 될지 모를 때\n",
    "# 여러 개의 입력값을 받는 함수 만들기\n",
    "\n",
    "def add_many(*args):\n",
    "    result = 0\n",
    "    for i in args:\n",
    "        result = result + i # *args에 입력받은 모든 값을 더한다\n",
    "        \n",
    "    return result"
   ]
  },
  {
   "cell_type": "code",
   "execution_count": 12,
   "id": "6425fc77",
   "metadata": {},
   "outputs": [
    {
     "name": "stdout",
     "output_type": "stream",
     "text": [
      "6\n"
     ]
    }
   ],
   "source": [
    "result = add_many(1, 2, 3)\n",
    "print(result)"
   ]
  },
  {
   "cell_type": "code",
   "execution_count": 13,
   "id": "f0db3a1e",
   "metadata": {},
   "outputs": [
    {
     "name": "stdout",
     "output_type": "stream",
     "text": [
      "55\n"
     ]
    }
   ],
   "source": [
    "result = add_many(1, 2, 3, 4, 5, 6, 7, 8, 9, 10)\n",
    "print(result)"
   ]
  },
  {
   "cell_type": "code",
   "execution_count": 17,
   "id": "4b4e7976",
   "metadata": {},
   "outputs": [],
   "source": [
    "# 고정인수와 가변인수를 함께 쓸 때 -> (파이썬 정책임) 고정인수 먼저 쓰기(가변인수는 몇개가 들어올지 모르니까)\n",
    "# 고정인수 -> 인자를 지정\n",
    "# 가변인수 -> 뭐가 들어올지 몰라! (*args 처럼)\n",
    "\n",
    "\n",
    "def add_mul(choice, *args):\n",
    "    if choice == \"add\": # 매개변수 choice에 \"add\"를 입력받았을 때\n",
    "        \n",
    "        result = 0\n",
    "        for i in args:\n",
    "            result = result + i\n",
    "    elif choice == \"mul\": # 매개변수 choice에 \"mul\" 을 입력 받았을 때\n",
    "        \n",
    "        result = 1\n",
    "        for i in args:\n",
    "            result = result * i\n",
    "    return result        "
   ]
  },
  {
   "cell_type": "code",
   "execution_count": 19,
   "id": "94a36859",
   "metadata": {},
   "outputs": [
    {
     "name": "stdout",
     "output_type": "stream",
     "text": [
      "15\n"
     ]
    }
   ],
   "source": [
    "result = add_mul('add', 1, 2, 3, 4, 5)\n",
    "print(result)"
   ]
  },
  {
   "cell_type": "code",
   "execution_count": 20,
   "id": "210e6e21",
   "metadata": {},
   "outputs": [
    {
     "name": "stdout",
     "output_type": "stream",
     "text": [
      "120\n"
     ]
    }
   ],
   "source": [
    "result = add_mul('mul', 1, 2, 3, 4, 5)\n",
    "print(result)"
   ]
  },
  {
   "cell_type": "markdown",
   "id": "03a6893c",
   "metadata": {},
   "source": [
    "### 키워드 매개변수 (변수 앞에 ** 별두개)"
   ]
  },
  {
   "cell_type": "code",
   "execution_count": 28,
   "id": "9ed7d11a",
   "metadata": {},
   "outputs": [],
   "source": [
    "# 키워드 매개변수 -> 딕셔너리도 저장해준다!\n",
    "\n",
    "def print_kwargs(**kwargs):\n",
    "    print(kwargs)\n"
   ]
  },
  {
   "cell_type": "code",
   "execution_count": 29,
   "id": "7dd75739",
   "metadata": {},
   "outputs": [
    {
     "name": "stdout",
     "output_type": "stream",
     "text": [
      "{'a': 1}\n"
     ]
    }
   ],
   "source": [
    "print_kwargs(a=1)"
   ]
  },
  {
   "cell_type": "code",
   "execution_count": 30,
   "id": "106cc325",
   "metadata": {},
   "outputs": [
    {
     "name": "stdout",
     "output_type": "stream",
     "text": [
      "{'name': 'foo', 'age': 3}\n"
     ]
    }
   ],
   "source": [
    "print_kwargs(name='foo', age=3)"
   ]
  },
  {
   "cell_type": "markdown",
   "id": "23d6aa88",
   "metadata": {},
   "source": [
    "### 함수의 리턴값은 언제나 하나이다"
   ]
  },
  {
   "cell_type": "code",
   "execution_count": 14,
   "id": "4306d29b",
   "metadata": {},
   "outputs": [],
   "source": [
    "def add_and_mul(a,b):\n",
    "    return a+b, a*b"
   ]
  },
  {
   "cell_type": "code",
   "execution_count": 15,
   "id": "308339c0",
   "metadata": {},
   "outputs": [],
   "source": [
    "result = add_and_mul(3,4)\n",
    "# 리턴값이 a+b와 a*b로 2개인데 받은 변수가 하나이다. 왜 오류가 안날까?"
   ]
  },
  {
   "cell_type": "code",
   "execution_count": 17,
   "id": "d207d197",
   "metadata": {},
   "outputs": [],
   "source": [
    "# 튜플로 묶은 단일값으로 반환하기 때문\n",
    "resutl = (7,12)"
   ]
  },
  {
   "cell_type": "code",
   "execution_count": 18,
   "id": "74790224",
   "metadata": {},
   "outputs": [
    {
     "name": "stdout",
     "output_type": "stream",
     "text": [
      "7\n",
      "12\n"
     ]
    }
   ],
   "source": [
    "# 분리해서 받고 싶을 때\n",
    "\n",
    "result1, result2 = add_and_mul(3,4)\n",
    "print(result1)\n",
    "print(result2)"
   ]
  },
  {
   "cell_type": "code",
   "execution_count": 19,
   "id": "3d337d06",
   "metadata": {},
   "outputs": [
    {
     "name": "stdout",
     "output_type": "stream",
     "text": [
      "7\n",
      "12\n"
     ]
    }
   ],
   "source": [
    "# 받고 싶은 값만 받을 수도 있음\n",
    "\n",
    "result1, _ = add_and_mul(3, 4)\n",
    "print(result1)\n",
    "print(_)   # 실제로 _변수로 받는것, 그러나 어디까지나 가독성 목적임"
   ]
  },
  {
   "cell_type": "code",
   "execution_count": 10,
   "id": "1b3204b5",
   "metadata": {},
   "outputs": [],
   "source": [
    "# 이렇게 하면 2개를 리턴해줄까?\n",
    "\n",
    "def add_and_mul(a,b):\n",
    "    return a+b\n",
    "    return a*b"
   ]
  },
  {
   "cell_type": "code",
   "execution_count": 13,
   "id": "851fbcf1",
   "metadata": {},
   "outputs": [
    {
     "name": "stdout",
     "output_type": "stream",
     "text": [
      "5\n"
     ]
    }
   ],
   "source": [
    "result = add_and_mul(2, 3)\n",
    "print(result)  # 원하는 형태로 답 안나옴 ㅠㅠ\n",
    "# 함수는 리턴문을 만나는 순간 값을 반환하고 함수를 빠져나가버려서\n",
    "# 두번째 리턴문은 실행하지 않음"
   ]
  },
  {
   "cell_type": "markdown",
   "id": "f9466693",
   "metadata": {},
   "source": [
    "### 리턴의 또 다른 쓰임새\n",
    "- 반복문의 break와 같이, 특별한 상황일 때 함수를 빠져나가고 싶다면 return을 단독으로 써서 함수를 즉시 빠져나갈 수 있음"
   ]
  },
  {
   "cell_type": "code",
   "execution_count": 20,
   "id": "f8955a2e",
   "metadata": {},
   "outputs": [],
   "source": [
    "def say_nick(nick): \n",
    "    if nick == \"바보\": \n",
    "        return \n",
    "    print(\"나의 별명은 %s 입니다.\" % nick)\n",
    "# 문자열을 출력하는 것과 값리턴은 다르므로 혼동하지 말 것\n",
    "# 특정 입력값으로 '바보'라는 값이 함수에 들어오면 문자열을 출력않고 함수를 빠져나감"
   ]
  },
  {
   "cell_type": "code",
   "execution_count": 21,
   "id": "7219fd00",
   "metadata": {},
   "outputs": [
    {
     "name": "stdout",
     "output_type": "stream",
     "text": [
      "나의 별명은 파이썬 입니다.\n"
     ]
    }
   ],
   "source": [
    "say_nick('파이썬')"
   ]
  },
  {
   "cell_type": "code",
   "execution_count": 22,
   "id": "bb08fe4d",
   "metadata": {},
   "outputs": [],
   "source": [
    "say_nick('바보')"
   ]
  },
  {
   "cell_type": "markdown",
   "id": "b36ebb9f",
   "metadata": {},
   "source": [
    "## 매개변수에 초깃값 미리 설정하기"
   ]
  },
  {
   "cell_type": "code",
   "execution_count": 23,
   "id": "2b9175a4",
   "metadata": {},
   "outputs": [],
   "source": [
    "# default1.py\n",
    "\n",
    "def say_myself(name, age, man=True):   # man이 디폴트값을 지정되어 있음\n",
    "    print(\"나의 이름은 %s 입니다.\" % name)\n",
    "    print('나의 나이는 %d 입니다' % age)\n",
    "    if man :\n",
    "        print('남자입니다.')\n",
    "    else:\n",
    "        print('여자입니다')"
   ]
  },
  {
   "cell_type": "code",
   "execution_count": 24,
   "id": "21aea66e",
   "metadata": {},
   "outputs": [
    {
     "name": "stdout",
     "output_type": "stream",
     "text": [
      "나의 이름은 박응용 입니다.\n",
      "나의 나이는 27 입니다\n",
      "남자입니다.\n"
     ]
    }
   ],
   "source": [
    "say_myself(\"박응용\", 27)"
   ]
  },
  {
   "cell_type": "code",
   "execution_count": 25,
   "id": "e99a883f",
   "metadata": {},
   "outputs": [
    {
     "name": "stdout",
     "output_type": "stream",
     "text": [
      "나의 이름은 박응용 입니다.\n",
      "나의 나이는 27 입니다\n",
      "남자입니다.\n"
     ]
    }
   ],
   "source": [
    "say_myself(\"박응용\", 27, True)"
   ]
  },
  {
   "cell_type": "code",
   "execution_count": 26,
   "id": "57e92e70",
   "metadata": {},
   "outputs": [
    {
     "name": "stdout",
     "output_type": "stream",
     "text": [
      "나의 이름은 박응선 입니다.\n",
      "나의 나이는 2 입니다\n",
      "남자입니다.\n"
     ]
    }
   ],
   "source": [
    "say_myself(\"박응선\", 2)"
   ]
  },
  {
   "cell_type": "code",
   "execution_count": 27,
   "id": "84992885",
   "metadata": {},
   "outputs": [
    {
     "name": "stdout",
     "output_type": "stream",
     "text": [
      "나의 이름은 박응선 입니다.\n",
      "나의 나이는 27 입니다\n",
      "여자입니다\n"
     ]
    }
   ],
   "source": [
    "say_myself(\"박응선\", 27, False)"
   ]
  },
  {
   "cell_type": "markdown",
   "id": "d9d5fc2b",
   "metadata": {},
   "source": [
    "### 초기화 매개변수는 반드시 맨 뒤에 있어야 한다(정책임)"
   ]
  },
  {
   "cell_type": "code",
   "execution_count": null,
   "id": "42ec18df",
   "metadata": {},
   "outputs": [],
   "source": [
    "# 초깃값 설정시 주의점(초기화 매개변수는 맨 뒤에)\n",
    "def say_myself(name, man=True, age): \n",
    "    print(\"나의 이름은 %s 입니다.\" % name) \n",
    "    print(\"나이는 %d살입니다.\" % age) \n",
    "    if man: \n",
    "        print(\"남자입니다.\") \n",
    "    else: \n",
    "        print(\"여자입니다.\")\n",
    "# 초깃값이 없는 매개변수(age)는 초깃값이 있는 매개변수(man) 뒤에 사용할 수 없다"
   ]
  },
  {
   "cell_type": "markdown",
   "id": "7cc98697",
   "metadata": {},
   "source": [
    "## 함수 안에서 선언한 변수의 효력 범위(지역vs전역)\n",
    "- 파이썬 튜터로 같이 실행해볼것!"
   ]
  },
  {
   "cell_type": "code",
   "execution_count": 40,
   "id": "5006939c",
   "metadata": {},
   "outputs": [
    {
     "name": "stdout",
     "output_type": "stream",
     "text": [
      "None\n",
      "1\n"
     ]
    }
   ],
   "source": [
    "# vartest.py\n",
    "\n",
    "a = 1  # 전역변수\n",
    "\n",
    "def vartest(a):\n",
    "    a = a + 1  # 지역변수 -> 함수 안에서만 사용\n",
    "    \n",
    "print(vartest(a)) # 2가 나올까?\n",
    "print(a)  # 1이 나온 이유 : 함수 매개변수는 함수 안에서만 사용하는 \"지역\"변수이기 때문"
   ]
  },
  {
   "cell_type": "code",
   "execution_count": 28,
   "id": "7274cd5a",
   "metadata": {},
   "outputs": [
    {
     "ename": "NameError",
     "evalue": "name 'aa' is not defined",
     "output_type": "error",
     "traceback": [
      "\u001b[1;31m---------------------------------------------------------------------------\u001b[0m",
      "\u001b[1;31mNameError\u001b[0m                                 Traceback (most recent call last)",
      "Cell \u001b[1;32mIn[28], line 5\u001b[0m\n\u001b[0;32m      2\u001b[0m     aa \u001b[38;5;241m=\u001b[39m aa \u001b[38;5;241m+\u001b[39m \u001b[38;5;241m1\u001b[39m\n\u001b[0;32m      4\u001b[0m vartest(\u001b[38;5;241m3\u001b[39m) \u001b[38;5;66;03m# 4가 나올까\u001b[39;00m\n\u001b[1;32m----> 5\u001b[0m \u001b[38;5;28mprint\u001b[39m(\u001b[43maa\u001b[49m)\n",
      "\u001b[1;31mNameError\u001b[0m: name 'aa' is not defined"
     ]
    }
   ],
   "source": [
    "def vartest(aa):\n",
    "    aa = aa + 1\n",
    "    \n",
    "vartest(3) # 4가 나올까\n",
    "print(aa) # 실행될지? 에러 발생할지?"
   ]
  },
  {
   "cell_type": "markdown",
   "id": "0412f0cf",
   "metadata": {},
   "source": [
    "## 함수 안에서 함수 밖의 변수를 변경하는 방법"
   ]
  },
  {
   "cell_type": "markdown",
   "id": "2e6e0233",
   "metadata": {},
   "source": [
    "### return 사용하기"
   ]
  },
  {
   "cell_type": "code",
   "execution_count": 29,
   "id": "129c3a65",
   "metadata": {},
   "outputs": [
    {
     "name": "stdout",
     "output_type": "stream",
     "text": [
      "2\n"
     ]
    }
   ],
   "source": [
    "a = 1\n",
    "\n",
    "def vartest(a):\n",
    "    a = a+1\n",
    "    return a\n",
    "\n",
    "a =vartest(a) # 전역변수 'a' 에 함수 리턴값이 대입된다\n",
    "print(a)"
   ]
  },
  {
   "cell_type": "markdown",
   "id": "c261961b",
   "metadata": {},
   "source": [
    "### global 명령어 사용하기\n",
    "- 전역변수로 선언\n",
    "- 그러나 전역변수 선언은 주의해야 함\n",
    "- 외부변수에 종속적인 함수는 좋지 않기 때문\n",
    "- 독립적인 것이 좋으므로 return 사용을 추천함"
   ]
  },
  {
   "cell_type": "code",
   "execution_count": 42,
   "id": "6f8199b0",
   "metadata": {},
   "outputs": [
    {
     "name": "stdout",
     "output_type": "stream",
     "text": [
      "2\n"
     ]
    }
   ],
   "source": [
    "# vartest_global.py\n",
    "a = 1 \n",
    "def vartest(): \n",
    "    global a \n",
    "    a = a+1\n",
    "\n",
    "vartest() \n",
    "print(a)"
   ]
  },
  {
   "cell_type": "markdown",
   "id": "eff7e334",
   "metadata": {},
   "source": [
    "### lamda 표현식으로 익명 함수 만들기\n",
    "- 일회성 함수 (일회성 데이터 정제처리에 자주 쓰임)\n",
    "- 함수를 간편하게 작성할 수 있어서 다른 함수의 인수로 넣을 때 자주 사용\n",
    "- def를 사용해야 할 정도로 복잡하지 않거나, def를 사용할 수 없는 곳에 쓰임\n",
    "- lambda는 def 지정함수를 아주 짧게 한줄로 표현할수 있을때 굳이  def을 쓰지 않고 lambda로 간단하게 처리\n",
    "- lambda 내에서 선언된 변수들 또한 지역변수로, 전역에서는 쓸 수 없음\n",
    "\n",
    "함수_이름 = lambda 매겨변수1, 매개변수 2, ... : 매개변수를_이용한_표현식"
   ]
  },
  {
   "cell_type": "code",
   "execution_count": 30,
   "id": "97ca9af4",
   "metadata": {},
   "outputs": [
    {
     "name": "stdout",
     "output_type": "stream",
     "text": [
      "7\n"
     ]
    }
   ],
   "source": [
    "add = lambda a, b: a+b\n",
    "result = add(3,4)\n",
    "print(result)"
   ]
  },
  {
   "cell_type": "code",
   "execution_count": 31,
   "id": "e036ecd5",
   "metadata": {},
   "outputs": [
    {
     "name": "stdout",
     "output_type": "stream",
     "text": [
      "7\n"
     ]
    }
   ],
   "source": [
    "# def 함수와 동일한 역할을 수행\n",
    "\n",
    "def add(a, b):\n",
    "    return a+b\n",
    "\n",
    "result = add(3,4)\n",
    "print(result)"
   ]
  },
  {
   "cell_type": "markdown",
   "id": "025b5e63",
   "metadata": {},
   "source": [
    "# 사용자 입출력"
   ]
  },
  {
   "cell_type": "markdown",
   "id": "9cc958ef",
   "metadata": {},
   "source": [
    "## 사용자 입력"
   ]
  },
  {
   "cell_type": "markdown",
   "id": "22475601",
   "metadata": {},
   "source": [
    "### input 사용하기"
   ]
  },
  {
   "cell_type": "code",
   "execution_count": 32,
   "id": "114fa49b",
   "metadata": {},
   "outputs": [
    {
     "name": "stdout",
     "output_type": "stream",
     "text": [
      "Life is too short, you need python\n"
     ]
    }
   ],
   "source": [
    "a = input()"
   ]
  },
  {
   "cell_type": "code",
   "execution_count": 33,
   "id": "ac70043c",
   "metadata": {},
   "outputs": [
    {
     "data": {
      "text/plain": [
       "'Life is too short, you need python'"
      ]
     },
     "execution_count": 33,
     "metadata": {},
     "output_type": "execute_result"
    }
   ],
   "source": [
    "a"
   ]
  },
  {
   "cell_type": "markdown",
   "id": "27954c8e",
   "metadata": {},
   "source": [
    "### 프롬프트를 띄워 사용자 입력받기\n",
    "- 사용자 입력시 안내 문구 또는 질문을 보여주고자 할때\n",
    "\n",
    "input(\"안내 문구\")"
   ]
  },
  {
   "cell_type": "code",
   "execution_count": 34,
   "id": "53f120c0",
   "metadata": {},
   "outputs": [
    {
     "name": "stdout",
     "output_type": "stream",
     "text": [
      "숫자를 입력하세요: 123\n"
     ]
    }
   ],
   "source": [
    "number = input(\"숫자를 입력하세요: \")"
   ]
  },
  {
   "cell_type": "code",
   "execution_count": 37,
   "id": "102b0812",
   "metadata": {},
   "outputs": [
    {
     "data": {
      "text/plain": [
       "str"
      ]
     },
     "execution_count": 37,
     "metadata": {},
     "output_type": "execute_result"
    }
   ],
   "source": [
    "type(number)\n",
    "# input은 입력되는 모든 것을 문자열로 취급함"
   ]
  },
  {
   "cell_type": "markdown",
   "id": "25e8436c",
   "metadata": {},
   "source": [
    "## print 자세히 알기"
   ]
  },
  {
   "cell_type": "markdown",
   "id": "ea15e3a3",
   "metadata": {},
   "source": [
    "### 따옴표로 둘러싸인 문자열은 + 연산과 동일"
   ]
  },
  {
   "cell_type": "code",
   "execution_count": 38,
   "id": "7a104f4e",
   "metadata": {},
   "outputs": [
    {
     "name": "stdout",
     "output_type": "stream",
     "text": [
      "lifeistoo short\n",
      "lifeistoo short\n"
     ]
    }
   ],
   "source": [
    "# 동일한 결과, 따옴표 문자열을 연속해서 쓰면 +연산과 동일한 결과\n",
    "print(\"life\" \"is\" \"too short\")  # 1번\n",
    "print(\"life\"+\"is\"+\"too short\")  # 2번"
   ]
  },
  {
   "cell_type": "code",
   "execution_count": 39,
   "id": "2cc8a633",
   "metadata": {},
   "outputs": [
    {
     "name": "stdout",
     "output_type": "stream",
     "text": [
      "lifeistoo short\n",
      "lifeistoo short\n"
     ]
    }
   ],
   "source": [
    "# 작은 따옴표도 동일하다.\n",
    "print('life' 'is' 'too short')  # 1번\n",
    "print('life'+'is'+'too short')  # 2번"
   ]
  },
  {
   "cell_type": "markdown",
   "id": "e655f4ee",
   "metadata": {},
   "source": [
    "### 문자열 띄어쓰기는 쉼표로 함"
   ]
  },
  {
   "cell_type": "code",
   "execution_count": 40,
   "id": "bd54d075",
   "metadata": {},
   "outputs": [
    {
     "name": "stdout",
     "output_type": "stream",
     "text": [
      "life is too short\n"
     ]
    }
   ],
   "source": [
    "print(\"life\", \"is\", \"too short\")"
   ]
  },
  {
   "cell_type": "markdown",
   "id": "10e3d4cc",
   "metadata": {},
   "source": [
    "### 한줄에 결과값 출력하기\n",
    "- end 매개변수의 초깃값은 줄바꿈(\\n)이다\n",
    "- 이것은 공백으로 바꿔주면 한줄 출력을 할 수 있음"
   ]
  },
  {
   "cell_type": "code",
   "execution_count": 41,
   "id": "695b1f11",
   "metadata": {},
   "outputs": [
    {
     "name": "stdout",
     "output_type": "stream",
     "text": [
      "0\n",
      "1\n",
      "2\n",
      "3\n",
      "4\n",
      "5\n",
      "6\n",
      "7\n",
      "8\n",
      "9\n"
     ]
    }
   ],
   "source": [
    "for i in range(10):\n",
    "    print(i)"
   ]
  },
  {
   "cell_type": "code",
   "execution_count": 42,
   "id": "cd89092c",
   "metadata": {},
   "outputs": [
    {
     "name": "stdout",
     "output_type": "stream",
     "text": [
      "0 1 2 3 4 5 6 7 8 9 "
     ]
    }
   ],
   "source": [
    "for i in range(10):\n",
    "    print(i, end=' ')"
   ]
  }
 ],
 "metadata": {
  "kernelspec": {
   "display_name": "Python 3 (ipykernel)",
   "language": "python",
   "name": "python3"
  },
  "language_info": {
   "codemirror_mode": {
    "name": "ipython",
    "version": 3
   },
   "file_extension": ".py",
   "mimetype": "text/x-python",
   "name": "python",
   "nbconvert_exporter": "python",
   "pygments_lexer": "ipython3",
   "version": "3.8.18"
  },
  "toc": {
   "base_numbering": 1,
   "nav_menu": {},
   "number_sections": true,
   "sideBar": true,
   "skip_h1_title": false,
   "title_cell": "Table of Contents",
   "title_sidebar": "Contents",
   "toc_cell": false,
   "toc_position": {},
   "toc_section_display": true,
   "toc_window_display": false
  }
 },
 "nbformat": 4,
 "nbformat_minor": 5
}
