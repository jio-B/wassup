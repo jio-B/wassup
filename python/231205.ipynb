{
 "cells": [
  {
   "cell_type": "markdown",
   "id": "7e53f578",
   "metadata": {},
   "source": [
    "# 내장함수"
   ]
  },
  {
   "cell_type": "code",
   "execution_count": null,
   "id": "649bae30",
   "metadata": {},
   "outputs": [],
   "source": [
    "# 파이썬 내장(built-in)함수 ---> import 필요없다\n"
   ]
  },
  {
   "cell_type": "code",
   "execution_count": 1,
   "id": "eed71bbe",
   "metadata": {},
   "outputs": [
    {
     "data": {
      "text/plain": [
       "3"
      ]
     },
     "execution_count": 1,
     "metadata": {},
     "output_type": "execute_result"
    }
   ],
   "source": [
    "# 절대값\n",
    "abs(-3)"
   ]
  },
  {
   "cell_type": "code",
   "execution_count": 2,
   "id": "0164a9c8",
   "metadata": {},
   "outputs": [
    {
     "data": {
      "text/plain": [
       "True"
      ]
     },
     "execution_count": 2,
     "metadata": {},
     "output_type": "execute_result"
    }
   ],
   "source": [
    "# all\n",
    "# all(x)는 반복 가능한 데이터 x를 입력값으로 받으며 \n",
    "# 이 x의 요소가 모두 참이면 True, 거짓이 하나라도 있으면 False를 리턴\n",
    "\n",
    "all([1, 2, 3])"
   ]
  },
  {
   "cell_type": "code",
   "execution_count": 3,
   "id": "e2ad5ad0",
   "metadata": {},
   "outputs": [
    {
     "data": {
      "text/plain": [
       "False"
      ]
     },
     "execution_count": 3,
     "metadata": {},
     "output_type": "execute_result"
    }
   ],
   "source": [
    "all([1, 2, 3, 0])  # 0은 False"
   ]
  },
  {
   "cell_type": "code",
   "execution_count": 4,
   "id": "19c823d7",
   "metadata": {},
   "outputs": [
    {
     "data": {
      "text/plain": [
       "True"
      ]
     },
     "execution_count": 4,
     "metadata": {},
     "output_type": "execute_result"
    }
   ],
   "source": [
    "all([]) # 빈값도 True"
   ]
  },
  {
   "cell_type": "code",
   "execution_count": 5,
   "id": "861e5056",
   "metadata": {},
   "outputs": [
    {
     "data": {
      "text/plain": [
       "True"
      ]
     },
     "execution_count": 5,
     "metadata": {},
     "output_type": "execute_result"
    }
   ],
   "source": [
    "# any\n",
    "# 하나라도 True 면 True\n",
    "\n",
    "any([1, 2, 3, 0])"
   ]
  },
  {
   "cell_type": "code",
   "execution_count": 7,
   "id": "cc43dbeb",
   "metadata": {},
   "outputs": [
    {
     "data": {
      "text/plain": [
       "False"
      ]
     },
     "execution_count": 7,
     "metadata": {},
     "output_type": "execute_result"
    }
   ],
   "source": [
    "any([0, \"\"])\n",
    "\n",
    "# 리스트 [0, \"\"]의 요소 0과 \"\"은 모두 거짓이므로 False를 리턴"
   ]
  },
  {
   "cell_type": "code",
   "execution_count": 8,
   "id": "c9496337",
   "metadata": {},
   "outputs": [
    {
     "data": {
      "text/plain": [
       "'a'"
      ]
     },
     "execution_count": 8,
     "metadata": {},
     "output_type": "execute_result"
    }
   ],
   "source": [
    "# chr\n",
    "# chr(i)는 유니코드 숫자 값을 입력받아 그 코드에 해당하는 문자를 리턴하는 함수\n",
    "# 유니코드는 전 세계의 모든 문자를 컴퓨터에서 일관되게 표현하고 다룰 수 있도록 설계된 산업 표준 코드\n",
    "\n",
    "chr(97)"
   ]
  },
  {
   "cell_type": "code",
   "execution_count": 9,
   "id": "3875774d",
   "metadata": {},
   "outputs": [
    {
     "data": {
      "text/plain": [
       "'가'"
      ]
     },
     "execution_count": 9,
     "metadata": {},
     "output_type": "execute_result"
    }
   ],
   "source": [
    "chr(44032)"
   ]
  },
  {
   "cell_type": "code",
   "execution_count": 10,
   "id": "96b3c19f",
   "metadata": {},
   "outputs": [
    {
     "data": {
      "text/plain": [
       "['__add__',\n",
       " '__class__',\n",
       " '__contains__',\n",
       " '__delattr__',\n",
       " '__delitem__',\n",
       " '__dir__',\n",
       " '__doc__',\n",
       " '__eq__',\n",
       " '__format__',\n",
       " '__ge__',\n",
       " '__getattribute__',\n",
       " '__getitem__',\n",
       " '__gt__',\n",
       " '__hash__',\n",
       " '__iadd__',\n",
       " '__imul__',\n",
       " '__init__',\n",
       " '__init_subclass__',\n",
       " '__iter__',\n",
       " '__le__',\n",
       " '__len__',\n",
       " '__lt__',\n",
       " '__mul__',\n",
       " '__ne__',\n",
       " '__new__',\n",
       " '__reduce__',\n",
       " '__reduce_ex__',\n",
       " '__repr__',\n",
       " '__reversed__',\n",
       " '__rmul__',\n",
       " '__setattr__',\n",
       " '__setitem__',\n",
       " '__sizeof__',\n",
       " '__str__',\n",
       " '__subclasshook__',\n",
       " 'append',\n",
       " 'clear',\n",
       " 'copy',\n",
       " 'count',\n",
       " 'extend',\n",
       " 'index',\n",
       " 'insert',\n",
       " 'pop',\n",
       " 'remove',\n",
       " 'reverse',\n",
       " 'sort']"
      ]
     },
     "execution_count": 10,
     "metadata": {},
     "output_type": "execute_result"
    }
   ],
   "source": [
    "## 중요\n",
    "# dir\n",
    "# 객체가 지닌 변수나 함수를 보여주는 함수\n",
    "\n",
    "dir([1, 2, 3])"
   ]
  },
  {
   "cell_type": "code",
   "execution_count": 11,
   "id": "e96c1f9b",
   "metadata": {},
   "outputs": [
    {
     "data": {
      "text/plain": [
       "(2, 1)"
      ]
     },
     "execution_count": 11,
     "metadata": {},
     "output_type": "execute_result"
    }
   ],
   "source": [
    "# 몫과 나머지를 반환\n",
    "divmod(7, 3)"
   ]
  },
  {
   "cell_type": "code",
   "execution_count": 12,
   "id": "100372e0",
   "metadata": {},
   "outputs": [
    {
     "data": {
      "text/plain": [
       "<enumerate at 0x2825b050040>"
      ]
     },
     "execution_count": 12,
     "metadata": {},
     "output_type": "execute_result"
    }
   ],
   "source": [
    "## 중요\n",
    "# 순서가 있는 데이터(리스트, 튜플, 문자열)를 입력으로 받아 \n",
    "# 인덱스 값을 포함하는 enumerate 객체를 리턴\n",
    "\n",
    "enumerate(['body', 'foo', 'bar'])"
   ]
  },
  {
   "cell_type": "code",
   "execution_count": 13,
   "id": "b7d4eca8",
   "metadata": {},
   "outputs": [
    {
     "name": "stdout",
     "output_type": "stream",
     "text": [
      "0 body\n",
      "1 foo\n",
      "2 bar\n"
     ]
    }
   ],
   "source": [
    "for i, name in enumerate(['body', 'foo', 'bar']):\n",
    "    print(i, name)"
   ]
  },
  {
   "cell_type": "code",
   "execution_count": 14,
   "id": "4bd54a16",
   "metadata": {},
   "outputs": [
    {
     "data": {
      "text/plain": [
       "3"
      ]
     },
     "execution_count": 14,
     "metadata": {},
     "output_type": "execute_result"
    }
   ],
   "source": [
    "# eval(expression)은 문자열로 구성된 표현식을 입력으로 받아 해당 문자열을 실행한 결괏값을 리턴\n"
   ]
  },
  {
   "cell_type": "code",
   "execution_count": 17,
   "id": "41a31614",
   "metadata": {},
   "outputs": [
    {
     "name": "stdout",
     "output_type": "stream",
     "text": [
      "[1, 2, 6]\n"
     ]
    }
   ],
   "source": [
    "# positive()는 리스트를 입력으로 받아 각각의 요소를 판별해서 양수 값만 리턴하는 함수\n",
    "# positive.py \n",
    "\n",
    "def positive(l):   # 이건 컨프리헨션 조건식과 유사~\n",
    "    result = [] \n",
    "    for i in l: \n",
    "        if i > 0: \n",
    "            result.append(i) \n",
    "    return result\n",
    "\n",
    "print(positive([1,-3,2,0,-5,6]))\n"
   ]
  },
  {
   "cell_type": "code",
   "execution_count": null,
   "id": "95d9b385",
   "metadata": {},
   "outputs": [],
   "source": [
    "# (컨프리헨션 조건식 ver.)\n",
    "\n",
    "???\n"
   ]
  },
  {
   "cell_type": "code",
   "execution_count": 18,
   "id": "0ff8bf42",
   "metadata": {},
   "outputs": [
    {
     "name": "stdout",
     "output_type": "stream",
     "text": [
      "[1, 2, 6]\n"
     ]
    }
   ],
   "source": [
    "## 중요\n",
    "# filter1.py\n",
    "\n",
    "def positive(x):\n",
    "    return x > 0\n",
    "\n",
    "print(list(filter(positive, [1, -3, 2, 0, -5, 6])))"
   ]
  },
  {
   "cell_type": "code",
   "execution_count": 19,
   "id": "8aa7fd46",
   "metadata": {},
   "outputs": [
    {
     "data": {
      "text/plain": [
       "[1, 2, 6]"
      ]
     },
     "execution_count": 19,
     "metadata": {},
     "output_type": "execute_result"
    }
   ],
   "source": [
    "# lamda(일회성 함수)로 바꿔도 가능~\n",
    "\n",
    "list(filter(lambda x: x > 0, [1, -3, 2, 0, -5, 6]))"
   ]
  },
  {
   "cell_type": "code",
   "execution_count": null,
   "id": "59f59f7c",
   "metadata": {},
   "outputs": [],
   "source": [
    "# id \n",
    "# id(object)는 객체를 입력받아 객체의 고유 주솟값(레퍼런스)을 리턴하는 함수"
   ]
  },
  {
   "cell_type": "code",
   "execution_count": null,
   "id": "0a056f61",
   "metadata": {},
   "outputs": [],
   "source": [
    "# input"
   ]
  },
  {
   "cell_type": "code",
   "execution_count": 20,
   "id": "742161cb",
   "metadata": {},
   "outputs": [],
   "source": [
    "# int\n",
    "# 정수, 문자열 값 뿐만 아니라 다양한 값을 넣을 수 있음\n",
    "\n",
    "int?"
   ]
  },
  {
   "cell_type": "code",
   "execution_count": 21,
   "id": "baf8e6c9",
   "metadata": {},
   "outputs": [],
   "source": [
    "# isinstance\n",
    "# 첫 번째 인수로 객체, 두 번째 인수로 클래스를 받는다. 입력으로 받은 객체가 그 클래스의 인스턴스인지를 판단하여 참이면 True, 거짓이면 False를 리턴\n",
    "\n",
    "class Person: pass\n",
    "a = Person()"
   ]
  },
  {
   "cell_type": "code",
   "execution_count": null,
   "id": "e108bd2b",
   "metadata": {},
   "outputs": [],
   "source": [
    "# len"
   ]
  },
  {
   "cell_type": "code",
   "execution_count": null,
   "id": "9c5f7184",
   "metadata": {},
   "outputs": [],
   "source": [
    "# list"
   ]
  },
  {
   "cell_type": "code",
   "execution_count": 22,
   "id": "2b9d6c5c",
   "metadata": {},
   "outputs": [
    {
     "name": "stdout",
     "output_type": "stream",
     "text": [
      "[2, 4, 6, 8]\n"
     ]
    }
   ],
   "source": [
    "### 중요함\n",
    "# map(f, iterable)은 함수(f)와 반복 가능한 데이터를 입력으로 받는다. \n",
    "# map은 입력받은 데이터의 각 요소에 함수 f를 적용한 결과를 리턴하는 함수\n",
    "\n",
    "def two_times(numberList):\n",
    "    result = []\n",
    "    for number in numberList:\n",
    "        result.append(number*2)\n",
    "    return result\n",
    "\n",
    "result = two_times([1, 2, 3, 4])\n",
    "print(result)"
   ]
  },
  {
   "cell_type": "code",
   "execution_count": 23,
   "id": "b8d07a0c",
   "metadata": {},
   "outputs": [],
   "source": [
    "# 이렇게 바꿀 수 도 있음\n",
    "\n",
    "def two_times(x):\n",
    "    return x*2"
   ]
  },
  {
   "cell_type": "code",
   "execution_count": 24,
   "id": "c0aa3f95",
   "metadata": {},
   "outputs": [
    {
     "data": {
      "text/plain": [
       "[2, 4, 6, 8]"
      ]
     },
     "execution_count": 24,
     "metadata": {},
     "output_type": "execute_result"
    }
   ],
   "source": [
    "list(map(two_times, [1, 2, 3, 4]))"
   ]
  },
  {
   "cell_type": "markdown",
   "id": "785a0c2c",
   "metadata": {},
   "source": [
    "- 필터 내장함수와 맵 내장함수의 차이\n",
    "-  필터는 '참'인 것(특정기준에 해당하는 것)을 거른다 = 조건식\n",
    "-  맵은 함수를 무조건 적용"
   ]
  },
  {
   "cell_type": "code",
   "execution_count": 25,
   "id": "618251d3",
   "metadata": {},
   "outputs": [
    {
     "data": {
      "text/plain": [
       "[2, 4, 6, 8]"
      ]
     },
     "execution_count": 25,
     "metadata": {},
     "output_type": "execute_result"
    }
   ],
   "source": [
    "list(map(lambda a: a*2, [1, 2, 3, 4]))"
   ]
  },
  {
   "cell_type": "code",
   "execution_count": null,
   "id": "38b643d2",
   "metadata": {},
   "outputs": [],
   "source": [
    "# max  # min\n",
    "# 아스키코드가 있기 때문에 문자열도 max, min 작용함\n",
    "# 파이썬에선 ord (문자의 유니코드 숫자값을 리턴하는 함수)가 저절로 작동"
   ]
  },
  {
   "cell_type": "code",
   "execution_count": null,
   "id": "df9caba9",
   "metadata": {},
   "outputs": [],
   "source": [
    "# open"
   ]
  },
  {
   "cell_type": "code",
   "execution_count": null,
   "id": "894558c5",
   "metadata": {},
   "outputs": [],
   "source": [
    "# pow\n",
    "# pow(x, y)는 x를 y제곱한 결괏값을 리턴하는 함수"
   ]
  },
  {
   "cell_type": "code",
   "execution_count": null,
   "id": "ee94aa28",
   "metadata": {},
   "outputs": [],
   "source": [
    "# range\n",
    "\n",
    "# 인수가 하나면 0부터 시작\n",
    "# 인수가 두개면 시작 숫자부터 시작(끝 숫자는 범위에 포함되지 않음!)"
   ]
  },
  {
   "cell_type": "code",
   "execution_count": 26,
   "id": "179f3149",
   "metadata": {},
   "outputs": [
    {
     "data": {
      "text/plain": [
       "5.68"
      ]
     },
     "execution_count": 26,
     "metadata": {},
     "output_type": "execute_result"
    }
   ],
   "source": [
    "# round  반올림\n",
    "\n",
    "round(5.678,2)"
   ]
  },
  {
   "cell_type": "code",
   "execution_count": 28,
   "id": "a6831315",
   "metadata": {},
   "outputs": [
    {
     "data": {
      "text/plain": [
       "[1, 2, 3]"
      ]
     },
     "execution_count": 28,
     "metadata": {},
     "output_type": "execute_result"
    }
   ],
   "source": [
    "# 입력 데이터를 정렬한 후 그 결과를 리스트로 리턴하는 함수\n",
    "# sorted  (sort는 원본을 바꾸는 것, sorted는 원본을 건드리지 않는다!)\n",
    "# 원본을 건드리는 것은 가능하면 지양하자\n",
    "\n",
    "sorted([3, 1, 2])"
   ]
  },
  {
   "cell_type": "code",
   "execution_count": null,
   "id": "0b868048",
   "metadata": {},
   "outputs": [],
   "source": [
    "# sum()"
   ]
  },
  {
   "cell_type": "code",
   "execution_count": null,
   "id": "1f70f478",
   "metadata": {},
   "outputs": [],
   "source": [
    "# type()"
   ]
  },
  {
   "cell_type": "code",
   "execution_count": null,
   "id": "776382bd",
   "metadata": {},
   "outputs": [],
   "source": [
    "# tuple()"
   ]
  },
  {
   "cell_type": "code",
   "execution_count": 32,
   "id": "991134ac",
   "metadata": {},
   "outputs": [
    {
     "data": {
      "text/plain": [
       "[(1, 4, 7), (2, 5, 8), (3, 6, 9)]"
      ]
     },
     "execution_count": 32,
     "metadata": {},
     "output_type": "execute_result"
    }
   ],
   "source": [
    "## 중요함   (필터, 맵, 집 은 꼭 외우자)\n",
    "# zip\n",
    "# 동일한 개수로 이루어진 데이터들을 묶어서 리턴하는 함수\n",
    "# 데이터 테이블 편집 시 유용\n",
    "\n",
    "list(zip([1, 2, 3], [4, 5, 6], [7, 8, 9]))"
   ]
  },
  {
   "cell_type": "code",
   "execution_count": 31,
   "id": "04dfa5c7",
   "metadata": {},
   "outputs": [
    {
     "data": {
      "text/plain": [
       "[('a', 'd'), ('b', 'e'), ('c', 'f')]"
      ]
     },
     "execution_count": 31,
     "metadata": {},
     "output_type": "execute_result"
    }
   ],
   "source": [
    "list(zip(\"abc\", \"def\"))"
   ]
  },
  {
   "cell_type": "markdown",
   "id": "21e01521",
   "metadata": {},
   "source": [
    "# 표준 라이브러리\n",
    "- https://wikidocs.net/33"
   ]
  },
  {
   "cell_type": "code",
   "execution_count": null,
   "id": "e9d9ba75",
   "metadata": {},
   "outputs": [],
   "source": [
    "# datetime.date\n",
    "\n",
    "# day.weekday()  월요일 0\n",
    "\n",
    "#day.isoweekday()  월요일 1"
   ]
  },
  {
   "cell_type": "code",
   "execution_count": 33,
   "id": "89812a37",
   "metadata": {},
   "outputs": [
    {
     "data": {
      "text/plain": [
       "'12/05/23'"
      ]
     },
     "execution_count": 33,
     "metadata": {},
     "output_type": "execute_result"
    }
   ],
   "source": [
    "## 시계열을 다루기 위해 꼭 숙지할 것\n",
    "# time\n",
    "\n",
    "# time.time\n",
    "\n",
    "# time.localtime\n",
    "\n",
    "# time.asctime  사람이 알아보기 쉬운 형태로 출력\n",
    "\n",
    "# time.ctime  현재 시각\n",
    "\n",
    "# time.strftime\n",
    "\n",
    "import time\n",
    "time.strftime('%x', time.localtime(time.time()))"
   ]
  },
  {
   "cell_type": "code",
   "execution_count": 34,
   "id": "58d30c88",
   "metadata": {},
   "outputs": [
    {
     "data": {
      "text/plain": [
       "'Tue Dec  5 15:22:26 2023'"
      ]
     },
     "execution_count": 34,
     "metadata": {},
     "output_type": "execute_result"
    }
   ],
   "source": [
    "time.strftime('%c', time.localtime(time.time()))"
   ]
  },
  {
   "cell_type": "code",
   "execution_count": 35,
   "id": "133f7749",
   "metadata": {},
   "outputs": [],
   "source": [
    "time.strftime?  # 독스트링 검색을 생활화~"
   ]
  },
  {
   "cell_type": "code",
   "execution_count": 37,
   "id": "ffb7c7ff",
   "metadata": {},
   "outputs": [
    {
     "name": "stdout",
     "output_type": "stream",
     "text": [
      "0\n",
      "1\n",
      "2\n",
      "3\n",
      "4\n",
      "5\n",
      "6\n",
      "7\n",
      "8\n",
      "9\n"
     ]
    }
   ],
   "source": [
    "#스크래핑할 때 쓰는 함수\n",
    "\n",
    "# time.sleep\n",
    "\n",
    "import time\n",
    "for i in range(10):\n",
    "    print(i)\n",
    "    time.sleep(1)"
   ]
  },
  {
   "cell_type": "code",
   "execution_count": 38,
   "id": "b0091dac",
   "metadata": {},
   "outputs": [
    {
     "data": {
      "text/plain": [
       "time.struct_time(tm_year=2023, tm_mon=12, tm_mday=5, tm_hour=15, tm_min=26, tm_sec=31, tm_wday=1, tm_yday=339, tm_isdst=0)"
      ]
     },
     "execution_count": 38,
     "metadata": {},
     "output_type": "execute_result"
    }
   ],
   "source": [
    "# 인수없이 time 함수 사용하기\n",
    "\n",
    "time.localtime()"
   ]
  },
  {
   "cell_type": "code",
   "execution_count": 39,
   "id": "a91220db",
   "metadata": {},
   "outputs": [
    {
     "data": {
      "text/plain": [
       "'Tue Dec  5 15:26:41 2023'"
      ]
     },
     "execution_count": 39,
     "metadata": {},
     "output_type": "execute_result"
    }
   ],
   "source": [
    "time.asctime()"
   ]
  },
  {
   "cell_type": "code",
   "execution_count": 40,
   "id": "b0df8088",
   "metadata": {},
   "outputs": [
    {
     "data": {
      "text/plain": [
       "'Tue Dec  5 15:26:49 2023'"
      ]
     },
     "execution_count": 40,
     "metadata": {},
     "output_type": "execute_result"
    }
   ],
   "source": [
    "time.strftime('%c')"
   ]
  },
  {
   "cell_type": "code",
   "execution_count": 43,
   "id": "89d31db1",
   "metadata": {},
   "outputs": [
    {
     "data": {
      "text/plain": [
       "0.15994841692220962"
      ]
     },
     "execution_count": 43,
     "metadata": {},
     "output_type": "execute_result"
    }
   ],
   "source": [
    "# random\n",
    "\n",
    "import random\n",
    "random.random()"
   ]
  },
  {
   "cell_type": "code",
   "execution_count": 46,
   "id": "de9e39c5",
   "metadata": {},
   "outputs": [
    {
     "data": {
      "text/plain": [
       "41"
      ]
     },
     "execution_count": 46,
     "metadata": {},
     "output_type": "execute_result"
    }
   ],
   "source": [
    "random.randint(1,55)  # 복원추출"
   ]
  },
  {
   "cell_type": "code",
   "execution_count": 1,
   "id": "6eb563b0",
   "metadata": {},
   "outputs": [
    {
     "name": "stdout",
     "output_type": "stream",
     "text": [
      "3\n",
      "4\n",
      "1\n",
      "5\n",
      "2\n"
     ]
    }
   ],
   "source": [
    "# random_pop.py 함수 만들기\n",
    "\n",
    "import random\n",
    "def random_pop(data):\n",
    "    number = random.randint(0, len(data)-1)  # 복원추출\n",
    "    return data.pop(number)   # pop은 비복원 추출\n",
    "\n",
    "if __name__ == \"__main__\":   \n",
    "    data = [1, 2, 3, 4, 5]\n",
    "    while data: \n",
    "        print(random_pop(data))"
   ]
  },
  {
   "cell_type": "code",
   "execution_count": 2,
   "id": "34658744",
   "metadata": {},
   "outputs": [],
   "source": [
    "def rand_pop(data):\n",
    "    number = random.choice(data)\n",
    "    data.remove(number)\n",
    "    return number"
   ]
  },
  {
   "cell_type": "code",
   "execution_count": 4,
   "id": "fbd042a5",
   "metadata": {},
   "outputs": [
    {
     "data": {
      "text/plain": [
       "[5, 1, 4, 3, 2]"
      ]
     },
     "execution_count": 4,
     "metadata": {},
     "output_type": "execute_result"
    }
   ],
   "source": [
    "# 무작위로 섞고싶을 땐 sample\n",
    "\n",
    "import random\n",
    "data = [1, 2, 3, 4, 5]\n",
    "random.sample(data, len(data))  "
   ]
  },
  {
   "cell_type": "code",
   "execution_count": 5,
   "id": "5d5dd69d",
   "metadata": {},
   "outputs": [
    {
     "data": {
      "text/plain": [
       "[3, 2]"
      ]
     },
     "execution_count": 5,
     "metadata": {},
     "output_type": "execute_result"
    }
   ],
   "source": [
    "random.sample(data,2)"
   ]
  },
  {
   "cell_type": "code",
   "execution_count": 6,
   "id": "106b8d76",
   "metadata": {},
   "outputs": [],
   "source": [
    "# glob\n",
    "# 특정 디렉토리에 있는 파일 이름을 모두 알아야 할 때 사용"
   ]
  },
  {
   "cell_type": "code",
   "execution_count": 16,
   "id": "16cfe516",
   "metadata": {},
   "outputs": [
    {
     "data": {
      "text/plain": [
       "['C:/Users/Jiyoung/Documents/workspace/WASSUP/python\\\\00_마크다운_실습용.ipynb',\n",
       " 'C:/Users/Jiyoung/Documents/workspace/WASSUP/python\\\\01.자료형과 변수.ipynb',\n",
       " 'C:/Users/Jiyoung/Documents/workspace/WASSUP/python\\\\01_자료형&변수_연습문제_실습용.ipynb',\n",
       " 'C:/Users/Jiyoung/Documents/workspace/WASSUP/python\\\\02_제어문_연습문제_실습용.ipynb',\n",
       " 'C:/Users/Jiyoung/Documents/workspace/WASSUP/python\\\\03_코딩연습_전화번호프로그램.ipynb',\n",
       " 'C:/Users/Jiyoung/Documents/workspace/WASSUP/python\\\\03_코딩연습_전화번호프로그램_실습용_self.ipynb',\n",
       " 'C:/Users/Jiyoung/Documents/workspace/WASSUP/python\\\\04_함수&입출력.ipynb',\n",
       " 'C:/Users/Jiyoung/Documents/workspace/WASSUP/python\\\\04_함수&입출력_연습문제.ipynb',\n",
       " 'C:/Users/Jiyoung/Documents/workspace/WASSUP/python\\\\05_클래스&내장함수_연습문제.ipynb',\n",
       " 'C:/Users/Jiyoung/Documents/workspace/WASSUP/python\\\\231127.ipynb',\n",
       " 'C:/Users/Jiyoung/Documents/workspace/WASSUP/python\\\\231128.ipynb',\n",
       " 'C:/Users/Jiyoung/Documents/workspace/WASSUP/python\\\\231129.ipynb',\n",
       " 'C:/Users/Jiyoung/Documents/workspace/WASSUP/python\\\\231130.ipynb',\n",
       " 'C:/Users/Jiyoung/Documents/workspace/WASSUP/python\\\\231204-05.ipynb',\n",
       " 'C:/Users/Jiyoung/Documents/workspace/WASSUP/python\\\\231205.ipynb',\n",
       " 'C:/Users/Jiyoung/Documents/workspace/WASSUP/python\\\\basic300_201-240.ipynb',\n",
       " 'C:/Users/Jiyoung/Documents/workspace/WASSUP/python\\\\basic_300_1-200.ipynb']"
      ]
     },
     "execution_count": 16,
     "metadata": {},
     "output_type": "execute_result"
    }
   ],
   "source": [
    "import glob\n",
    "glob.glob(\"C:/Users/Jiyoung/Documents/workspace/WASSUP/python/*.ipynb\")"
   ]
  },
  {
   "cell_type": "code",
   "execution_count": 18,
   "id": "74bfd418",
   "metadata": {},
   "outputs": [
    {
     "name": "stdout",
     "output_type": "stream",
     "text": [
      "['00_마크다운_실습용.ipynb', '01.자료형과 변수.ipynb', '01_자료형&변수_연습문제_실습용.ipynb', '02_제어문_연습문제_실습용.ipynb', '03_코딩연습_전화번호프로그램.ipynb', '03_코딩연습_전화번호프로그램_실습용_self.ipynb', '04_함수&입출력.ipynb', '04_함수&입출력_연습문제.ipynb', '05_클래스&내장함수_연습문제.ipynb', '231127.ipynb', '231128.ipynb', '231129.ipynb', '231130.ipynb', '231204-05.ipynb', '231205.ipynb', 'basic300_201-240.ipynb', 'basic_300_1-200.ipynb', 'foo.txt']\n",
      "['00_마크다운_실습용', '01', '01_자료형&변수_연습문제_실습용', '02_제어문_연습문제_실습용', '03_코딩연습_전화번호프로그램', '03_코딩연습_전화번호프로그램_실습용_self', '04_함수&입출력', '04_함수&입출력_연습문제', '05_클래스&내장함수_연습문제', '231127', '231128', '231129', '231130', '231204-05', '231205', 'basic300_201-240', 'basic_300_1-200', 'foo']\n"
     ]
    }
   ],
   "source": [
    "# 파일명 추출하기 (1) 모든 파일명 불러오기\n",
    "\n",
    "file_list = glob.glob(\"*\")\n",
    "print(file_list)\n",
    "file_name = list(map(lambda x: x.split('.')[0], file_list))\n",
    "print(file_name)"
   ]
  },
  {
   "cell_type": "code",
   "execution_count": 19,
   "id": "35991651",
   "metadata": {},
   "outputs": [
    {
     "name": "stdout",
     "output_type": "stream",
     "text": [
      "00_마크다운_실습용.ipynb\n",
      "01.자료형과 변수.ipynb\n",
      "01_자료형&변수_연습문제_실습용.ipynb\n",
      "02_제어문_연습문제_실습용.ipynb\n",
      "03_코딩연습_전화번호프로그램.ipynb\n",
      "03_코딩연습_전화번호프로그램_실습용_self.ipynb\n",
      "04_함수&입출력.ipynb\n",
      "04_함수&입출력_연습문제.ipynb\n",
      "05_클래스&내장함수_연습문제.ipynb\n",
      "231127.ipynb\n",
      "231128.ipynb\n",
      "231129.ipynb\n",
      "231130.ipynb\n",
      "231204-05.ipynb\n",
      "231205.ipynb\n",
      "basic300_201-240.ipynb\n",
      "basic_300_1-200.ipynb\n"
     ]
    }
   ],
   "source": [
    "# 파일명 추출하기 (2) 파이썬 파일명만 불러오기\n",
    "\n",
    "import glob\n",
    "file_list2 = glob.glob(\"C:/Users/Jiyoung/Documents/workspace/WASSUP/python/*.ipynb\")\n",
    "for file in file_list2:\n",
    "    print(file.split('\\\\')[1])"
   ]
  },
  {
   "cell_type": "code",
   "execution_count": 20,
   "id": "0127acc2",
   "metadata": {},
   "outputs": [
    {
     "data": {
      "text/plain": [
       "'C:\\\\Users\\\\Jiyoung\\\\Documents\\\\workspace\\\\wassup\\\\python'"
      ]
     },
     "execution_count": 20,
     "metadata": {},
     "output_type": "execute_result"
    }
   ],
   "source": [
    "# os\n",
    "# 환경 변수나 디렉터리, 파일 등의 OS 자원을 제어할 수 있게 해 주는 모듈\n",
    "\n",
    "import os\n",
    "os.getcwd()  # 현재 디렉토리 위치 리턴\n"
   ]
  },
  {
   "cell_type": "code",
   "execution_count": 21,
   "id": "618d3d80",
   "metadata": {},
   "outputs": [
    {
     "data": {
      "text/plain": [
       "['C:\\\\Users\\\\Jiyoung\\\\Documents\\\\workspace\\\\wassup\\\\python\\\\00_마크다운_실습용.ipynb',\n",
       " 'C:\\\\Users\\\\Jiyoung\\\\Documents\\\\workspace\\\\wassup\\\\python\\\\01.자료형과 변수.ipynb',\n",
       " 'C:\\\\Users\\\\Jiyoung\\\\Documents\\\\workspace\\\\wassup\\\\python\\\\01_자료형&변수_연습문제_실습용.ipynb',\n",
       " 'C:\\\\Users\\\\Jiyoung\\\\Documents\\\\workspace\\\\wassup\\\\python\\\\02_제어문_연습문제_실습용.ipynb',\n",
       " 'C:\\\\Users\\\\Jiyoung\\\\Documents\\\\workspace\\\\wassup\\\\python\\\\03_코딩연습_전화번호프로그램.ipynb',\n",
       " 'C:\\\\Users\\\\Jiyoung\\\\Documents\\\\workspace\\\\wassup\\\\python\\\\03_코딩연습_전화번호프로그램_실습용_self.ipynb',\n",
       " 'C:\\\\Users\\\\Jiyoung\\\\Documents\\\\workspace\\\\wassup\\\\python\\\\04_함수&입출력.ipynb',\n",
       " 'C:\\\\Users\\\\Jiyoung\\\\Documents\\\\workspace\\\\wassup\\\\python\\\\04_함수&입출력_연습문제.ipynb',\n",
       " 'C:\\\\Users\\\\Jiyoung\\\\Documents\\\\workspace\\\\wassup\\\\python\\\\05_클래스&내장함수_연습문제.ipynb',\n",
       " 'C:\\\\Users\\\\Jiyoung\\\\Documents\\\\workspace\\\\wassup\\\\python\\\\231127.ipynb',\n",
       " 'C:\\\\Users\\\\Jiyoung\\\\Documents\\\\workspace\\\\wassup\\\\python\\\\231128.ipynb',\n",
       " 'C:\\\\Users\\\\Jiyoung\\\\Documents\\\\workspace\\\\wassup\\\\python\\\\231129.ipynb',\n",
       " 'C:\\\\Users\\\\Jiyoung\\\\Documents\\\\workspace\\\\wassup\\\\python\\\\231130.ipynb',\n",
       " 'C:\\\\Users\\\\Jiyoung\\\\Documents\\\\workspace\\\\wassup\\\\python\\\\231204-05.ipynb',\n",
       " 'C:\\\\Users\\\\Jiyoung\\\\Documents\\\\workspace\\\\wassup\\\\python\\\\231205.ipynb',\n",
       " 'C:\\\\Users\\\\Jiyoung\\\\Documents\\\\workspace\\\\wassup\\\\python\\\\basic300_201-240.ipynb',\n",
       " 'C:\\\\Users\\\\Jiyoung\\\\Documents\\\\workspace\\\\wassup\\\\python\\\\basic_300_1-200.ipynb']"
      ]
     },
     "execution_count": 21,
     "metadata": {},
     "output_type": "execute_result"
    }
   ],
   "source": [
    "glob.glob(f\"{os.getcwd()}/*.ipynb\")"
   ]
  },
  {
   "cell_type": "code",
   "execution_count": null,
   "id": "1f264496",
   "metadata": {},
   "outputs": [],
   "source": []
  },
  {
   "cell_type": "markdown",
   "id": "917625c5",
   "metadata": {},
   "source": [
    "# 이터레이터와 제너레이터\n",
    "- https://wikidocs.net/184211\n",
    "- 이건 나중에 필요할 때 찾아보기"
   ]
  }
 ],
 "metadata": {
  "kernelspec": {
   "display_name": "Python 3 (ipykernel)",
   "language": "python",
   "name": "python3"
  },
  "language_info": {
   "codemirror_mode": {
    "name": "ipython",
    "version": 3
   },
   "file_extension": ".py",
   "mimetype": "text/x-python",
   "name": "python",
   "nbconvert_exporter": "python",
   "pygments_lexer": "ipython3",
   "version": "3.8.18"
  },
  "toc": {
   "base_numbering": 1,
   "nav_menu": {},
   "number_sections": true,
   "sideBar": true,
   "skip_h1_title": false,
   "title_cell": "Table of Contents",
   "title_sidebar": "Contents",
   "toc_cell": false,
   "toc_position": {},
   "toc_section_display": true,
   "toc_window_display": false
  }
 },
 "nbformat": 4,
 "nbformat_minor": 5
}
