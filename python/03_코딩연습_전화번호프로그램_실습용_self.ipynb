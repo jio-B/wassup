{
 "cells": [
  {
   "cell_type": "markdown",
   "metadata": {},
   "source": [
    "# 전화번호 프로그램 만들기\n",
    "\n",
    "* 홍길동 010-123-4567\n",
    "* 기능1 : 연락처 추가\n",
    "* 기능2 : 연락처 전체 보기\n",
    "* 기능3 : 검색, 이름을 입력받아서 전화번호 조회\n",
    "* 기능4 : 수정, 이름을 입력받아서 전화번호 입력수정\n",
    "* 기능5 : 삭제, 이름 입력받아서 삭제\n",
    "* 기능6 : 프로그램 종료"
   ]
  },
  {
   "cell_type": "code",
   "execution_count": 9,
   "metadata": {},
   "outputs": [
    {
     "name": "stdout",
     "output_type": "stream",
     "text": [
      "{'연락처': '전화번호', '홍길동': '010-1234-5678'}\n"
     ]
    }
   ],
   "source": [
    "p_book = {'연락처':'전화번호'}\n",
    "\n",
    "# 기능 1\n",
    "p_book['홍길동'] ='010-1234-5678'\n",
    "print(p_book)"
   ]
  },
  {
   "cell_type": "code",
   "execution_count": null,
   "metadata": {},
   "outputs": [],
   "source": [
    "# 기능 2"
   ]
  },
  {
   "cell_type": "code",
   "execution_count": null,
   "metadata": {},
   "outputs": [],
   "source": [
    "# 기능 3"
   ]
  },
  {
   "cell_type": "code",
   "execution_count": null,
   "metadata": {},
   "outputs": [],
   "source": [
    "# 기능 4"
   ]
  },
  {
   "cell_type": "code",
   "execution_count": null,
   "metadata": {},
   "outputs": [],
   "source": [
    "# 기능 5"
   ]
  },
  {
   "cell_type": "code",
   "execution_count": null,
   "metadata": {},
   "outputs": [],
   "source": [
    "# 기능 6"
   ]
  },
  {
   "cell_type": "code",
   "execution_count": null,
   "metadata": {},
   "outputs": [],
   "source": []
  },
  {
   "cell_type": "markdown",
   "metadata": {},
   "source": [
    "## 요구사항 분석부터 하기\n",
    "- 구체적인 동작 정의\n",
    "- i/o 설계(input, output)\n",
    "- 홍길동, 010-1234-4091 -> 딕셔너리 (적절한 자료형을 선택해라)\n",
    "- input을 받아야하겠구나, str 다루겠구나\n",
    "- 프로그램 -> while문이 필요하겠구나\n",
    "- 기능 1, 2, 3, 4, 5 : if 분기문, 숫자 입력했을 때 해당 기능이 동작\n",
    "- 기능1 : 연락처 추가 -> dict 추가, dict[key] = value\n",
    "- 기능2 : 전체보기 -> for문 돌려서 출력\n",
    "- 기능3 : 조회 -> 이름 입력했을 때 전화번호 출력, dict[key]\n",
    "- 기능4 : 수정 -> dict[key] = value\n",
    "- 기능5 : 삭제 -> del\n",
    "- 기능6 : 종료 -> break\n",
    "- 가능하다면 예외처리도 추가~"
   ]
  },
  {
   "cell_type": "code",
   "execution_count": 1,
   "metadata": {},
   "outputs": [
    {
     "name": "stdout",
     "output_type": "stream",
     "text": [
      "---- 전화번호부 프로그램 실행 -----\n",
      "1.추가  2.보기  3.검색  4.수정  5.삭제  6.종료\n",
      "메뉴선택: 1\n",
      "연락처 추가 작업 실행\n",
      "이름 : 백지영\n",
      "전화번호 : 010-1111-2222\n",
      "---- 전화번호부 프로그램 실행 -----\n",
      "1.추가  2.보기  3.검색  4.수정  5.삭제  6.종료\n",
      "메뉴선택: 4\n",
      "연락처 수정 작업 실행\n",
      "수정할 이름 : 백지영\n",
      "새 전화번호 : 010-9876-5432\n",
      "---- 전화번호부 프로그램 실행 -----\n",
      "1.추가  2.보기  3.검색  4.수정  5.삭제  6.종료\n",
      "메뉴선택: 5\n",
      "연락처 삭제 작업 실행\n",
      "삭제할 이름 : 백지영\n",
      "---- 전화번호부 프로그램 실행 -----\n",
      "1.추가  2.보기  3.검색  4.수정  5.삭제  6.종료\n",
      "메뉴선택: 1\n",
      "연락처 추가 작업 실행\n",
      "이름 : 백지영\n",
      "전화번호 : 010-2222-3333\n",
      "---- 전화번호부 프로그램 실행 -----\n",
      "1.추가  2.보기  3.검색  4.수정  5.삭제  6.종료\n",
      "메뉴선택: 3\n",
      "연락처 검색 작업 실행\n",
      "검색할 이름 : 백지영\n",
      "010-2222-3333\n",
      "---- 전화번호부 프로그램 실행 -----\n",
      "1.추가  2.보기  3.검색  4.수정  5.삭제  6.종료\n",
      "메뉴선택: 1\n",
      "연락처 추가 작업 실행\n",
      "이름 : 백지윤\n",
      "전화번호 : 010-0000-0000\n",
      "---- 전화번호부 프로그램 실행 -----\n",
      "1.추가  2.보기  3.검색  4.수정  5.삭제  6.종료\n",
      "메뉴선택: 5\n",
      "연락처 삭제 작업 실행\n",
      "삭제할 이름 : 백지영\n",
      "---- 전화번호부 프로그램 실행 -----\n",
      "1.추가  2.보기  3.검색  4.수정  5.삭제  6.종료\n",
      "메뉴선택: 3\n",
      "연락처 검색 작업 실행\n",
      "검색할 이름 : 백지영\n",
      "없는 연락처입니다.\n",
      "---- 전화번호부 프로그램 실행 -----\n",
      "1.추가  2.보기  3.검색  4.수정  5.삭제  6.종료\n",
      "메뉴선택: 6\n",
      "연락처 종료 작업 실행\n"
     ]
    }
   ],
   "source": [
    "contact = {}  # 연락처 저장소\n",
    "\n",
    "while True:\n",
    "    print('---- 전화번호부 프로그램 실행 -----')\n",
    "    print('1.추가  2.보기  3.검색  4.수정  5.삭제  6.종료')\n",
    "    \n",
    "    try:\n",
    "        menu = int(input('메뉴선택: '))  # input 은 문자열로 받으니까 int로 변환\n",
    "\n",
    "        if menu == 1:\n",
    "            print('연락처 추가 작업 실행')\n",
    "            new_name = input('이름 : ')\n",
    "            new_tel = input('전화번호 : ')\n",
    "            contact.setdefault(new_name, new_tel)\n",
    "\n",
    "        elif menu == 2:\n",
    "            print('연락처 보기 작업 실행')   \n",
    "            for name, tel in contact.items():\n",
    "                print(name, \":\", tel)\n",
    "\n",
    "        elif menu == 3:\n",
    "            print('연락처 검색 작업 실행')\n",
    "            search_name = input('검색할 이름 : ') # if 써도됨, 단 없는 값을 입력하면 오류 발생\n",
    "            print(contact.get(search_name, '없는 연락처입니다.'))\n",
    "#            print('-------------')\n",
    "#            if search_name not in contact:\n",
    "#                print('등록되지 않은 이름입니다.')\n",
    "#            else:\n",
    "#                print(search_name, ':', contact[search_name])\n",
    "            \n",
    "        elif menu == 4:\n",
    "            print('연락처 수정 작업 실행')  \n",
    "            mod_name = input('수정할 이름 : ')\n",
    "             # 만약에 연락처 저장소에 수정할 이름이 존재한다면, 저장소에서 수정해줘\n",
    "            if mod_name in contact:\n",
    "                mod_tel = input('새 전화번호 : ')\n",
    "                contact[mod_name] = mod_tel\n",
    "            else:\n",
    "                print('등록되지 않은 이름입니다.')            \n",
    "\n",
    "        elif menu == 5:\n",
    "            print('연락처 삭제 작업 실행')          \n",
    "            del_name = input('삭제할 이름 : ')\n",
    "            # 만약에 연락처 저장소에 삭제할 이름이 존재한다면, 저장소에서 삭제해줘\n",
    "            if del_name in contact:\n",
    "                del contact[del_name]\n",
    "            else:\n",
    "                print('등록되지 않은 이름입니다.')\n",
    "\n",
    "        elif menu == 6:\n",
    "            print('연락처 종료 작업 실행')\n",
    "            break\n",
    "\n",
    "        else :\n",
    "            print('잘못된 메뉴 선택입니다.')\n",
    "\n",
    "    except :\n",
    "        print('잘못된 입력입니다.')\n",
    "    "
   ]
  },
  {
   "cell_type": "code",
   "execution_count": null,
   "metadata": {},
   "outputs": [],
   "source": []
  },
  {
   "cell_type": "code",
   "execution_count": null,
   "metadata": {},
   "outputs": [],
   "source": []
  }
 ],
 "metadata": {
  "kernelspec": {
   "display_name": "Python 3 (ipykernel)",
   "language": "python",
   "name": "python3"
  },
  "language_info": {
   "codemirror_mode": {
    "name": "ipython",
    "version": 3
   },
   "file_extension": ".py",
   "mimetype": "text/x-python",
   "name": "python",
   "nbconvert_exporter": "python",
   "pygments_lexer": "ipython3",
   "version": "3.8.18"
  },
  "toc": {
   "base_numbering": 1,
   "nav_menu": {},
   "number_sections": true,
   "sideBar": true,
   "skip_h1_title": false,
   "title_cell": "Table of Contents",
   "title_sidebar": "Contents",
   "toc_cell": false,
   "toc_position": {},
   "toc_section_display": true,
   "toc_window_display": false
  },
  "varInspector": {
   "cols": {
    "lenName": 16,
    "lenType": 16,
    "lenVar": 40
   },
   "kernels_config": {
    "python": {
     "delete_cmd_postfix": "",
     "delete_cmd_prefix": "del ",
     "library": "var_list.py",
     "varRefreshCmd": "print(var_dic_list())"
    },
    "r": {
     "delete_cmd_postfix": ") ",
     "delete_cmd_prefix": "rm(",
     "library": "var_list.r",
     "varRefreshCmd": "cat(var_dic_list()) "
    }
   },
   "types_to_exclude": [
    "module",
    "function",
    "builtin_function_or_method",
    "instance",
    "_Feature"
   ],
   "window_display": false
  }
 },
 "nbformat": 4,
 "nbformat_minor": 2
}
