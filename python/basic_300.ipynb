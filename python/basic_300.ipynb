{
 "cells": [
  {
   "cell_type": "markdown",
   "id": "d13e0a21",
   "metadata": {},
   "source": [
    "# 초보자를 위한 파이썬 300제\n",
    "- https://wikidocs.net/book/922"
   ]
  },
  {
   "cell_type": "markdown",
   "id": "01d5fae9",
   "metadata": {},
   "source": [
    "## 001 ~ 010"
   ]
  },
  {
   "cell_type": "code",
   "execution_count": 1,
   "id": "55202b3e",
   "metadata": {},
   "outputs": [
    {
     "name": "stdout",
     "output_type": "stream",
     "text": [
      "Hello World!\n"
     ]
    }
   ],
   "source": [
    "print('Hello World!')"
   ]
  },
  {
   "cell_type": "code",
   "execution_count": 2,
   "id": "06a20a13",
   "metadata": {},
   "outputs": [
    {
     "name": "stdout",
     "output_type": "stream",
     "text": [
      "Mary's cosmetics\n"
     ]
    }
   ],
   "source": [
    "print(\"Mary's cosmetics\")"
   ]
  },
  {
   "cell_type": "code",
   "execution_count": 3,
   "id": "37b54e19",
   "metadata": {},
   "outputs": [
    {
     "name": "stdout",
     "output_type": "stream",
     "text": [
      "신씨가 소리 질렀다. \"도둑이야!\"\n"
     ]
    }
   ],
   "source": [
    "print('신씨가 소리 질렀다. \"도둑이야!\"')"
   ]
  },
  {
   "cell_type": "code",
   "execution_count": 30,
   "id": "95e20b41",
   "metadata": {},
   "outputs": [
    {
     "name": "stdout",
     "output_type": "stream",
     "text": [
      "C:\\Windows C:/Windows\n"
     ]
    }
   ],
   "source": [
    "print('C:\\Windows' , 'C:/Windows')   # 확인할 것: \\ , / "
   ]
  },
  {
   "cell_type": "markdown",
   "id": "c53994d3",
   "metadata": {},
   "source": [
    "- 줄바꿈, 탭"
   ]
  },
  {
   "cell_type": "code",
   "execution_count": 9,
   "id": "4c0d87f0",
   "metadata": {},
   "outputs": [
    {
     "name": "stdout",
     "output_type": "stream",
     "text": [
      "안녕하세요. \n",
      "만나서\t\t반값습니다.\n"
     ]
    }
   ],
   "source": [
    "print(\"안녕하세요. \\n만나서\\t\\t반값습니다.\")\n",
    "# \\n 줄바꿈\n",
    "# \\t tab"
   ]
  },
  {
   "cell_type": "code",
   "execution_count": 10,
   "id": "370df316",
   "metadata": {
    "scrolled": true
   },
   "outputs": [
    {
     "name": "stdout",
     "output_type": "stream",
     "text": [
      "오늘은 일요일\n"
     ]
    }
   ],
   "source": [
    "print(\"오늘은\", \"일요일\")"
   ]
  },
  {
   "cell_type": "markdown",
   "id": "67992d38",
   "metadata": {},
   "source": [
    "- print() 출력내용 구분짓기"
   ]
  },
  {
   "cell_type": "code",
   "execution_count": 16,
   "id": "1b088c24",
   "metadata": {},
   "outputs": [
    {
     "name": "stdout",
     "output_type": "stream",
     "text": [
      "naver;kakao;sk;samaung\n"
     ]
    }
   ],
   "source": [
    "print(\"naver\", \"kakao\", \"sk\", \"samaung\", sep=';')"
   ]
  },
  {
   "cell_type": "code",
   "execution_count": 12,
   "id": "a559fb21",
   "metadata": {},
   "outputs": [
    {
     "name": "stdout",
     "output_type": "stream",
     "text": [
      "naver/kakao/sk/samsung\n"
     ]
    }
   ],
   "source": [
    "print(\"naver\", \"kakao\", \"sk\", \"samsung\", sep='/')"
   ]
  },
  {
   "cell_type": "markdown",
   "id": "5ea22bf6",
   "metadata": {},
   "source": [
    "- 줄바꿈 없이 출력\n",
    "- 세미콜론(;)은 한줄에 여러 개의 명령어 작성할 때 사용"
   ]
  },
  {
   "cell_type": "code",
   "execution_count": 21,
   "id": "251b701f",
   "metadata": {},
   "outputs": [
    {
     "name": "stdout",
     "output_type": "stream",
     "text": [
      "first second\n"
     ]
    }
   ],
   "source": [
    "print(\"first\", end=\" \"); print('second')"
   ]
  },
  {
   "cell_type": "code",
   "execution_count": 23,
   "id": "0b04213f",
   "metadata": {},
   "outputs": [
    {
     "name": "stdout",
     "output_type": "stream",
     "text": [
      "1.6666666666666667\n"
     ]
    }
   ],
   "source": [
    "#a = 5/3\n",
    "#print(a)\n",
    "\n",
    "print(5/3)"
   ]
  },
  {
   "cell_type": "code",
   "execution_count": 1,
   "id": "22deb03b",
   "metadata": {},
   "outputs": [
    {
     "name": "stdout",
     "output_type": "stream",
     "text": [
      "naver:kakao:samsung\n",
      "naver:kakao:samsung\n"
     ]
    }
   ],
   "source": [
    "# 7번, 8번 => join 사용해도 됨\n",
    " \n",
    "a = (\"naver\", \"kakao\", \"samsung\")\n",
    "b = \":\".join(a)\n",
    "\n",
    "print(\"naver\", \"kakao\", \"samsung\", sep=\":\")\n",
    "print(b)"
   ]
  },
  {
   "cell_type": "code",
   "execution_count": 2,
   "id": "bfff1e1e",
   "metadata": {},
   "outputs": [
    {
     "name": "stdout",
     "output_type": "stream",
     "text": [
      "naver/kakao/samsung\n",
      "naver/kakao/samsung\n"
     ]
    }
   ],
   "source": [
    "a = (\"naver\", \"kakao\", \"samsung\")\n",
    "b = \"/\".join(a)\n",
    "\n",
    "print(\"naver\", \"kakao\", \"samsung\", sep=\"/\")\n",
    "print(b)"
   ]
  },
  {
   "cell_type": "markdown",
   "id": "3b3f81ad",
   "metadata": {},
   "source": [
    "## 011 ~ 020"
   ]
  },
  {
   "cell_type": "code",
   "execution_count": 27,
   "id": "14d7310b",
   "metadata": {},
   "outputs": [
    {
     "name": "stdout",
     "output_type": "stream",
     "text": [
      "500000\n"
     ]
    }
   ],
   "source": [
    "삼성전자 = 50000\n",
    "총평가금액 = 삼성전자 * 10\n",
    "print(총평가금액)"
   ]
  },
  {
   "cell_type": "markdown",
   "id": "7704a3ad",
   "metadata": {},
   "source": [
    "|항목|값|\n",
    "|:-----:|:---:|\n",
    "|시가총액|298조|\n",
    "|현재가|50,000원|\n",
    "|PER|15.79|"
   ]
  },
  {
   "cell_type": "code",
   "execution_count": 31,
   "id": "5497babe",
   "metadata": {},
   "outputs": [
    {
     "name": "stdout",
     "output_type": "stream",
     "text": [
      "298000000000000\n",
      "50000\n",
      "15.79\n"
     ]
    }
   ],
   "source": [
    "시가총액 = 298000000000000\n",
    "현재가 = 50000\n",
    "PER = 15.79\n",
    "\n",
    "print(시가총액)\n",
    "print(현재가)\n",
    "print(PER)"
   ]
  },
  {
   "cell_type": "code",
   "execution_count": 35,
   "id": "910526ab",
   "metadata": {},
   "outputs": [
    {
     "name": "stdout",
     "output_type": "stream",
     "text": [
      "hello! python\n"
     ]
    }
   ],
   "source": [
    "s = \"hello\"\n",
    "t = \"python\"\n",
    "print(s+'!', t)"
   ]
  },
  {
   "cell_type": "code",
   "execution_count": 5,
   "id": "272b695e",
   "metadata": {},
   "outputs": [
    {
     "data": {
      "text/plain": [
       "8"
      ]
     },
     "execution_count": 5,
     "metadata": {},
     "output_type": "execute_result"
    }
   ],
   "source": [
    "2 + 2 * 3  # 사칙연산은 곱셈, 나눗셈이 덧셈 뺄셈보다 먼저 계산됨"
   ]
  },
  {
   "cell_type": "code",
   "execution_count": 6,
   "id": "510ca368",
   "metadata": {},
   "outputs": [
    {
     "name": "stdout",
     "output_type": "stream",
     "text": [
      "<class 'int'>\n"
     ]
    }
   ],
   "source": [
    "a = 128\n",
    "print(type(a))"
   ]
  },
  {
   "cell_type": "code",
   "execution_count": 7,
   "id": "339593b8",
   "metadata": {},
   "outputs": [
    {
     "data": {
      "text/plain": [
       "str"
      ]
     },
     "execution_count": 7,
     "metadata": {},
     "output_type": "execute_result"
    }
   ],
   "source": [
    "a = \"132\"\n",
    "type(a)   # 정수에 \"\" 따옴표 붙이면 문자열로 인식"
   ]
  },
  {
   "cell_type": "code",
   "execution_count": 11,
   "id": "5193f83b",
   "metadata": {},
   "outputs": [
    {
     "data": {
      "text/plain": [
       "int"
      ]
     },
     "execution_count": 11,
     "metadata": {},
     "output_type": "execute_result"
    }
   ],
   "source": [
    "# 16번 문제\n",
    "\n",
    "num_str = \"720\"\n",
    "num_int = int(num_str)\n",
    "type(num_int)"
   ]
  },
  {
   "cell_type": "code",
   "execution_count": 3,
   "id": "aac35b55",
   "metadata": {},
   "outputs": [
    {
     "name": "stdout",
     "output_type": "stream",
     "text": [
      "721.0 <class 'float'>\n"
     ]
    }
   ],
   "source": [
    "# 16번 int말고 float으로도 변환할 수 있음\n",
    "# 연산값을 출력하여 제대로 되어 있는지 확인\n",
    "\n",
    "num_str = '720'\n",
    "num_float = float(num_str)\n",
    "print(num_float+1, type(num_float))"
   ]
  },
  {
   "cell_type": "code",
   "execution_count": 12,
   "id": "049151e9",
   "metadata": {},
   "outputs": [
    {
     "name": "stdout",
     "output_type": "stream",
     "text": [
      "100 <class 'str'>\n"
     ]
    }
   ],
   "source": [
    "num = 100\n",
    "num_str = str(num)\n",
    "print(num_str, type(num_str))"
   ]
  },
  {
   "cell_type": "code",
   "execution_count": 14,
   "id": "e62e78c1",
   "metadata": {},
   "outputs": [
    {
     "name": "stdout",
     "output_type": "stream",
     "text": [
      "15.79 <class 'float'>\n"
     ]
    }
   ],
   "source": [
    "str = \"15.79\"\n",
    "result_float = float(str)\n",
    "print(result_float, type(result_float))"
   ]
  },
  {
   "cell_type": "code",
   "execution_count": 16,
   "id": "b02427da",
   "metadata": {},
   "outputs": [
    {
     "name": "stdout",
     "output_type": "stream",
     "text": [
      "2021 2022 2023\n",
      "2017 2018 2019\n"
     ]
    }
   ],
   "source": [
    "year = \"2020\"\n",
    "data = int(year)\n",
    "\n",
    "print(data+1, data+2, data+3)\n",
    "print(data-3, data-2, data-1)"
   ]
  },
  {
   "cell_type": "code",
   "execution_count": 17,
   "id": "d838ee11",
   "metadata": {},
   "outputs": [
    {
     "data": {
      "text/plain": [
       "'에어컨 구입 총금액 = 1749024원.'"
      ]
     },
     "execution_count": 17,
     "metadata": {},
     "output_type": "execute_result"
    }
   ],
   "source": [
    "# f 문자열도 섞어서 써보기\n",
    "m_price = 48584\n",
    "f'에어컨 구입 총금액 = {m_price * 36}원.'"
   ]
  },
  {
   "cell_type": "markdown",
   "id": "00e5a0de",
   "metadata": {},
   "source": [
    "## 021 ~ 030 "
   ]
  },
  {
   "cell_type": "code",
   "execution_count": 18,
   "id": "cdd44ecb",
   "metadata": {},
   "outputs": [
    {
     "name": "stdout",
     "output_type": "stream",
     "text": [
      "p t\n"
     ]
    }
   ],
   "source": [
    "letters = 'python'\n",
    "print(letters[0], letters[2])"
   ]
  },
  {
   "cell_type": "code",
   "execution_count": 20,
   "id": "e943fb7f",
   "metadata": {},
   "outputs": [
    {
     "name": "stdout",
     "output_type": "stream",
     "text": [
      "2210\n"
     ]
    }
   ],
   "source": [
    "license_plate = \"24가 2210\"\n",
    "print(license_plate[-4:])"
   ]
  },
  {
   "cell_type": "code",
   "execution_count": 21,
   "id": "d2811ec5",
   "metadata": {},
   "outputs": [
    {
     "name": "stdout",
     "output_type": "stream",
     "text": [
      "홀 홀 홀\n"
     ]
    }
   ],
   "source": [
    "# '홀'만 출력하기 (1) 띄어쓰기 있는 ver.\n",
    "str = '홀짝홀짝홀짝'\n",
    "print(str[0], str[2], str[4])"
   ]
  },
  {
   "cell_type": "code",
   "execution_count": 22,
   "id": "f1c7c9e8",
   "metadata": {},
   "outputs": [
    {
     "name": "stdout",
     "output_type": "stream",
     "text": [
      "홀홀홀\n"
     ]
    }
   ],
   "source": [
    "# '홀'만 출력하기 (2) 띄어쓰기 없는 ver.\n",
    "# 슬라이싱 -> \"시작인덱스:마지막인덱스:오프셋\"  \n",
    "# 오프셋 = 단위\n",
    "\n",
    "str = '홀짝홀짝홀짝'\n",
    "print(str[::2])  # 처음부터 끝까지 2씩 건너뛰며 출력"
   ]
  },
  {
   "cell_type": "code",
   "execution_count": 24,
   "id": "f73ad5cb",
   "metadata": {},
   "outputs": [
    {
     "name": "stdout",
     "output_type": "stream",
     "text": [
      "NOHTYP\n"
     ]
    }
   ],
   "source": [
    "# 문자열 거꾸로 뒤집어 출력\n",
    "str = \"PYTHON\"\n",
    "print(str[::-1])  # 처음부터 끝까지 -1씩 건너뛰며 출력 = 뒤에서 앞까지 1씩 역순으로 출력"
   ]
  },
  {
   "cell_type": "code",
   "execution_count": 37,
   "id": "2043316c",
   "metadata": {},
   "outputs": [
    {
     "data": {
      "text/plain": [
       "'010 1111 2222'"
      ]
     },
     "execution_count": 37,
     "metadata": {},
     "output_type": "execute_result"
    }
   ],
   "source": [
    "# 25 번\n",
    "# 문자열 치환\n",
    "# 연락처에서 하이픈(-)만 빼고 출력하기 (1) 간편한 방법\n",
    "\n",
    "phone_number = \"010-1111-2222\"\n",
    "phone_number.replace(\"-\", \" \")"
   ]
  },
  {
   "cell_type": "code",
   "execution_count": 35,
   "id": "c6fbbfb4",
   "metadata": {},
   "outputs": [
    {
     "name": "stdout",
     "output_type": "stream",
     "text": [
      "01011112222\n"
     ]
    }
   ],
   "source": [
    "# 연락처에서 하이픈(-)만 빼고 출력하기 (2) 손이 고생하는 방법 ㅠㅠ\n",
    "\n",
    "phone_number = \"010-1111-2222\"\n",
    "print(phone_number[0:3]+phone_number[4:8]+phone_number[9:])"
   ]
  },
  {
   "cell_type": "code",
   "execution_count": 38,
   "id": "9d245adf",
   "metadata": {},
   "outputs": [
    {
     "data": {
      "text/plain": [
       "'01011112222'"
      ]
     },
     "execution_count": 38,
     "metadata": {},
     "output_type": "execute_result"
    }
   ],
   "source": [
    "# 26번 : 25번 문제의 전화번호를 하이픈 제거 + 공백없이 출력\n",
    "\n",
    "phone_number = \"010-1111-2222\"\n",
    "phone_number.replace(\"-\", \"\")"
   ]
  },
  {
   "cell_type": "code",
   "execution_count": 48,
   "id": "52743ca7",
   "metadata": {},
   "outputs": [
    {
     "name": "stdout",
     "output_type": "stream",
     "text": [
      "kr\n"
     ]
    }
   ],
   "source": [
    "# 27번\n",
    "# url에 저장된 웹페이지 주소에서 도메인 출력하기 (1) . 기준으로 쪼개기 + 인덱싱\n",
    "url = \"http://sharebook.kr\"\n",
    "url_cut = url.split(\".\")\n",
    "print(url_cut[-1])"
   ]
  },
  {
   "cell_type": "code",
   "execution_count": 41,
   "id": "2996a5e5",
   "metadata": {},
   "outputs": [
    {
     "name": "stdout",
     "output_type": "stream",
     "text": [
      "kr\n"
     ]
    }
   ],
   "source": [
    "# url에 저장된 웹페이지 주소에서 도메인 출력하기 (2) 슬라이싱\n",
    "url = \"http://sharebook.kr\"\n",
    "print(url[-2:])"
   ]
  },
  {
   "cell_type": "code",
   "execution_count": 50,
   "id": "011f029c",
   "metadata": {},
   "outputs": [
    {
     "ename": "TypeError",
     "evalue": "'str' object does not support item assignment",
     "output_type": "error",
     "traceback": [
      "\u001b[1;31m---------------------------------------------------------------------------\u001b[0m",
      "\u001b[1;31mTypeError\u001b[0m                                 Traceback (most recent call last)",
      "Cell \u001b[1;32mIn[50], line 2\u001b[0m\n\u001b[0;32m      1\u001b[0m lang \u001b[38;5;241m=\u001b[39m \u001b[38;5;124m'\u001b[39m\u001b[38;5;124mpython\u001b[39m\u001b[38;5;124m'\u001b[39m\n\u001b[1;32m----> 2\u001b[0m lang[\u001b[38;5;241m0\u001b[39m] \u001b[38;5;241m=\u001b[39m \u001b[38;5;124m'\u001b[39m\u001b[38;5;124mp\u001b[39m\u001b[38;5;124m'\u001b[39m\n\u001b[0;32m      3\u001b[0m \u001b[38;5;28mprint\u001b[39m(lang)\n",
      "\u001b[1;31mTypeError\u001b[0m: 'str' object does not support item assignment"
     ]
    }
   ],
   "source": [
    "lang = 'python'\n",
    "lang[0] = 'p'\n",
    "print(lang)  # 에러 원인 :  문자열은 수정할 수 없다(immutable)"
   ]
  },
  {
   "cell_type": "code",
   "execution_count": 54,
   "id": "7ede4c1f",
   "metadata": {},
   "outputs": [
    {
     "data": {
      "text/plain": [
       "'Abcde2A354A32A'"
      ]
     },
     "execution_count": 54,
     "metadata": {},
     "output_type": "execute_result"
    }
   ],
   "source": [
    "# 소문자 'a'를 대문자 'A'로 바꾸기\n",
    "\n",
    "string = 'abcde2a354a32a'\n",
    "string.replace('a', 'A')"
   ]
  },
  {
   "cell_type": "code",
   "execution_count": 57,
   "id": "d7b2d5e8",
   "metadata": {},
   "outputs": [
    {
     "name": "stdout",
     "output_type": "stream",
     "text": [
      "abcd\n"
     ]
    }
   ],
   "source": [
    "# 30번\n",
    "# replace 메서드는 원본 문자열은 보존한 채, 변경된 \"새로운 문자열 객체\"를 반환하는 것\n",
    "string = 'abcd'\n",
    "string.replace('b', 'B')\n",
    "print(string)   # 문자열은 수정 불가하므로 원본 문자열인 'abcd'가 그대로 출력됨"
   ]
  },
  {
   "cell_type": "markdown",
   "id": "e94a5f5b",
   "metadata": {},
   "source": [
    "## 031 ~ 040"
   ]
  },
  {
   "cell_type": "code",
   "execution_count": 58,
   "id": "b937e944",
   "metadata": {},
   "outputs": [
    {
     "name": "stdout",
     "output_type": "stream",
     "text": [
      "34\n"
     ]
    }
   ],
   "source": [
    "a = \"3\"\n",
    "b = \"4\"\n",
    "print(a+b)"
   ]
  },
  {
   "cell_type": "code",
   "execution_count": 60,
   "id": "5875effd",
   "metadata": {},
   "outputs": [
    {
     "name": "stdout",
     "output_type": "stream",
     "text": [
      "Hi Hi Hi \n"
     ]
    }
   ],
   "source": [
    "print(\"Hi \" * 3)"
   ]
  },
  {
   "cell_type": "code",
   "execution_count": 61,
   "id": "0e9c9a82",
   "metadata": {},
   "outputs": [
    {
     "name": "stdout",
     "output_type": "stream",
     "text": [
      "--------------------------------------------------------------------------------\n"
     ]
    }
   ],
   "source": [
    "print('-' * 80)"
   ]
  },
  {
   "cell_type": "code",
   "execution_count": 63,
   "id": "75f47f17",
   "metadata": {},
   "outputs": [
    {
     "name": "stdout",
     "output_type": "stream",
     "text": [
      "python java python java python java python java \n"
     ]
    }
   ],
   "source": [
    "t1 = 'python '\n",
    "t2 = 'java '\n",
    "\n",
    "print((t1+t2) * 4)"
   ]
  },
  {
   "cell_type": "code",
   "execution_count": 65,
   "id": "642e55f9",
   "metadata": {},
   "outputs": [],
   "source": [
    "# 35번 : f포맷팅\n",
    "name1 = \"김민수\"\n",
    "age1 = 10\n",
    "name2 = \"이철희\"\n",
    "age2 = 13"
   ]
  },
  {
   "cell_type": "code",
   "execution_count": 72,
   "id": "b32a6938",
   "metadata": {},
   "outputs": [
    {
     "name": "stdout",
     "output_type": "stream",
     "text": [
      "이름: 김민수 나이: 10\n",
      "이름: 이철희 나이: 13\n"
     ]
    }
   ],
   "source": [
    "print(\"이름: %s 나이: %d\" %(name1, age1))\n",
    "print('이름: %s 나이: %d' %(name2, age2))"
   ]
  },
  {
   "cell_type": "code",
   "execution_count": 75,
   "id": "b49a5bd2",
   "metadata": {},
   "outputs": [
    {
     "name": "stdout",
     "output_type": "stream",
     "text": [
      "이름: 김민수 나이: 10\n",
      "이름: 이철희 나이: 13\n"
     ]
    }
   ],
   "source": [
    "# 36번 : 35번 문제와 같은 결과물을 format() 메서드 이용해서 출력\n",
    "print(\"이름: {} 나이: {}\".format(name1, age1))\n",
    "print(\"이름: {} 나이: {}\".format(name2, age2))"
   ]
  },
  {
   "cell_type": "code",
   "execution_count": 80,
   "id": "4ec04a96",
   "metadata": {},
   "outputs": [
    {
     "name": "stdout",
     "output_type": "stream",
     "text": [
      "이름: 김민수 나이: 10\n",
      "이름: 이철희 나이: 13\n"
     ]
    }
   ],
   "source": [
    "# 37번 : 35번 문제와 같은 결과물을 f문자열 이용해서 출력\n",
    "print(f'이름: {name1} 나이: {age1}') \n",
    "print(f'이름: {name2} 나이: {age2}')"
   ]
  },
  {
   "cell_type": "code",
   "execution_count": 88,
   "id": "bfcafffa",
   "metadata": {},
   "outputs": [
    {
     "name": "stdout",
     "output_type": "stream",
     "text": [
      "5969782550 <class 'int'>\n"
     ]
    }
   ],
   "source": [
    "# 38번 : 문자열을 정수로 변환할 때...\n",
    "# 컴마 제거하기 : 방법 1 = 데이터 타입을 정수로 변환\n",
    "# 숫자형태의 문자열에 컴마가 포함되면 정수 변환이 바로 지원되지 않음\n",
    "# 문자열 replace로 컴마 제거한 후 정수로 타입을 변화해야 함\n",
    "상장주식수 = \"5,969,782,550\"\n",
    "\n",
    "제거 = 상장주식수.replace(',','')\n",
    "변환 = int(제거)\n",
    "print(변환, type(변환))"
   ]
  },
  {
   "cell_type": "code",
   "execution_count": 89,
   "id": "19863e0e",
   "metadata": {},
   "outputs": [
    {
     "name": "stdout",
     "output_type": "stream",
     "text": [
      "5969782550 <class 'str'>\n"
     ]
    }
   ],
   "source": [
    "# 컴마 제거하기 : 방법 2 = 데이터 타입을 정수로 변환 못함\n",
    "상장주식수 = \"5,969,782,550\"\n",
    "\n",
    "int_상장주식수 = 상장주식수.replace(',','')\n",
    "print(int_상장주식수, type(int_상장주식수))"
   ]
  },
  {
   "cell_type": "code",
   "execution_count": 92,
   "id": "2d79669d",
   "metadata": {},
   "outputs": [
    {
     "name": "stdout",
     "output_type": "stream",
     "text": [
      "2020/03\n"
     ]
    }
   ],
   "source": [
    "# 문자열 슬라이싱\n",
    "분기 = '2020/03(E) (IFRS연결)'\n",
    "print(분기[:7])"
   ]
  },
  {
   "cell_type": "code",
   "execution_count": 95,
   "id": "c206a852",
   "metadata": {},
   "outputs": [
    {
     "name": "stdout",
     "output_type": "stream",
     "text": [
      "삼성전자\n"
     ]
    }
   ],
   "source": [
    "# 문자열 공백 제거\n",
    "# 문자열은 수정 불가 = strip() 메서드는 원본 문자열은 유지하고, 공백이 제거된 \"새로운 문자열\"을 반환함\n",
    "data = \"   삼성전자    \"\n",
    "data1 = data.strip()\n",
    "print(data1)"
   ]
  },
  {
   "cell_type": "markdown",
   "id": "eee52b33",
   "metadata": {},
   "source": [
    "## 041 ~ 050"
   ]
  },
  {
   "cell_type": "code",
   "execution_count": 97,
   "id": "fddbaa2d",
   "metadata": {},
   "outputs": [
    {
     "name": "stdout",
     "output_type": "stream",
     "text": [
      "BTC_KRW\n"
     ]
    }
   ],
   "source": [
    "# 대문자로\n",
    "ticker = \"btc_krw\"\n",
    "ticker1 = ticker.upper()\n",
    "print(ticker1)"
   ]
  },
  {
   "cell_type": "code",
   "execution_count": 98,
   "id": "5e2bc780",
   "metadata": {},
   "outputs": [
    {
     "name": "stdout",
     "output_type": "stream",
     "text": [
      "btc_krw\n"
     ]
    }
   ],
   "source": [
    "# 소문자로\n",
    "ticker2 = ticker.lower()\n",
    "print(ticker2)"
   ]
  },
  {
   "cell_type": "code",
   "execution_count": 102,
   "id": "97e628ef",
   "metadata": {},
   "outputs": [
    {
     "name": "stdout",
     "output_type": "stream",
     "text": [
      "Hello\n"
     ]
    }
   ],
   "source": [
    "# 문자열 'hello' -> 'Hello'로 변경 \n",
    "# (방법1) capitalize 메서드\n",
    "a = 'hello'\n",
    "a = a.capitalize()\n",
    "print(a)"
   ]
  },
  {
   "cell_type": "code",
   "execution_count": 103,
   "id": "000b6b4a",
   "metadata": {},
   "outputs": [
    {
     "name": "stdout",
     "output_type": "stream",
     "text": [
      "Hello\n"
     ]
    }
   ],
   "source": [
    "# 문자열 'hello' -> 'Hello'로 변경 \n",
    "# (방법2)\n",
    "str1 = 'hello'\n",
    "str2 = str1.replace('h', 'H')\n",
    "print(str2)"
   ]
  },
  {
   "cell_type": "code",
   "execution_count": 104,
   "id": "e0b0bde6",
   "metadata": {},
   "outputs": [
    {
     "data": {
      "text/plain": [
       "True"
      ]
     },
     "execution_count": 104,
     "metadata": {},
     "output_type": "execute_result"
    }
   ],
   "source": [
    "# 44번 : endswith()\n",
    "# 파일 이름이 문자열로 저장되어 있을 때, 파일이름이 'xlsx'로 끝나는지 확인\n",
    "\n",
    "file_name = \"보고서.xlsx\"\n",
    "file_name.endswith('xlsx')   # boolean"
   ]
  },
  {
   "cell_type": "code",
   "execution_count": 108,
   "id": "aeadcfae",
   "metadata": {},
   "outputs": [
    {
     "data": {
      "text/plain": [
       "True"
      ]
     },
     "execution_count": 108,
     "metadata": {},
     "output_type": "execute_result"
    }
   ],
   "source": [
    "# 파일 이름이 문자열로 저장되어 있을 때, 파일이름이 'xlsx' or 'xls'로 끝나는지 확인\n",
    "\n",
    "file_name = \"보고서.xlsx\"\n",
    "file_name.endswith((\"xlsx\", \"xls\"))  # 괄호 2개"
   ]
  },
  {
   "cell_type": "code",
   "execution_count": 111,
   "id": "260a0da3",
   "metadata": {},
   "outputs": [
    {
     "data": {
      "text/plain": [
       "True"
      ]
     },
     "execution_count": 111,
     "metadata": {},
     "output_type": "execute_result"
    }
   ],
   "source": [
    "# startswith()\n",
    "file_name = \"2020_보고서.xlsx\"\n",
    "file_name.startswith('2020')"
   ]
  },
  {
   "cell_type": "code",
   "execution_count": 113,
   "id": "2db146f9",
   "metadata": {},
   "outputs": [
    {
     "data": {
      "text/plain": [
       "['hello', 'world']"
      ]
     },
     "execution_count": 113,
     "metadata": {},
     "output_type": "execute_result"
    }
   ],
   "source": [
    "# split()\n",
    "# 공백을 기준으로 문자열 나누기\n",
    "\n",
    "a = 'hello world'\n",
    "a.split()"
   ]
  },
  {
   "cell_type": "code",
   "execution_count": 114,
   "id": "17137cec",
   "metadata": {},
   "outputs": [
    {
     "data": {
      "text/plain": [
       "['btc', 'krw']"
      ]
     },
     "execution_count": 114,
     "metadata": {},
     "output_type": "execute_result"
    }
   ],
   "source": [
    "ticker = \"btc_krw\"\n",
    "ticker.split('_')"
   ]
  },
  {
   "cell_type": "code",
   "execution_count": 115,
   "id": "cfbf799f",
   "metadata": {},
   "outputs": [
    {
     "data": {
      "text/plain": [
       "['2020', '05', '01']"
      ]
     },
     "execution_count": 115,
     "metadata": {},
     "output_type": "execute_result"
    }
   ],
   "source": [
    "# 날짜를 연도, 월, 일 나누기\n",
    "\n",
    "date = \"2020-05-01\"\n",
    "date.split(\"-\")"
   ]
  },
  {
   "cell_type": "code",
   "execution_count": 116,
   "id": "4fadd729",
   "metadata": {},
   "outputs": [
    {
     "data": {
      "text/plain": [
       "'039490'"
      ]
     },
     "execution_count": 116,
     "metadata": {},
     "output_type": "execute_result"
    }
   ],
   "source": [
    "# 문자열 오른쪽 공백 제거\n",
    "\n",
    "data = \"039490     \"\n",
    "data.rstrip()"
   ]
  },
  {
   "cell_type": "markdown",
   "id": "738c79a9",
   "metadata": {},
   "source": [
    "## 051 ~ 060"
   ]
  },
  {
   "cell_type": "markdown",
   "id": "28ba90e9",
   "metadata": {},
   "source": [
    "|순위|영화|\n",
    "|:--:|:--:|\n",
    "|1|닥터 스트레인지|\n",
    "|2|스플릿|\n",
    "|3|럭키|"
   ]
  },
  {
   "cell_type": "code",
   "execution_count": 123,
   "id": "538a02b8",
   "metadata": {},
   "outputs": [
    {
     "data": {
      "text/plain": [
       "list"
      ]
     },
     "execution_count": 123,
     "metadata": {},
     "output_type": "execute_result"
    }
   ],
   "source": [
    "# 리스트 생성\n",
    "movie_rank = [\"닥터 스트레인지\", \"스플릿\", \"럭키\"]\n",
    "type(movie_rank)"
   ]
  },
  {
   "cell_type": "code",
   "execution_count": 124,
   "id": "0358a4c4",
   "metadata": {},
   "outputs": [
    {
     "data": {
      "text/plain": [
       "['닥터 스트레인지', '스플릿', '럭키', '배트맨']"
      ]
     },
     "execution_count": 124,
     "metadata": {},
     "output_type": "execute_result"
    }
   ],
   "source": [
    "# 리스트 요소 추가(1) : 맨 뒤에\n",
    "\n",
    "movie_rank.append(\"배트맨\")\n",
    "movie_rank"
   ]
  },
  {
   "cell_type": "code",
   "execution_count": 125,
   "id": "0db24991",
   "metadata": {},
   "outputs": [
    {
     "name": "stdout",
     "output_type": "stream",
     "text": [
      "['닥터 스트레인지', '스플릿', '럭키', '배트맨']\n"
     ]
    }
   ],
   "source": [
    "print(movie_rank)"
   ]
  },
  {
   "cell_type": "code",
   "execution_count": 128,
   "id": "bd738bc8",
   "metadata": {},
   "outputs": [
    {
     "name": "stdout",
     "output_type": "stream",
     "text": [
      "['닥터 스트레인지', '슈퍼맨', '스플릿', '럭키', '배트맨']\n"
     ]
    }
   ],
   "source": [
    "# 리스트 요소 추가(2) : 특정 위치 지정 --->   .insert(인덱스,값)\n",
    "\n",
    "movie_rank.insert(1,\"슈퍼맨\")\n",
    "print(movie_rank)"
   ]
  },
  {
   "cell_type": "code",
   "execution_count": 129,
   "id": "8c49eb90",
   "metadata": {},
   "outputs": [
    {
     "name": "stdout",
     "output_type": "stream",
     "text": [
      "['닥터 스트레인지', '슈퍼맨', '스플릿', '배트맨']\n"
     ]
    }
   ],
   "source": [
    "# 리스트 요소 삭제 : 1개\n",
    "\n",
    "del movie_rank[3]\n",
    "print(movie_rank)"
   ]
  },
  {
   "cell_type": "code",
   "execution_count": 132,
   "id": "a25014e9",
   "metadata": {},
   "outputs": [
    {
     "name": "stdout",
     "output_type": "stream",
     "text": [
      "['닥터 스트레인지', '슈퍼맨']\n"
     ]
    }
   ],
   "source": [
    "# 리스트 요소 삭제 : 2개 이상\n",
    "# 리스트에서 특정 값 삭제 -> 남은 값들도 자동으로 새로 인덱싱\n",
    "# 두개 이상의 요소를 삭제할 땐, 어떤 값이 삭제된 후 남은 요소들의 순서를 새로 고려하여 인덱스 입력\n",
    "del movie_rank[2]\n",
    "del movie_rank[2]\n",
    "\n",
    "print(movie_rank)"
   ]
  },
  {
   "cell_type": "code",
   "execution_count": 134,
   "id": "4f9bc78e",
   "metadata": {},
   "outputs": [
    {
     "name": "stdout",
     "output_type": "stream",
     "text": [
      "['C', 'C++', 'JAVA', 'Python', 'Go', 'C#']\n"
     ]
    }
   ],
   "source": [
    "# 리스트 요소 합치기\n",
    "\n",
    "lang1 = ['C', 'C++', 'JAVA']\n",
    "lang2 = ['Python', 'Go', 'C#']\n",
    "\n",
    "langs = lang1 + lang2\n",
    "print(langs)"
   ]
  },
  {
   "cell_type": "code",
   "execution_count": 138,
   "id": "d5bba3b0",
   "metadata": {},
   "outputs": [
    {
     "name": "stdout",
     "output_type": "stream",
     "text": [
      "max : 7\n",
      "min : 1\n"
     ]
    }
   ],
   "source": [
    "# 최댓값, 최솟값\n",
    "nums = [1, 2, 3, 4, 5, 6, 7]\n",
    "\n",
    "print(\"max :\", max(nums))\n",
    "print(\"min :\", min(nums))"
   ]
  },
  {
   "cell_type": "code",
   "execution_count": 139,
   "id": "bddb0a01",
   "metadata": {},
   "outputs": [
    {
     "data": {
      "text/plain": [
       "15"
      ]
     },
     "execution_count": 139,
     "metadata": {},
     "output_type": "execute_result"
    }
   ],
   "source": [
    "# 리스트의 합 출력\n",
    "nums = [1, 2, 3, 4, 5]\n",
    "\n",
    "sum(nums)"
   ]
  },
  {
   "cell_type": "code",
   "execution_count": 140,
   "id": "8ae05f68",
   "metadata": {},
   "outputs": [
    {
     "data": {
      "text/plain": [
       "12"
      ]
     },
     "execution_count": 140,
     "metadata": {},
     "output_type": "execute_result"
    }
   ],
   "source": [
    "# 리스트에 저장된 데이터의 개수\n",
    "\n",
    "cook = ['피자', '김밥', '만두', '양념치킨', '족발', '피자', '김치만두', '쫄면', '소시지', '라면', '팥빙수', '김치전']\n",
    "len(cook)"
   ]
  },
  {
   "cell_type": "code",
   "execution_count": 145,
   "id": "45d25c72",
   "metadata": {},
   "outputs": [
    {
     "name": "stdout",
     "output_type": "stream",
     "text": [
      "3.0\n"
     ]
    }
   ],
   "source": [
    "nums = [1, 2, 3, 4, 5]\n",
    "\n",
    "average = sum(nums) / len(nums)\n",
    "print(average)"
   ]
  },
  {
   "cell_type": "markdown",
   "id": "898c0297",
   "metadata": {},
   "source": [
    "## 061 ~ 070"
   ]
  },
  {
   "cell_type": "code",
   "execution_count": 146,
   "id": "c518f059",
   "metadata": {},
   "outputs": [
    {
     "data": {
      "text/plain": [
       "[100, 130, 140, 150, 160, 170]"
      ]
     },
     "execution_count": 146,
     "metadata": {},
     "output_type": "execute_result"
    }
   ],
   "source": [
    "# price 변수에서 (날짜 정보 제외하고) 가격 정보만 출력\n",
    "price = ['20180728', 100, 130, 140, 150, 160, 170]\n",
    "\n",
    "price[1:]"
   ]
  },
  {
   "cell_type": "code",
   "execution_count": 147,
   "id": "268ef7a2",
   "metadata": {},
   "outputs": [
    {
     "data": {
      "text/plain": [
       "[1, 3, 5, 7, 9]"
      ]
     },
     "execution_count": 147,
     "metadata": {},
     "output_type": "execute_result"
    }
   ],
   "source": [
    "# 슬라이싱 활용해서 홀수만 출력\n",
    "nums = [1, 2, 3, 4, 5, 6, 7, 8, 9, 10]\n",
    "\n",
    "nums[::2]"
   ]
  },
  {
   "cell_type": "code",
   "execution_count": 149,
   "id": "26b7fb18",
   "metadata": {},
   "outputs": [
    {
     "data": {
      "text/plain": [
       "[2, 4, 6, 8, 10]"
      ]
     },
     "execution_count": 149,
     "metadata": {},
     "output_type": "execute_result"
    }
   ],
   "source": [
    "# 슬라이싱 활용해서 짝수만 출력\n",
    "nums = [1, 2, 3, 4, 5, 6, 7, 8, 9, 10]\n",
    "\n",
    "nums[1::2]"
   ]
  },
  {
   "cell_type": "code",
   "execution_count": 150,
   "id": "edbcbf29",
   "metadata": {},
   "outputs": [
    {
     "data": {
      "text/plain": [
       "[5, 4, 3, 2, 1]"
      ]
     },
     "execution_count": 150,
     "metadata": {},
     "output_type": "execute_result"
    }
   ],
   "source": [
    "# 슬라이싱 활용해서 리스트 숫자를 역순으로 출력\n",
    "nums = [1, 2, 3, 4, 5]\n",
    "\n",
    "nums[::-1]"
   ]
  },
  {
   "cell_type": "code",
   "execution_count": 153,
   "id": "b3eba140",
   "metadata": {},
   "outputs": [
    {
     "name": "stdout",
     "output_type": "stream",
     "text": [
      "삼성전자 Naver\n"
     ]
    }
   ],
   "source": [
    "interest = ['삼성전자', 'LG전자', 'Naver']\n",
    "\n",
    "print(interest[0], interest[2])"
   ]
  },
  {
   "cell_type": "code",
   "execution_count": 155,
   "id": "fe2e583c",
   "metadata": {},
   "outputs": [
    {
     "name": "stdout",
     "output_type": "stream",
     "text": [
      "삼성전자 LG전자 Naver SK하이닉스 미래에셋대우\n"
     ]
    }
   ],
   "source": [
    "# join()\n",
    "interest = ['삼성전자', 'LG전자', 'Naver', 'SK하이닉스', '미래에셋대우']\n",
    "\n",
    "print(\" \".join(interest))\n"
   ]
  },
  {
   "cell_type": "code",
   "execution_count": 156,
   "id": "1a16d914",
   "metadata": {},
   "outputs": [
    {
     "name": "stdout",
     "output_type": "stream",
     "text": [
      "삼성전자/LG전자/Naver/SK하이닉스/미래에셋대우\n"
     ]
    }
   ],
   "source": [
    "print(\"/\".join(interest))"
   ]
  },
  {
   "cell_type": "code",
   "execution_count": 159,
   "id": "4fc6bfbd",
   "metadata": {},
   "outputs": [
    {
     "name": "stdout",
     "output_type": "stream",
     "text": [
      "삼성전자 \n",
      "LG전자 \n",
      "Naver \n",
      "SK하이닉스 \n",
      "미래에셋대우\n"
     ]
    }
   ],
   "source": [
    "print(' \\n'.join(interest))"
   ]
  },
  {
   "cell_type": "code",
   "execution_count": 167,
   "id": "111a270e",
   "metadata": {},
   "outputs": [
    {
     "name": "stdout",
     "output_type": "stream",
     "text": [
      "['삼성전자', 'LG전자', 'Naver'] <class 'list'>\n"
     ]
    }
   ],
   "source": [
    "# 회사 이름을 interest 리스트로 분리하여 저장\n",
    "string = \"삼성전자/LG전자/Naver\"\n",
    "\n",
    "interest = string.split('/')\n",
    "print(interest, type(interest))"
   ]
  },
  {
   "cell_type": "code",
   "execution_count": 173,
   "id": "2bfe82ec",
   "metadata": {},
   "outputs": [
    {
     "name": "stdout",
     "output_type": "stream",
     "text": [
      "[1, 2, 3, 4, 5, 9, 10]\n"
     ]
    }
   ],
   "source": [
    "# 리스트 값 오름차순 정리 (방법1)   .sort()\n",
    "data = [2, 4, 3, 1, 5, 10, 9]\n",
    "data.sort()\n",
    "print(data)"
   ]
  },
  {
   "cell_type": "code",
   "execution_count": 175,
   "id": "aae9ba7b",
   "metadata": {},
   "outputs": [
    {
     "name": "stdout",
     "output_type": "stream",
     "text": [
      "[1, 2, 3, 4, 5, 9, 10]\n"
     ]
    }
   ],
   "source": [
    "# 리스트 값 오름차순 정리 (방법2)     .sorted()\n",
    "data = [2, 4, 3, 1, 5, 10, 9]\n",
    "data2 = sorted(data)\n",
    "print(data2)"
   ]
  },
  {
   "cell_type": "markdown",
   "id": "15dbc4cf",
   "metadata": {},
   "source": [
    "## 071 ~ 080"
   ]
  },
  {
   "cell_type": "code",
   "execution_count": 179,
   "id": "0e1a2714",
   "metadata": {},
   "outputs": [
    {
     "name": "stdout",
     "output_type": "stream",
     "text": [
      "<class 'tuple'>\n"
     ]
    }
   ],
   "source": [
    "# my_variable 이름의 비어있는 튜플 만들기\n",
    "\n",
    "my_variable = ()\n",
    "print(type(my_variable))"
   ]
  },
  {
   "cell_type": "markdown",
   "id": "da98ce59",
   "metadata": {},
   "source": [
    "|순위|영화|\n",
    "|:--:|:--:|\n",
    "|1|닥터 스트레인지|\n",
    "|2|스플릿|\n",
    "|3|럭키|"
   ]
  },
  {
   "cell_type": "code",
   "execution_count": 182,
   "id": "60ec9c74",
   "metadata": {},
   "outputs": [
    {
     "name": "stdout",
     "output_type": "stream",
     "text": [
      "('닥터 스트레인지', '스플릿', '럭키') <class 'tuple'>\n"
     ]
    }
   ],
   "source": [
    "movie_rank = ('닥터 스트레인지', '스플릿', '럭키')\n",
    "print(movie_rank, type(movie_rank))"
   ]
  },
  {
   "cell_type": "code",
   "execution_count": 236,
   "id": "5ec363cd",
   "metadata": {},
   "outputs": [
    {
     "name": "stdout",
     "output_type": "stream",
     "text": [
      "(1,) <class 'tuple'>\n"
     ]
    }
   ],
   "source": [
    "# 숫자 1이 저장된 튜플 생성\n",
    "t = (1, )\n",
    "print(t, type(t))"
   ]
  },
  {
   "cell_type": "code",
   "execution_count": 242,
   "id": "14007249",
   "metadata": {},
   "outputs": [
    {
     "ename": "TypeError",
     "evalue": "'tuple' object does not support item assignment",
     "output_type": "error",
     "traceback": [
      "\u001b[1;31m---------------------------------------------------------------------------\u001b[0m",
      "\u001b[1;31mTypeError\u001b[0m                                 Traceback (most recent call last)",
      "Cell \u001b[1;32mIn[242], line 4\u001b[0m\n\u001b[0;32m      1\u001b[0m \u001b[38;5;66;03m# 코드오류 원인 찾기  -> 튜플은 수정 불가(immutable)\u001b[39;00m\n\u001b[0;32m      3\u001b[0m t \u001b[38;5;241m=\u001b[39m (\u001b[38;5;241m1\u001b[39m, \u001b[38;5;241m2\u001b[39m, \u001b[38;5;241m3\u001b[39m)\n\u001b[1;32m----> 4\u001b[0m t[\u001b[38;5;241m0\u001b[39m] \u001b[38;5;241m=\u001b[39m \u001b[38;5;124m'\u001b[39m\u001b[38;5;124ma\u001b[39m\u001b[38;5;124m'\u001b[39m\n",
      "\u001b[1;31mTypeError\u001b[0m: 'tuple' object does not support item assignment"
     ]
    }
   ],
   "source": [
    "# 코드오류 원인 찾기  -> 튜플은 수정 불가(immutable)\n",
    "\n",
    "t = (1, 2, 3)\n",
    "t[0] = 'a'\n"
   ]
  },
  {
   "cell_type": "code",
   "execution_count": 224,
   "id": "5c559d27",
   "metadata": {},
   "outputs": [
    {
     "data": {
      "text/plain": [
       "tuple"
      ]
     },
     "execution_count": 224,
     "metadata": {},
     "output_type": "execute_result"
    }
   ],
   "source": [
    "# 튜플은 괄호 생략 가능\n",
    "t = 1, 2, 3, 4\n",
    "type(t)"
   ]
  },
  {
   "cell_type": "code",
   "execution_count": 225,
   "id": "24dc1104",
   "metadata": {},
   "outputs": [
    {
     "ename": "TypeError",
     "evalue": "'tuple' object does not support item assignment",
     "output_type": "error",
     "traceback": [
      "\u001b[1;31m---------------------------------------------------------------------------\u001b[0m",
      "\u001b[1;31mTypeError\u001b[0m                                 Traceback (most recent call last)",
      "Cell \u001b[1;32mIn[225], line 4\u001b[0m\n\u001b[0;32m      1\u001b[0m \u001b[38;5;66;03m# 변수 t가 ('A', 'b', 'c') 튜플을 가리키도록 수정\u001b[39;00m\n\u001b[0;32m      2\u001b[0m t \u001b[38;5;241m=\u001b[39m (\u001b[38;5;124m'\u001b[39m\u001b[38;5;124ma\u001b[39m\u001b[38;5;124m'\u001b[39m, \u001b[38;5;124m'\u001b[39m\u001b[38;5;124mb\u001b[39m\u001b[38;5;124m'\u001b[39m, \u001b[38;5;124m'\u001b[39m\u001b[38;5;124mc\u001b[39m\u001b[38;5;124m'\u001b[39m)\n\u001b[1;32m----> 4\u001b[0m t[\u001b[38;5;241m0\u001b[39m] \u001b[38;5;241m=\u001b[39m \u001b[38;5;124m'\u001b[39m\u001b[38;5;124mA\u001b[39m\u001b[38;5;124m'\u001b[39m\n",
      "\u001b[1;31mTypeError\u001b[0m: 'tuple' object does not support item assignment"
     ]
    }
   ],
   "source": [
    "# 변수 t가 ('A', 'b', 'c') 튜플을 가리키도록 수정\n",
    "t = ('a', 'b', 'c')\n",
    "\n",
    "t[0] = 'A'  # 코드에러 원인 : 튜플은 수정이 불가하다"
   ]
  },
  {
   "cell_type": "code",
   "execution_count": 246,
   "id": "720c1d28",
   "metadata": {},
   "outputs": [
    {
     "data": {
      "text/plain": [
       "list"
      ]
     },
     "execution_count": 246,
     "metadata": {},
     "output_type": "execute_result"
    }
   ],
   "source": [
    "# 튜플 -> 리스트\n",
    "interest = ('삼성전자', 'LG전자', 'SK Hynix')\n",
    "\n",
    "data = list(interest)\n",
    "type(data)"
   ]
  },
  {
   "cell_type": "code",
   "execution_count": 247,
   "id": "61e482ae",
   "metadata": {},
   "outputs": [
    {
     "ename": "TypeError",
     "evalue": "'tuple' object is not callable",
     "output_type": "error",
     "traceback": [
      "\u001b[1;31m---------------------------------------------------------------------------\u001b[0m",
      "\u001b[1;31mTypeError\u001b[0m                                 Traceback (most recent call last)",
      "Cell \u001b[1;32mIn[247], line 5\u001b[0m\n\u001b[0;32m      1\u001b[0m \u001b[38;5;66;03m# 78 번\u001b[39;00m\n\u001b[0;32m      2\u001b[0m \u001b[38;5;66;03m# 리스트 -> 튜플\u001b[39;00m\n\u001b[0;32m      3\u001b[0m interest \u001b[38;5;241m=\u001b[39m [\u001b[38;5;124m'\u001b[39m\u001b[38;5;124m삼성전자\u001b[39m\u001b[38;5;124m'\u001b[39m, \u001b[38;5;124m'\u001b[39m\u001b[38;5;124mLG전자\u001b[39m\u001b[38;5;124m'\u001b[39m, \u001b[38;5;124m'\u001b[39m\u001b[38;5;124mSK Hynix\u001b[39m\u001b[38;5;124m'\u001b[39m]\n\u001b[1;32m----> 5\u001b[0m data \u001b[38;5;241m=\u001b[39m \u001b[38;5;28;43mtuple\u001b[39;49m\u001b[43m(\u001b[49m\u001b[43minterest\u001b[49m\u001b[43m)\u001b[49m\n\u001b[0;32m      6\u001b[0m \u001b[38;5;28mprint\u001b[39m(data)\n",
      "\u001b[1;31mTypeError\u001b[0m: 'tuple' object is not callable"
     ]
    }
   ],
   "source": [
    "# 78 번\n",
    "# 리스트 -> 튜플\n",
    "interest = ['삼성전자', 'LG전자', 'SK Hynix']\n",
    "\n",
    "data = tuple(interest)\n",
    "print(data)"
   ]
  },
  {
   "cell_type": "code",
   "execution_count": 231,
   "id": "5c845d32",
   "metadata": {},
   "outputs": [
    {
     "name": "stdout",
     "output_type": "stream",
     "text": [
      "apple banana cake\n"
     ]
    }
   ],
   "source": [
    "# 튜플 언팩킹\n",
    "temp = ('apple', 'banana', 'cake')\n",
    "a, b, c = temp\n",
    "print(a, b, c)"
   ]
  },
  {
   "cell_type": "code",
   "execution_count": 244,
   "id": "51136ea9",
   "metadata": {},
   "outputs": [
    {
     "ename": "TypeError",
     "evalue": "'tuple' object is not callable",
     "output_type": "error",
     "traceback": [
      "\u001b[1;31m---------------------------------------------------------------------------\u001b[0m",
      "\u001b[1;31mTypeError\u001b[0m                                 Traceback (most recent call last)",
      "Cell \u001b[1;32mIn[244], line 4\u001b[0m\n\u001b[0;32m      1\u001b[0m \u001b[38;5;66;03m# range 함수 \u001b[39;00m\n\u001b[0;32m      2\u001b[0m \u001b[38;5;66;03m# 1부터 99까지의 정수 중 짝수만 저장된 튜플 생성\u001b[39;00m\n\u001b[1;32m----> 4\u001b[0m even_num \u001b[38;5;241m=\u001b[39m \u001b[38;5;28;43mtuple\u001b[39;49m\u001b[43m(\u001b[49m\u001b[38;5;28;43mrange\u001b[39;49m\u001b[43m(\u001b[49m\u001b[38;5;241;43m2\u001b[39;49m\u001b[43m,\u001b[49m\u001b[43m \u001b[49m\u001b[38;5;241;43m100\u001b[39;49m\u001b[43m,\u001b[49m\u001b[43m \u001b[49m\u001b[38;5;241;43m2\u001b[39;49m\u001b[43m)\u001b[49m\u001b[43m)\u001b[49m\n\u001b[0;32m      5\u001b[0m \u001b[38;5;28mprint\u001b[39m(even_num)\n",
      "\u001b[1;31mTypeError\u001b[0m: 'tuple' object is not callable"
     ]
    }
   ],
   "source": [
    "# range 함수 \n",
    "# 1부터 99까지의 정수 중 짝수만 저장된 튜플 생성\n",
    "\n",
    "even_num = tuple(range(2, 100, 2))\n",
    "print(even_num)"
   ]
  },
  {
   "cell_type": "code",
   "execution_count": null,
   "id": "6f2e1115",
   "metadata": {},
   "outputs": [],
   "source": []
  },
  {
   "cell_type": "code",
   "execution_count": null,
   "id": "cd3d1d12",
   "metadata": {},
   "outputs": [],
   "source": []
  }
 ],
 "metadata": {
  "kernelspec": {
   "display_name": "Python 3 (ipykernel)",
   "language": "python",
   "name": "python3"
  },
  "language_info": {
   "codemirror_mode": {
    "name": "ipython",
    "version": 3
   },
   "file_extension": ".py",
   "mimetype": "text/x-python",
   "name": "python",
   "nbconvert_exporter": "python",
   "pygments_lexer": "ipython3",
   "version": "3.8.18"
  },
  "toc": {
   "base_numbering": 1,
   "nav_menu": {},
   "number_sections": true,
   "sideBar": true,
   "skip_h1_title": false,
   "title_cell": "Table of Contents",
   "title_sidebar": "Contents",
   "toc_cell": false,
   "toc_position": {},
   "toc_section_display": true,
   "toc_window_display": false
  }
 },
 "nbformat": 4,
 "nbformat_minor": 5
}
