{
 "cells": [
  {
   "cell_type": "markdown",
   "id": "6b3b62e0",
   "metadata": {},
   "source": [
    "# 실습 내용\n",
    "- https://www.notion.so/231213-Selenium-a3e6d11827594c8a959c105e17073687"
   ]
  },
  {
   "cell_type": "markdown",
   "id": "b348c203",
   "metadata": {},
   "source": [
    "## 원티드에 접속하여 서울에 있는 PM 채용 공고를 스크래핑하기\n",
    "- 1. 원티드 PM 채용 공고 홈페이지에 접속한다 (https://www.wanted.co.kr/wdlist/507/559?country=kr&job_sort=job.latest_order&years=-1&locations=seoul.all)\n",
    "- 2. 화면에 보이는 채용 공고 정보를 받아온다.\n",
    "- 3. 채용 공고를 하나하나 접속해서 채용 공고에 있는 회사, 직무 정보를 추출한다. (advanced 과제: 자격 요건, 위치 정보까지 찾아 저장하기 + 이미지도 따로 찾아 저장하기)\n",
    "- 4. 엑셀 파일로 저장한다."
   ]
  },
  {
   "cell_type": "code",
   "execution_count": 3,
   "id": "fbcb2a89",
   "metadata": {},
   "outputs": [
    {
     "name": "stderr",
     "output_type": "stream",
     "text": [
      "C:\\Users\\Jiyoung\\AppData\\Local\\Temp\\ipykernel_19656\\1074423603.py:22: DeprecationWarning: executable_path has been deprecated, please pass in a Service object\n",
      "  driver = webdriver.Chrome(executable_path=\"C:/Users/Jiyoung/Documents/workspace/chromedriver.exe\")\n"
     ]
    },
    {
     "name": "stdout",
     "output_type": "stream",
     "text": [
      "----------데이터 추출 완료----------\n",
      "----------파일 저장 완료----------\n"
     ]
    }
   ],
   "source": [
    "# 모듈을 가져오고 브라우저 옵션 정의하기\n",
    "from bs4 import BeautifulSoup\n",
    "from selenium import webdriver\n",
    "from selenium.webdriver.common.by import By\n",
    "from selenium.webdriver.common.keys import Keys\n",
    "from selenium.webdriver.chrome.options import Options\n",
    "import math, time, os, pandas as pd, urllib.request\n",
    "\n",
    "options = Options()\n",
    "options.add_argument('--window-size=1800,1047')\n",
    "options.add_argument('--window-position=0,0')\n",
    "options.add_experimental_option(\"detach\", True)\n",
    "\n",
    "# 폴더 이름 정하고 폴더 생성하기\n",
    "now = time.localtime()\n",
    "date_format = '%04d%02d%02d'%(now.tm_year, now.tm_mon, now.tm_mday)\n",
    "f_dir = f'{os.getcwd()}\\\\채용공고_{date_format}'\n",
    "os.makedirs(f_dir)\n",
    "\n",
    "# 브라우저 실행하기\n",
    "URL = 'https://www.wanted.co.kr/wdlist/507/559?country=kr&job_sort=job.latest_order&years=-1&locations=seoul.all'\n",
    "driver = webdriver.Chrome(executable_path=\"C:/Users/Jiyoung/Documents/workspace/chromedriver.exe\")\n",
    "#driver = webdriver.Chrome(options=options)\n",
    "driver.get(URL)\n",
    "time.sleep(2)\n",
    "\n",
    "jobDescription = {\n",
    "    \"회사\":[],\n",
    "    \"직무\":[]\n",
    "}\n",
    "\n",
    "#채용 정보를 받아 저장하는 함수 만들기\n",
    "def getJobDescription() :\n",
    "    driver.execute_script(\"window.scrollTo(0, 400)\")\n",
    "    for i in range(1,12): # 채용 공고의 수는 임의로 12개로 제한 (공고 중간에 삽입되어 있는 광고 때문에...)\n",
    "        jd = driver.find_element(By.XPATH,f\"/html/body/div[1]/div[3]/div/div/div[4]/ul/li[{i}]/div/a/div/div[1]\")\n",
    "        jd.click()\n",
    "        time.sleep(2)\n",
    "        \n",
    "        html = driver.page_source\n",
    "        html_dom = BeautifulSoup(html, 'lxml')\n",
    "        \n",
    "        title = html_dom.find('h2').text\n",
    "        company = driver.find_element(By.XPATH,\"/html/body/div[1]/div[3]/div[1]/div[1]/div[1]/section[2]/div[1]/h6/a\").text\n",
    "\n",
    "        jobDescription[\"회사\"].append(company)\n",
    "        jobDescription[\"직무\"].append(title)\n",
    "\n",
    "        driver.back()\n",
    "        time.sleep(2)\n",
    "        if i%4 == 0:\n",
    "            driver.execute_script(\"window.scrollTo(0, 900)\") # 원티드 구조 : 상세페이지에서 뒤로가기 할 때마다 자동으로 '새로고침' 기능 작동\n",
    "    print(\"----------데이터 추출 완료----------\")\n",
    "\n",
    "#채용 정보를 파일로 저장하는 함수 만들기\n",
    "def exportToExcel():\n",
    "    df = pd.DataFrame(jobDescription)\n",
    "    filename = f'채용공고_{date_format}.xlsx'\n",
    "    df.to_excel(f_dir+'\\\\'+filename)\n",
    "    print(\"----------파일 저장 완료----------\")\n",
    "\n",
    "#함수 실행하기\n",
    "getJobDescription()\n",
    "exportToExcel()"
   ]
  },
  {
   "cell_type": "code",
   "execution_count": 5,
   "id": "ffa85641",
   "metadata": {},
   "outputs": [],
   "source": [
    "driver.quit()"
   ]
  },
  {
   "cell_type": "markdown",
   "id": "1f0c0222",
   "metadata": {},
   "source": [
    "## 풀지 못한 문제점\n",
    "- 페이지 최하단에 있는 위치 정보를 가져오기 실패\n",
    "- 채용정보 사이에 삽입되어 있는 '광고창'을 뛰어넘어서 수집을 이어갈 수 없었음 \n",
    "    - 공고 4개씩 * 3행 + 광고배너(가로길이 full) + 공고 4개씩 * 3행 ... 형식\n",
    "- 스크래핑을 못하게 막아놓은 느낌이 들었음\n",
    "- BeautifulSoup을 이용해서 찾아도, Selenium을 이용해서 찾아도 계속 문제가 발생\n",
    "    - BeatifulSoup = CSS selector 값을 찾아 find나 select 메서드로 데이터를 받아오면 빈데이터가 받아짐\n",
    "    - Selenium = 요소의 위치 자체를 못 찾음. 위치를 못 찾으니 execute_script(”arguments[0].scrollIntoView()”)로 스크롤을 내리는 것도 안 됨"
   ]
  }
 ],
 "metadata": {
  "kernelspec": {
   "display_name": "Python 3 (ipykernel)",
   "language": "python",
   "name": "python3"
  },
  "language_info": {
   "codemirror_mode": {
    "name": "ipython",
    "version": 3
   },
   "file_extension": ".py",
   "mimetype": "text/x-python",
   "name": "python",
   "nbconvert_exporter": "python",
   "pygments_lexer": "ipython3",
   "version": "3.8.18"
  },
  "toc": {
   "base_numbering": 1,
   "nav_menu": {},
   "number_sections": true,
   "sideBar": true,
   "skip_h1_title": false,
   "title_cell": "Table of Contents",
   "title_sidebar": "Contents",
   "toc_cell": false,
   "toc_position": {},
   "toc_section_display": true,
   "toc_window_display": false
  }
 },
 "nbformat": 4,
 "nbformat_minor": 5
}
