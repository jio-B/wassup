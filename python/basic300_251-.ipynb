{
 "cells": [
  {
   "cell_type": "markdown",
   "id": "f694dfa2",
   "metadata": {},
   "source": [
    "## 251-260\n",
    "- https://wikidocs.net/7035"
   ]
  },
  {
   "cell_type": "markdown",
   "id": "64d6f178",
   "metadata": {},
   "source": [
    "#251\n",
    "- 객체 : 클래스로 만들어진 결과물\n",
    "- 클래스 : 특정 데이터, 함수의 집합"
   ]
  },
  {
   "cell_type": "code",
   "execution_count": 1,
   "id": "12a9893d",
   "metadata": {},
   "outputs": [],
   "source": [
    "#252\n",
    " \n",
    "class Human:\n",
    "    pass"
   ]
  },
  {
   "cell_type": "code",
   "execution_count": 2,
   "id": "3d9363b8",
   "metadata": {},
   "outputs": [],
   "source": [
    "#253\n",
    "\n",
    "class Human:\n",
    "    pass\n",
    "\n",
    "areum = Human()"
   ]
  },
  {
   "cell_type": "code",
   "execution_count": 4,
   "id": "10eb67ad",
   "metadata": {},
   "outputs": [
    {
     "name": "stdout",
     "output_type": "stream",
     "text": [
      "응애응애\n"
     ]
    }
   ],
   "source": [
    "#254\n",
    "\n",
    "class Human:\n",
    "    def __init__(self):\n",
    "        print('응애응애')\n",
    "        \n",
    "areum = Human()        "
   ]
  },
  {
   "cell_type": "code",
   "execution_count": 3,
   "id": "9f53006b",
   "metadata": {},
   "outputs": [
    {
     "name": "stdout",
     "output_type": "stream",
     "text": [
      "아름\n"
     ]
    }
   ],
   "source": [
    "#255\n",
    "\n",
    "class Human:\n",
    "    def __init__(self, name, age, sex):\n",
    "        self.name = name\n",
    "        self.age = age\n",
    "        self.sex = sex\n",
    "        \n",
    "areum = Human(\"아름\", 25, \"여자\")\n",
    "print(areum.name)"
   ]
  },
  {
   "cell_type": "code",
   "execution_count": 8,
   "id": "f5123d4c",
   "metadata": {},
   "outputs": [
    {
     "data": {
      "text/plain": [
       "'조아름'"
      ]
     },
     "execution_count": 8,
     "metadata": {},
     "output_type": "execute_result"
    }
   ],
   "source": [
    "#256\n",
    "class Human:\n",
    "    def __init__(self, name, age, sex):\n",
    "        self.name = name\n",
    "        self.age = age\n",
    "        self.sex = sex\n",
    "        \n",
    "areum = Human('조아름', 25, '여자')\n",
    "\n",
    "areum.name"
   ]
  },
  {
   "cell_type": "code",
   "execution_count": 12,
   "id": "62c4e52f",
   "metadata": {},
   "outputs": [],
   "source": [
    "#257\n",
    "\n",
    "class Human:\n",
    "    def __init__(self, name, age, sex):\n",
    "        self.name = name\n",
    "        self.age = age\n",
    "        self.sex = sex\n",
    "        \n",
    "    def who(self):     \n",
    "        print(\"이름: {}, 나이: {}, 성별: {}\".format(self.name, self.age, self.sex))\n",
    "\n",
    "areum = Human('조아름', 25, '여자')        "
   ]
  },
  {
   "cell_type": "code",
   "execution_count": 13,
   "id": "066e6833",
   "metadata": {},
   "outputs": [
    {
     "name": "stdout",
     "output_type": "stream",
     "text": [
      "이름: 조아름, 나이: 25, 성별: 여자\n"
     ]
    }
   ],
   "source": [
    "areum.who()"
   ]
  },
  {
   "cell_type": "code",
   "execution_count": 16,
   "id": "5b75a740",
   "metadata": {},
   "outputs": [
    {
     "name": "stdout",
     "output_type": "stream",
     "text": [
      "이름: 불명, 나이: 미상, 성별: 모름\n"
     ]
    }
   ],
   "source": [
    "#258\n",
    "\n",
    "class Human:\n",
    "    def __init__(self, name, age, sex):\n",
    "        self.name = name\n",
    "        self.age = age\n",
    "        self.sex = sex\n",
    "    \n",
    "    def who(self):     \n",
    "        print(\"이름: {}, 나이: {}, 성별: {}\".format(self.name, self.age, self.sex))\n",
    "    \n",
    "    def setInfo(self, name, age, sex):\n",
    "        self.name = name\n",
    "        self.age = age\n",
    "        self.sex = sex\n",
    "        \n",
    "areum = Human(\"불명\", \"미상\", \"모름\")\n",
    "areum.who() "
   ]
  },
  {
   "cell_type": "code",
   "execution_count": 19,
   "id": "c2c37018",
   "metadata": {},
   "outputs": [
    {
     "name": "stdout",
     "output_type": "stream",
     "text": [
      "이름: 아름, 나이: 25, 성별: 여자\n"
     ]
    }
   ],
   "source": [
    "areum.setInfo(\"아름\", 25, \"여자\")\n",
    "areum.who()"
   ]
  },
  {
   "cell_type": "code",
   "execution_count": 21,
   "id": "85a27bfb",
   "metadata": {},
   "outputs": [],
   "source": [
    "#259 클래스 소멸자......?\n"
   ]
  },
  {
   "cell_type": "code",
   "execution_count": 25,
   "id": "eb598e10",
   "metadata": {},
   "outputs": [],
   "source": [
    "#260\n",
    "\n",
    "class OMG : \n",
    "    def print() :\n",
    "        print(\"Oh my god\")\n",
    "\n",
    "# 클래스 인스턴스는 첫번째 인자로 자신의 인스턴스를 나타내는 'self'를 자동으로 받음\n",
    "# 그러나 위의 코드의 메서드는 self 인자를 받고 있지 않음"
   ]
  },
  {
   "cell_type": "code",
   "execution_count": 26,
   "id": "4024c1b4",
   "metadata": {},
   "outputs": [
    {
     "ename": "TypeError",
     "evalue": "print() takes 0 positional arguments but 1 was given",
     "output_type": "error",
     "traceback": [
      "\u001b[1;31m---------------------------------------------------------------------------\u001b[0m",
      "\u001b[1;31mTypeError\u001b[0m                                 Traceback (most recent call last)",
      "Cell \u001b[1;32mIn[26], line 2\u001b[0m\n\u001b[0;32m      1\u001b[0m mystock \u001b[38;5;241m=\u001b[39m OMG()\n\u001b[1;32m----> 2\u001b[0m \u001b[43mmystock\u001b[49m\u001b[38;5;241;43m.\u001b[39;49m\u001b[43mprint\u001b[49m\u001b[43m(\u001b[49m\u001b[43m)\u001b[49m\n",
      "\u001b[1;31mTypeError\u001b[0m: print() takes 0 positional arguments but 1 was given"
     ]
    }
   ],
   "source": [
    "mystock = OMG()\n",
    "mystock.print()      "
   ]
  },
  {
   "cell_type": "code",
   "execution_count": 27,
   "id": "bf328ca3",
   "metadata": {},
   "outputs": [],
   "source": [
    "#260 코드 수정\n",
    "\n",
    "class OMG: \n",
    "    def print(self):  # self 인자 추가\n",
    "        print(\"Oh my god\")"
   ]
  },
  {
   "cell_type": "code",
   "execution_count": 28,
   "id": "a2c486bf",
   "metadata": {},
   "outputs": [
    {
     "name": "stdout",
     "output_type": "stream",
     "text": [
      "Oh my god\n"
     ]
    }
   ],
   "source": [
    "mystock = OMG()\n",
    "mystock.print()      # OMG.print(mystock)"
   ]
  },
  {
   "cell_type": "markdown",
   "id": "b35dd0de",
   "metadata": {},
   "source": [
    "## 261-270\n",
    "- https://wikidocs.net/7036"
   ]
  },
  {
   "cell_type": "code",
   "execution_count": null,
   "id": "0576230f",
   "metadata": {},
   "outputs": [],
   "source": [
    "#261\n"
   ]
  },
  {
   "cell_type": "code",
   "execution_count": null,
   "id": "5f00ab81",
   "metadata": {},
   "outputs": [],
   "source": []
  },
  {
   "cell_type": "code",
   "execution_count": null,
   "id": "24a736ca",
   "metadata": {},
   "outputs": [],
   "source": []
  },
  {
   "cell_type": "code",
   "execution_count": null,
   "id": "28194d93",
   "metadata": {},
   "outputs": [],
   "source": []
  },
  {
   "cell_type": "code",
   "execution_count": null,
   "id": "20144523",
   "metadata": {},
   "outputs": [],
   "source": []
  },
  {
   "cell_type": "code",
   "execution_count": null,
   "id": "c8a70918",
   "metadata": {},
   "outputs": [],
   "source": []
  },
  {
   "cell_type": "markdown",
   "id": "80ccbb09",
   "metadata": {},
   "source": [
    "## 281-290\n",
    "- https://wikidocs.net/7041"
   ]
  },
  {
   "cell_type": "code",
   "execution_count": null,
   "id": "0e2b5a6a",
   "metadata": {},
   "outputs": [],
   "source": [
    "#281"
   ]
  },
  {
   "cell_type": "code",
   "execution_count": null,
   "id": "aa131a5e",
   "metadata": {},
   "outputs": [],
   "source": []
  },
  {
   "cell_type": "code",
   "execution_count": null,
   "id": "0aa97deb",
   "metadata": {},
   "outputs": [],
   "source": []
  },
  {
   "cell_type": "code",
   "execution_count": null,
   "id": "ba63115f",
   "metadata": {},
   "outputs": [],
   "source": []
  },
  {
   "cell_type": "code",
   "execution_count": null,
   "id": "3ab53b60",
   "metadata": {},
   "outputs": [],
   "source": []
  },
  {
   "cell_type": "code",
   "execution_count": null,
   "id": "e2ecf9a1",
   "metadata": {},
   "outputs": [],
   "source": []
  },
  {
   "cell_type": "markdown",
   "id": "5d7cff75",
   "metadata": {},
   "source": [
    "## 291-300\n",
    "- https://wikidocs.net/7044"
   ]
  },
  {
   "cell_type": "code",
   "execution_count": 30,
   "id": "5b83c855",
   "metadata": {},
   "outputs": [],
   "source": [
    "#291"
   ]
  },
  {
   "cell_type": "code",
   "execution_count": null,
   "id": "41e32558",
   "metadata": {},
   "outputs": [],
   "source": []
  },
  {
   "cell_type": "code",
   "execution_count": null,
   "id": "81e24a4b",
   "metadata": {},
   "outputs": [],
   "source": []
  },
  {
   "cell_type": "code",
   "execution_count": null,
   "id": "6e1b7cd3",
   "metadata": {},
   "outputs": [],
   "source": []
  },
  {
   "cell_type": "code",
   "execution_count": null,
   "id": "c3020959",
   "metadata": {},
   "outputs": [],
   "source": []
  },
  {
   "cell_type": "code",
   "execution_count": null,
   "id": "e43928d4",
   "metadata": {},
   "outputs": [],
   "source": []
  }
 ],
 "metadata": {
  "kernelspec": {
   "display_name": "Python 3 (ipykernel)",
   "language": "python",
   "name": "python3"
  },
  "language_info": {
   "codemirror_mode": {
    "name": "ipython",
    "version": 3
   },
   "file_extension": ".py",
   "mimetype": "text/x-python",
   "name": "python",
   "nbconvert_exporter": "python",
   "pygments_lexer": "ipython3",
   "version": "3.8.18"
  },
  "toc": {
   "base_numbering": 1,
   "nav_menu": {},
   "number_sections": true,
   "sideBar": true,
   "skip_h1_title": false,
   "title_cell": "Table of Contents",
   "title_sidebar": "Contents",
   "toc_cell": false,
   "toc_position": {},
   "toc_section_display": true,
   "toc_window_display": false
  }
 },
 "nbformat": 4,
 "nbformat_minor": 5
}
